{
  "nbformat": 4,
  "nbformat_minor": 0,
  "metadata": {
    "colab": {
      "provenance": [],
      "collapsed_sections": [
        "ul6UwdeGBI2w"
      ],
      "gpuType": "T4",
      "authorship_tag": "ABX9TyM6DM6hRVbthOHnfEhVQQma",
      "include_colab_link": true
    },
    "kernelspec": {
      "name": "python3",
      "display_name": "Python 3"
    },
    "language_info": {
      "name": "python"
    },
    "accelerator": "GPU",
    "widgets": {
      "application/vnd.jupyter.widget-state+json": {
        "50392a558df14fb6a867748119564f6b": {
          "model_module": "@jupyter-widgets/controls",
          "model_name": "HBoxModel",
          "model_module_version": "1.5.0",
          "state": {
            "_dom_classes": [],
            "_model_module": "@jupyter-widgets/controls",
            "_model_module_version": "1.5.0",
            "_model_name": "HBoxModel",
            "_view_count": null,
            "_view_module": "@jupyter-widgets/controls",
            "_view_module_version": "1.5.0",
            "_view_name": "HBoxView",
            "box_style": "",
            "children": [
              "IPY_MODEL_766ac0d1004346388db2539cc0b10e51",
              "IPY_MODEL_dadc62832bd74c10b9b1d11dffe18439",
              "IPY_MODEL_458a9b8554fc4af0a87e6cebbca6dd9a"
            ],
            "layout": "IPY_MODEL_3278928c8cfe4356ab9624d72534fa53"
          }
        },
        "766ac0d1004346388db2539cc0b10e51": {
          "model_module": "@jupyter-widgets/controls",
          "model_name": "HTMLModel",
          "model_module_version": "1.5.0",
          "state": {
            "_dom_classes": [],
            "_model_module": "@jupyter-widgets/controls",
            "_model_module_version": "1.5.0",
            "_model_name": "HTMLModel",
            "_view_count": null,
            "_view_module": "@jupyter-widgets/controls",
            "_view_module_version": "1.5.0",
            "_view_name": "HTMLView",
            "description": "",
            "description_tooltip": null,
            "layout": "IPY_MODEL_8f437c72459c493eb79817812fe552be",
            "placeholder": "​",
            "style": "IPY_MODEL_6d23cf87a46b4cfdbd93b3cae5178d4a",
            "value": "Downloading https://raw.githubusercontent.com/stanfordnlp/stanza-resources/main/resources_1.10.0.json: "
          }
        },
        "dadc62832bd74c10b9b1d11dffe18439": {
          "model_module": "@jupyter-widgets/controls",
          "model_name": "FloatProgressModel",
          "model_module_version": "1.5.0",
          "state": {
            "_dom_classes": [],
            "_model_module": "@jupyter-widgets/controls",
            "_model_module_version": "1.5.0",
            "_model_name": "FloatProgressModel",
            "_view_count": null,
            "_view_module": "@jupyter-widgets/controls",
            "_view_module_version": "1.5.0",
            "_view_name": "ProgressView",
            "bar_style": "success",
            "description": "",
            "description_tooltip": null,
            "layout": "IPY_MODEL_4e9306f6e7d643fdaade50594afe4da5",
            "max": 53050,
            "min": 0,
            "orientation": "horizontal",
            "style": "IPY_MODEL_1589dff80ac0466489439488fb0ee3ed",
            "value": 53050
          }
        },
        "458a9b8554fc4af0a87e6cebbca6dd9a": {
          "model_module": "@jupyter-widgets/controls",
          "model_name": "HTMLModel",
          "model_module_version": "1.5.0",
          "state": {
            "_dom_classes": [],
            "_model_module": "@jupyter-widgets/controls",
            "_model_module_version": "1.5.0",
            "_model_name": "HTMLModel",
            "_view_count": null,
            "_view_module": "@jupyter-widgets/controls",
            "_view_module_version": "1.5.0",
            "_view_name": "HTMLView",
            "description": "",
            "description_tooltip": null,
            "layout": "IPY_MODEL_fbebbb0f4e4e4f85ad7460cb6c11516f",
            "placeholder": "​",
            "style": "IPY_MODEL_a29701b893af468187d0f3f28905fbcc",
            "value": " 428k/? [00:00&lt;00:00, 25.8MB/s]"
          }
        },
        "3278928c8cfe4356ab9624d72534fa53": {
          "model_module": "@jupyter-widgets/base",
          "model_name": "LayoutModel",
          "model_module_version": "1.2.0",
          "state": {
            "_model_module": "@jupyter-widgets/base",
            "_model_module_version": "1.2.0",
            "_model_name": "LayoutModel",
            "_view_count": null,
            "_view_module": "@jupyter-widgets/base",
            "_view_module_version": "1.2.0",
            "_view_name": "LayoutView",
            "align_content": null,
            "align_items": null,
            "align_self": null,
            "border": null,
            "bottom": null,
            "display": null,
            "flex": null,
            "flex_flow": null,
            "grid_area": null,
            "grid_auto_columns": null,
            "grid_auto_flow": null,
            "grid_auto_rows": null,
            "grid_column": null,
            "grid_gap": null,
            "grid_row": null,
            "grid_template_areas": null,
            "grid_template_columns": null,
            "grid_template_rows": null,
            "height": null,
            "justify_content": null,
            "justify_items": null,
            "left": null,
            "margin": null,
            "max_height": null,
            "max_width": null,
            "min_height": null,
            "min_width": null,
            "object_fit": null,
            "object_position": null,
            "order": null,
            "overflow": null,
            "overflow_x": null,
            "overflow_y": null,
            "padding": null,
            "right": null,
            "top": null,
            "visibility": null,
            "width": null
          }
        },
        "8f437c72459c493eb79817812fe552be": {
          "model_module": "@jupyter-widgets/base",
          "model_name": "LayoutModel",
          "model_module_version": "1.2.0",
          "state": {
            "_model_module": "@jupyter-widgets/base",
            "_model_module_version": "1.2.0",
            "_model_name": "LayoutModel",
            "_view_count": null,
            "_view_module": "@jupyter-widgets/base",
            "_view_module_version": "1.2.0",
            "_view_name": "LayoutView",
            "align_content": null,
            "align_items": null,
            "align_self": null,
            "border": null,
            "bottom": null,
            "display": null,
            "flex": null,
            "flex_flow": null,
            "grid_area": null,
            "grid_auto_columns": null,
            "grid_auto_flow": null,
            "grid_auto_rows": null,
            "grid_column": null,
            "grid_gap": null,
            "grid_row": null,
            "grid_template_areas": null,
            "grid_template_columns": null,
            "grid_template_rows": null,
            "height": null,
            "justify_content": null,
            "justify_items": null,
            "left": null,
            "margin": null,
            "max_height": null,
            "max_width": null,
            "min_height": null,
            "min_width": null,
            "object_fit": null,
            "object_position": null,
            "order": null,
            "overflow": null,
            "overflow_x": null,
            "overflow_y": null,
            "padding": null,
            "right": null,
            "top": null,
            "visibility": null,
            "width": null
          }
        },
        "6d23cf87a46b4cfdbd93b3cae5178d4a": {
          "model_module": "@jupyter-widgets/controls",
          "model_name": "DescriptionStyleModel",
          "model_module_version": "1.5.0",
          "state": {
            "_model_module": "@jupyter-widgets/controls",
            "_model_module_version": "1.5.0",
            "_model_name": "DescriptionStyleModel",
            "_view_count": null,
            "_view_module": "@jupyter-widgets/base",
            "_view_module_version": "1.2.0",
            "_view_name": "StyleView",
            "description_width": ""
          }
        },
        "4e9306f6e7d643fdaade50594afe4da5": {
          "model_module": "@jupyter-widgets/base",
          "model_name": "LayoutModel",
          "model_module_version": "1.2.0",
          "state": {
            "_model_module": "@jupyter-widgets/base",
            "_model_module_version": "1.2.0",
            "_model_name": "LayoutModel",
            "_view_count": null,
            "_view_module": "@jupyter-widgets/base",
            "_view_module_version": "1.2.0",
            "_view_name": "LayoutView",
            "align_content": null,
            "align_items": null,
            "align_self": null,
            "border": null,
            "bottom": null,
            "display": null,
            "flex": null,
            "flex_flow": null,
            "grid_area": null,
            "grid_auto_columns": null,
            "grid_auto_flow": null,
            "grid_auto_rows": null,
            "grid_column": null,
            "grid_gap": null,
            "grid_row": null,
            "grid_template_areas": null,
            "grid_template_columns": null,
            "grid_template_rows": null,
            "height": null,
            "justify_content": null,
            "justify_items": null,
            "left": null,
            "margin": null,
            "max_height": null,
            "max_width": null,
            "min_height": null,
            "min_width": null,
            "object_fit": null,
            "object_position": null,
            "order": null,
            "overflow": null,
            "overflow_x": null,
            "overflow_y": null,
            "padding": null,
            "right": null,
            "top": null,
            "visibility": null,
            "width": null
          }
        },
        "1589dff80ac0466489439488fb0ee3ed": {
          "model_module": "@jupyter-widgets/controls",
          "model_name": "ProgressStyleModel",
          "model_module_version": "1.5.0",
          "state": {
            "_model_module": "@jupyter-widgets/controls",
            "_model_module_version": "1.5.0",
            "_model_name": "ProgressStyleModel",
            "_view_count": null,
            "_view_module": "@jupyter-widgets/base",
            "_view_module_version": "1.2.0",
            "_view_name": "StyleView",
            "bar_color": null,
            "description_width": ""
          }
        },
        "fbebbb0f4e4e4f85ad7460cb6c11516f": {
          "model_module": "@jupyter-widgets/base",
          "model_name": "LayoutModel",
          "model_module_version": "1.2.0",
          "state": {
            "_model_module": "@jupyter-widgets/base",
            "_model_module_version": "1.2.0",
            "_model_name": "LayoutModel",
            "_view_count": null,
            "_view_module": "@jupyter-widgets/base",
            "_view_module_version": "1.2.0",
            "_view_name": "LayoutView",
            "align_content": null,
            "align_items": null,
            "align_self": null,
            "border": null,
            "bottom": null,
            "display": null,
            "flex": null,
            "flex_flow": null,
            "grid_area": null,
            "grid_auto_columns": null,
            "grid_auto_flow": null,
            "grid_auto_rows": null,
            "grid_column": null,
            "grid_gap": null,
            "grid_row": null,
            "grid_template_areas": null,
            "grid_template_columns": null,
            "grid_template_rows": null,
            "height": null,
            "justify_content": null,
            "justify_items": null,
            "left": null,
            "margin": null,
            "max_height": null,
            "max_width": null,
            "min_height": null,
            "min_width": null,
            "object_fit": null,
            "object_position": null,
            "order": null,
            "overflow": null,
            "overflow_x": null,
            "overflow_y": null,
            "padding": null,
            "right": null,
            "top": null,
            "visibility": null,
            "width": null
          }
        },
        "a29701b893af468187d0f3f28905fbcc": {
          "model_module": "@jupyter-widgets/controls",
          "model_name": "DescriptionStyleModel",
          "model_module_version": "1.5.0",
          "state": {
            "_model_module": "@jupyter-widgets/controls",
            "_model_module_version": "1.5.0",
            "_model_name": "DescriptionStyleModel",
            "_view_count": null,
            "_view_module": "@jupyter-widgets/base",
            "_view_module_version": "1.2.0",
            "_view_name": "StyleView",
            "description_width": ""
          }
        },
        "0526567a000d443d9979f69615e91e1f": {
          "model_module": "@jupyter-widgets/controls",
          "model_name": "HBoxModel",
          "model_module_version": "1.5.0",
          "state": {
            "_dom_classes": [],
            "_model_module": "@jupyter-widgets/controls",
            "_model_module_version": "1.5.0",
            "_model_name": "HBoxModel",
            "_view_count": null,
            "_view_module": "@jupyter-widgets/controls",
            "_view_module_version": "1.5.0",
            "_view_name": "HBoxView",
            "box_style": "",
            "children": [
              "IPY_MODEL_f0c9901d8a024d9d9e14584155e3499a",
              "IPY_MODEL_c5dcae8326e74ebc8e916e71376dc488",
              "IPY_MODEL_278ef76830cb4ebdb5b093d470538e93"
            ],
            "layout": "IPY_MODEL_fa3b16e133b4448294cff506567657b1"
          }
        },
        "f0c9901d8a024d9d9e14584155e3499a": {
          "model_module": "@jupyter-widgets/controls",
          "model_name": "HTMLModel",
          "model_module_version": "1.5.0",
          "state": {
            "_dom_classes": [],
            "_model_module": "@jupyter-widgets/controls",
            "_model_module_version": "1.5.0",
            "_model_name": "HTMLModel",
            "_view_count": null,
            "_view_module": "@jupyter-widgets/controls",
            "_view_module_version": "1.5.0",
            "_view_name": "HTMLView",
            "description": "",
            "description_tooltip": null,
            "layout": "IPY_MODEL_53e110e341aa439ab20c5a128779e449",
            "placeholder": "​",
            "style": "IPY_MODEL_9d1f7f2d30ee4de2b1c66905ba7d2fde",
            "value": "Downloading https://huggingface.co/stanfordnlp/stanza-ar/resolve/v1.10.0/models/default.zip: 100%"
          }
        },
        "c5dcae8326e74ebc8e916e71376dc488": {
          "model_module": "@jupyter-widgets/controls",
          "model_name": "FloatProgressModel",
          "model_module_version": "1.5.0",
          "state": {
            "_dom_classes": [],
            "_model_module": "@jupyter-widgets/controls",
            "_model_module_version": "1.5.0",
            "_model_name": "FloatProgressModel",
            "_view_count": null,
            "_view_module": "@jupyter-widgets/controls",
            "_view_module_version": "1.5.0",
            "_view_name": "ProgressView",
            "bar_style": "success",
            "description": "",
            "description_tooltip": null,
            "layout": "IPY_MODEL_5b207d2aaa8a4d9abae7cedbf4e86848",
            "max": 459180714,
            "min": 0,
            "orientation": "horizontal",
            "style": "IPY_MODEL_d6e482a5ea1049d29f925abb52a3d8c9",
            "value": 459180714
          }
        },
        "278ef76830cb4ebdb5b093d470538e93": {
          "model_module": "@jupyter-widgets/controls",
          "model_name": "HTMLModel",
          "model_module_version": "1.5.0",
          "state": {
            "_dom_classes": [],
            "_model_module": "@jupyter-widgets/controls",
            "_model_module_version": "1.5.0",
            "_model_name": "HTMLModel",
            "_view_count": null,
            "_view_module": "@jupyter-widgets/controls",
            "_view_module_version": "1.5.0",
            "_view_name": "HTMLView",
            "description": "",
            "description_tooltip": null,
            "layout": "IPY_MODEL_f44711c466fb46eaaff2e59b6dc25276",
            "placeholder": "​",
            "style": "IPY_MODEL_3bc0ae17411a474780c65cfc42ca857d",
            "value": " 459M/459M [00:01&lt;00:00, 289MB/s]"
          }
        },
        "fa3b16e133b4448294cff506567657b1": {
          "model_module": "@jupyter-widgets/base",
          "model_name": "LayoutModel",
          "model_module_version": "1.2.0",
          "state": {
            "_model_module": "@jupyter-widgets/base",
            "_model_module_version": "1.2.0",
            "_model_name": "LayoutModel",
            "_view_count": null,
            "_view_module": "@jupyter-widgets/base",
            "_view_module_version": "1.2.0",
            "_view_name": "LayoutView",
            "align_content": null,
            "align_items": null,
            "align_self": null,
            "border": null,
            "bottom": null,
            "display": null,
            "flex": null,
            "flex_flow": null,
            "grid_area": null,
            "grid_auto_columns": null,
            "grid_auto_flow": null,
            "grid_auto_rows": null,
            "grid_column": null,
            "grid_gap": null,
            "grid_row": null,
            "grid_template_areas": null,
            "grid_template_columns": null,
            "grid_template_rows": null,
            "height": null,
            "justify_content": null,
            "justify_items": null,
            "left": null,
            "margin": null,
            "max_height": null,
            "max_width": null,
            "min_height": null,
            "min_width": null,
            "object_fit": null,
            "object_position": null,
            "order": null,
            "overflow": null,
            "overflow_x": null,
            "overflow_y": null,
            "padding": null,
            "right": null,
            "top": null,
            "visibility": null,
            "width": null
          }
        },
        "53e110e341aa439ab20c5a128779e449": {
          "model_module": "@jupyter-widgets/base",
          "model_name": "LayoutModel",
          "model_module_version": "1.2.0",
          "state": {
            "_model_module": "@jupyter-widgets/base",
            "_model_module_version": "1.2.0",
            "_model_name": "LayoutModel",
            "_view_count": null,
            "_view_module": "@jupyter-widgets/base",
            "_view_module_version": "1.2.0",
            "_view_name": "LayoutView",
            "align_content": null,
            "align_items": null,
            "align_self": null,
            "border": null,
            "bottom": null,
            "display": null,
            "flex": null,
            "flex_flow": null,
            "grid_area": null,
            "grid_auto_columns": null,
            "grid_auto_flow": null,
            "grid_auto_rows": null,
            "grid_column": null,
            "grid_gap": null,
            "grid_row": null,
            "grid_template_areas": null,
            "grid_template_columns": null,
            "grid_template_rows": null,
            "height": null,
            "justify_content": null,
            "justify_items": null,
            "left": null,
            "margin": null,
            "max_height": null,
            "max_width": null,
            "min_height": null,
            "min_width": null,
            "object_fit": null,
            "object_position": null,
            "order": null,
            "overflow": null,
            "overflow_x": null,
            "overflow_y": null,
            "padding": null,
            "right": null,
            "top": null,
            "visibility": null,
            "width": null
          }
        },
        "9d1f7f2d30ee4de2b1c66905ba7d2fde": {
          "model_module": "@jupyter-widgets/controls",
          "model_name": "DescriptionStyleModel",
          "model_module_version": "1.5.0",
          "state": {
            "_model_module": "@jupyter-widgets/controls",
            "_model_module_version": "1.5.0",
            "_model_name": "DescriptionStyleModel",
            "_view_count": null,
            "_view_module": "@jupyter-widgets/base",
            "_view_module_version": "1.2.0",
            "_view_name": "StyleView",
            "description_width": ""
          }
        },
        "5b207d2aaa8a4d9abae7cedbf4e86848": {
          "model_module": "@jupyter-widgets/base",
          "model_name": "LayoutModel",
          "model_module_version": "1.2.0",
          "state": {
            "_model_module": "@jupyter-widgets/base",
            "_model_module_version": "1.2.0",
            "_model_name": "LayoutModel",
            "_view_count": null,
            "_view_module": "@jupyter-widgets/base",
            "_view_module_version": "1.2.0",
            "_view_name": "LayoutView",
            "align_content": null,
            "align_items": null,
            "align_self": null,
            "border": null,
            "bottom": null,
            "display": null,
            "flex": null,
            "flex_flow": null,
            "grid_area": null,
            "grid_auto_columns": null,
            "grid_auto_flow": null,
            "grid_auto_rows": null,
            "grid_column": null,
            "grid_gap": null,
            "grid_row": null,
            "grid_template_areas": null,
            "grid_template_columns": null,
            "grid_template_rows": null,
            "height": null,
            "justify_content": null,
            "justify_items": null,
            "left": null,
            "margin": null,
            "max_height": null,
            "max_width": null,
            "min_height": null,
            "min_width": null,
            "object_fit": null,
            "object_position": null,
            "order": null,
            "overflow": null,
            "overflow_x": null,
            "overflow_y": null,
            "padding": null,
            "right": null,
            "top": null,
            "visibility": null,
            "width": null
          }
        },
        "d6e482a5ea1049d29f925abb52a3d8c9": {
          "model_module": "@jupyter-widgets/controls",
          "model_name": "ProgressStyleModel",
          "model_module_version": "1.5.0",
          "state": {
            "_model_module": "@jupyter-widgets/controls",
            "_model_module_version": "1.5.0",
            "_model_name": "ProgressStyleModel",
            "_view_count": null,
            "_view_module": "@jupyter-widgets/base",
            "_view_module_version": "1.2.0",
            "_view_name": "StyleView",
            "bar_color": null,
            "description_width": ""
          }
        },
        "f44711c466fb46eaaff2e59b6dc25276": {
          "model_module": "@jupyter-widgets/base",
          "model_name": "LayoutModel",
          "model_module_version": "1.2.0",
          "state": {
            "_model_module": "@jupyter-widgets/base",
            "_model_module_version": "1.2.0",
            "_model_name": "LayoutModel",
            "_view_count": null,
            "_view_module": "@jupyter-widgets/base",
            "_view_module_version": "1.2.0",
            "_view_name": "LayoutView",
            "align_content": null,
            "align_items": null,
            "align_self": null,
            "border": null,
            "bottom": null,
            "display": null,
            "flex": null,
            "flex_flow": null,
            "grid_area": null,
            "grid_auto_columns": null,
            "grid_auto_flow": null,
            "grid_auto_rows": null,
            "grid_column": null,
            "grid_gap": null,
            "grid_row": null,
            "grid_template_areas": null,
            "grid_template_columns": null,
            "grid_template_rows": null,
            "height": null,
            "justify_content": null,
            "justify_items": null,
            "left": null,
            "margin": null,
            "max_height": null,
            "max_width": null,
            "min_height": null,
            "min_width": null,
            "object_fit": null,
            "object_position": null,
            "order": null,
            "overflow": null,
            "overflow_x": null,
            "overflow_y": null,
            "padding": null,
            "right": null,
            "top": null,
            "visibility": null,
            "width": null
          }
        },
        "3bc0ae17411a474780c65cfc42ca857d": {
          "model_module": "@jupyter-widgets/controls",
          "model_name": "DescriptionStyleModel",
          "model_module_version": "1.5.0",
          "state": {
            "_model_module": "@jupyter-widgets/controls",
            "_model_module_version": "1.5.0",
            "_model_name": "DescriptionStyleModel",
            "_view_count": null,
            "_view_module": "@jupyter-widgets/base",
            "_view_module_version": "1.2.0",
            "_view_name": "StyleView",
            "description_width": ""
          }
        },
        "f5525371f29446109b59d28c3b16d673": {
          "model_module": "@jupyter-widgets/controls",
          "model_name": "HBoxModel",
          "model_module_version": "1.5.0",
          "state": {
            "_dom_classes": [],
            "_model_module": "@jupyter-widgets/controls",
            "_model_module_version": "1.5.0",
            "_model_name": "HBoxModel",
            "_view_count": null,
            "_view_module": "@jupyter-widgets/controls",
            "_view_module_version": "1.5.0",
            "_view_name": "HBoxView",
            "box_style": "",
            "children": [
              "IPY_MODEL_88ec1132126a401b92550cfac2f59f1b",
              "IPY_MODEL_b1c451b98fda4621adcf0bb178e10e7a",
              "IPY_MODEL_3f03235fc5cf4629abaeb04bcca2a9a8"
            ],
            "layout": "IPY_MODEL_d66c22a45b2f4e6299e2854d32c8312c"
          }
        },
        "88ec1132126a401b92550cfac2f59f1b": {
          "model_module": "@jupyter-widgets/controls",
          "model_name": "HTMLModel",
          "model_module_version": "1.5.0",
          "state": {
            "_dom_classes": [],
            "_model_module": "@jupyter-widgets/controls",
            "_model_module_version": "1.5.0",
            "_model_name": "HTMLModel",
            "_view_count": null,
            "_view_module": "@jupyter-widgets/controls",
            "_view_module_version": "1.5.0",
            "_view_name": "HTMLView",
            "description": "",
            "description_tooltip": null,
            "layout": "IPY_MODEL_0bcfb2d7fd674720b188d6c1a4e0de7d",
            "placeholder": "​",
            "style": "IPY_MODEL_93b68add3106479891327a7fd0da5a50",
            "value": "Downloading https://raw.githubusercontent.com/stanfordnlp/stanza-resources/main/resources_1.10.0.json: "
          }
        },
        "b1c451b98fda4621adcf0bb178e10e7a": {
          "model_module": "@jupyter-widgets/controls",
          "model_name": "FloatProgressModel",
          "model_module_version": "1.5.0",
          "state": {
            "_dom_classes": [],
            "_model_module": "@jupyter-widgets/controls",
            "_model_module_version": "1.5.0",
            "_model_name": "FloatProgressModel",
            "_view_count": null,
            "_view_module": "@jupyter-widgets/controls",
            "_view_module_version": "1.5.0",
            "_view_name": "ProgressView",
            "bar_style": "success",
            "description": "",
            "description_tooltip": null,
            "layout": "IPY_MODEL_7464bef9c0aa44099fcde5f351464f0f",
            "max": 53050,
            "min": 0,
            "orientation": "horizontal",
            "style": "IPY_MODEL_aa5264f027a04b428c7f81865404a0d4",
            "value": 53050
          }
        },
        "3f03235fc5cf4629abaeb04bcca2a9a8": {
          "model_module": "@jupyter-widgets/controls",
          "model_name": "HTMLModel",
          "model_module_version": "1.5.0",
          "state": {
            "_dom_classes": [],
            "_model_module": "@jupyter-widgets/controls",
            "_model_module_version": "1.5.0",
            "_model_name": "HTMLModel",
            "_view_count": null,
            "_view_module": "@jupyter-widgets/controls",
            "_view_module_version": "1.5.0",
            "_view_name": "HTMLView",
            "description": "",
            "description_tooltip": null,
            "layout": "IPY_MODEL_fd550f8ecf764280a4dc2fa8d42dcb73",
            "placeholder": "​",
            "style": "IPY_MODEL_385bf0e508954484abe80e7a7cdf327a",
            "value": " 428k/? [00:00&lt;00:00, 21.1MB/s]"
          }
        },
        "d66c22a45b2f4e6299e2854d32c8312c": {
          "model_module": "@jupyter-widgets/base",
          "model_name": "LayoutModel",
          "model_module_version": "1.2.0",
          "state": {
            "_model_module": "@jupyter-widgets/base",
            "_model_module_version": "1.2.0",
            "_model_name": "LayoutModel",
            "_view_count": null,
            "_view_module": "@jupyter-widgets/base",
            "_view_module_version": "1.2.0",
            "_view_name": "LayoutView",
            "align_content": null,
            "align_items": null,
            "align_self": null,
            "border": null,
            "bottom": null,
            "display": null,
            "flex": null,
            "flex_flow": null,
            "grid_area": null,
            "grid_auto_columns": null,
            "grid_auto_flow": null,
            "grid_auto_rows": null,
            "grid_column": null,
            "grid_gap": null,
            "grid_row": null,
            "grid_template_areas": null,
            "grid_template_columns": null,
            "grid_template_rows": null,
            "height": null,
            "justify_content": null,
            "justify_items": null,
            "left": null,
            "margin": null,
            "max_height": null,
            "max_width": null,
            "min_height": null,
            "min_width": null,
            "object_fit": null,
            "object_position": null,
            "order": null,
            "overflow": null,
            "overflow_x": null,
            "overflow_y": null,
            "padding": null,
            "right": null,
            "top": null,
            "visibility": null,
            "width": null
          }
        },
        "0bcfb2d7fd674720b188d6c1a4e0de7d": {
          "model_module": "@jupyter-widgets/base",
          "model_name": "LayoutModel",
          "model_module_version": "1.2.0",
          "state": {
            "_model_module": "@jupyter-widgets/base",
            "_model_module_version": "1.2.0",
            "_model_name": "LayoutModel",
            "_view_count": null,
            "_view_module": "@jupyter-widgets/base",
            "_view_module_version": "1.2.0",
            "_view_name": "LayoutView",
            "align_content": null,
            "align_items": null,
            "align_self": null,
            "border": null,
            "bottom": null,
            "display": null,
            "flex": null,
            "flex_flow": null,
            "grid_area": null,
            "grid_auto_columns": null,
            "grid_auto_flow": null,
            "grid_auto_rows": null,
            "grid_column": null,
            "grid_gap": null,
            "grid_row": null,
            "grid_template_areas": null,
            "grid_template_columns": null,
            "grid_template_rows": null,
            "height": null,
            "justify_content": null,
            "justify_items": null,
            "left": null,
            "margin": null,
            "max_height": null,
            "max_width": null,
            "min_height": null,
            "min_width": null,
            "object_fit": null,
            "object_position": null,
            "order": null,
            "overflow": null,
            "overflow_x": null,
            "overflow_y": null,
            "padding": null,
            "right": null,
            "top": null,
            "visibility": null,
            "width": null
          }
        },
        "93b68add3106479891327a7fd0da5a50": {
          "model_module": "@jupyter-widgets/controls",
          "model_name": "DescriptionStyleModel",
          "model_module_version": "1.5.0",
          "state": {
            "_model_module": "@jupyter-widgets/controls",
            "_model_module_version": "1.5.0",
            "_model_name": "DescriptionStyleModel",
            "_view_count": null,
            "_view_module": "@jupyter-widgets/base",
            "_view_module_version": "1.2.0",
            "_view_name": "StyleView",
            "description_width": ""
          }
        },
        "7464bef9c0aa44099fcde5f351464f0f": {
          "model_module": "@jupyter-widgets/base",
          "model_name": "LayoutModel",
          "model_module_version": "1.2.0",
          "state": {
            "_model_module": "@jupyter-widgets/base",
            "_model_module_version": "1.2.0",
            "_model_name": "LayoutModel",
            "_view_count": null,
            "_view_module": "@jupyter-widgets/base",
            "_view_module_version": "1.2.0",
            "_view_name": "LayoutView",
            "align_content": null,
            "align_items": null,
            "align_self": null,
            "border": null,
            "bottom": null,
            "display": null,
            "flex": null,
            "flex_flow": null,
            "grid_area": null,
            "grid_auto_columns": null,
            "grid_auto_flow": null,
            "grid_auto_rows": null,
            "grid_column": null,
            "grid_gap": null,
            "grid_row": null,
            "grid_template_areas": null,
            "grid_template_columns": null,
            "grid_template_rows": null,
            "height": null,
            "justify_content": null,
            "justify_items": null,
            "left": null,
            "margin": null,
            "max_height": null,
            "max_width": null,
            "min_height": null,
            "min_width": null,
            "object_fit": null,
            "object_position": null,
            "order": null,
            "overflow": null,
            "overflow_x": null,
            "overflow_y": null,
            "padding": null,
            "right": null,
            "top": null,
            "visibility": null,
            "width": null
          }
        },
        "aa5264f027a04b428c7f81865404a0d4": {
          "model_module": "@jupyter-widgets/controls",
          "model_name": "ProgressStyleModel",
          "model_module_version": "1.5.0",
          "state": {
            "_model_module": "@jupyter-widgets/controls",
            "_model_module_version": "1.5.0",
            "_model_name": "ProgressStyleModel",
            "_view_count": null,
            "_view_module": "@jupyter-widgets/base",
            "_view_module_version": "1.2.0",
            "_view_name": "StyleView",
            "bar_color": null,
            "description_width": ""
          }
        },
        "fd550f8ecf764280a4dc2fa8d42dcb73": {
          "model_module": "@jupyter-widgets/base",
          "model_name": "LayoutModel",
          "model_module_version": "1.2.0",
          "state": {
            "_model_module": "@jupyter-widgets/base",
            "_model_module_version": "1.2.0",
            "_model_name": "LayoutModel",
            "_view_count": null,
            "_view_module": "@jupyter-widgets/base",
            "_view_module_version": "1.2.0",
            "_view_name": "LayoutView",
            "align_content": null,
            "align_items": null,
            "align_self": null,
            "border": null,
            "bottom": null,
            "display": null,
            "flex": null,
            "flex_flow": null,
            "grid_area": null,
            "grid_auto_columns": null,
            "grid_auto_flow": null,
            "grid_auto_rows": null,
            "grid_column": null,
            "grid_gap": null,
            "grid_row": null,
            "grid_template_areas": null,
            "grid_template_columns": null,
            "grid_template_rows": null,
            "height": null,
            "justify_content": null,
            "justify_items": null,
            "left": null,
            "margin": null,
            "max_height": null,
            "max_width": null,
            "min_height": null,
            "min_width": null,
            "object_fit": null,
            "object_position": null,
            "order": null,
            "overflow": null,
            "overflow_x": null,
            "overflow_y": null,
            "padding": null,
            "right": null,
            "top": null,
            "visibility": null,
            "width": null
          }
        },
        "385bf0e508954484abe80e7a7cdf327a": {
          "model_module": "@jupyter-widgets/controls",
          "model_name": "DescriptionStyleModel",
          "model_module_version": "1.5.0",
          "state": {
            "_model_module": "@jupyter-widgets/controls",
            "_model_module_version": "1.5.0",
            "_model_name": "DescriptionStyleModel",
            "_view_count": null,
            "_view_module": "@jupyter-widgets/base",
            "_view_module_version": "1.2.0",
            "_view_name": "StyleView",
            "description_width": ""
          }
        }
      }
    }
  },
  "cells": [
    {
      "cell_type": "markdown",
      "metadata": {
        "id": "view-in-github",
        "colab_type": "text"
      },
      "source": [
        "<a href=\"https://colab.research.google.com/github/jhchang/Sentiment-Analysis-on-Arabic-Text/blob/main/Arabic_Sentiment_Analysis_for_Vision_2030.ipynb\" target=\"_parent\"><img src=\"https://colab.research.google.com/assets/colab-badge.svg\" alt=\"Open In Colab\"/></a>"
      ]
    },
    {
      "cell_type": "markdown",
      "source": [
        "# 🇸🇦 Arabic Sentiment Analysis for Vision 2030  \n",
        "*Using NLP to Understand Public Opinion in Saudi Arabia*\n",
        "\n",
        "---\n",
        "### 🤔 Why Arabic Sentiment Analysis Matters in Saudi Arabia?\n",
        "\n",
        "Arabic is central to national identity and digital transformation. Understanding sentiment in Arabic—especially dialectical variations—can support government responsiveness, smart cities, and inclusive policymaking in line with Vision 2030.\n",
        "\n",
        "---\n",
        "\n",
        "## 🧠 Project Overview\n",
        "\n",
        "This project explores **sentiment analysis in Arabic**, with a focus on **Saudi dialects** and **language-specific challenges**. It supports **Saudi Vision 2030** by showing how **Arabic Natural Language Processing (NLP)** can power intelligent systems for:\n",
        "\n",
        "- Public opinion analysis  \n",
        "- E-government services  \n",
        "- Education systems  \n",
        "- Smart city initiatives  \n",
        "\n",
        "The methodology combines **machine learning** with **culturally-aware preprocessing** to create foundational tools for Arabic-language AI.\n",
        "\n",
        "---\n",
        "\n",
        "## 🌍 Background & Motivation\n",
        "\n",
        "Saudi Arabia's **Vision 2030** prioritizes **digital transformation** and **data-driven governance**. However, current NLP tools:\n",
        "\n",
        "- Struggle with Arabic's linguistic complexity  \n",
        "- Do not handle **local Saudi dialects** well  \n",
        "- Limit real-time insight into **public sentiment**\n",
        "\n",
        "📊 Public Opinion Intelligence\n",
        "\n",
        "- Real-time monitoring of Vision 2030 initiatives (NEOM, Qiddiya, etc.)\n",
        "\n",
        "-  Workforce participation sentiment tracking\n",
        "\n",
        "-  Reform acceptance analytics\n",
        "\n",
        "---\n",
        "\n",
        "## 🎯 Expected Outcomes for Saudi Arabia\n",
        "\n",
        "| Use Case                       | Vision 2030 Alignment                                                                     |\n",
        "| ------------------------------ | ----------------------------------------------------------------------------------------- |\n",
        "| **Arabic Tweet Sentiment**     | Gauge **public sentiment** toward policy, tourism, or social programs                     |\n",
        "| **Customer Feedback Analysis** | Enhance **digital services** in sectors like healthcare, Hajj/Umrah, or municipal portals |\n",
        "| **Monitoring Media/Discourse** | Combat **misinformation** and promote **cultural identity**                               |\n",
        "| **Social Media in Education**  | Evaluate **e-learning engagement** in Arabic for youth programs                           |\n",
        "\n",
        "\n",
        "---\n",
        "🛠 Technical Approach\n",
        "\n",
        "Saudi-Optimized Pipeline:\n",
        "\n",
        "1. Dialect Normalization → Convert regional expressions to MSA\n",
        "\n",
        "2.  Vision 2030 Tagging → Identify reform-related phrases\n",
        "\n",
        "3.  Contextual Analysis → BERT model fine-tuned on Saudi corpus\n",
        "\n",
        "---\n",
        "\n",
        "> *“Understanding the people is the first step to serving them better. Arabic NLP can make that scalable, transparent, and smart.”*\n",
        "\n",
        "---\n"
      ],
      "metadata": {
        "id": "7W0EFVpG-S0I"
      }
    },
    {
      "cell_type": "markdown",
      "source": [
        "# 📘 Project Summary\n",
        "\n",
        "- Title: Sentiment Analysis on Arabic Language\n",
        "\n",
        "-  Goal: Highlight unique challenges of NLP in Arabic using a sentiment analysis model\n",
        "\n",
        "-   Dataset: Arabic tweets (AJGT corpus)\n",
        "\n",
        "-   Tech Stack: Python, NLTK, scikit-learn, TF-IDF, logistic regression, SVM, random forest\n",
        "\n",
        "-   Context: Personal interest in Arabic through language learning, exploring Arabic NLP"
      ],
      "metadata": {
        "id": "jeIkWPSc_orS"
      }
    },
    {
      "cell_type": "markdown",
      "source": [
        "# Dialect Identification & Text Classification\n",
        "\n",
        "Currently this notebook will focus more on sentiment analysis, but in the future I will explore dialect identification. The results of that study could be turned into a feature vector for sentiment analysis. Here are some resources below that can be used for Arabic dialect identification.\n",
        "\n",
        "1. MADAR (Multi-Arabic Dialect Applications and Resources)\n",
        "\n",
        "    - Contains parallel sentences in 25 Arabic dialects + Modern Standard Arabic (MSA).\n",
        "\n",
        "    - Used for dialect identification and machine translation.\n",
        "\n",
        "    - https://camel.abudhabi.nyu.edu/madar/\n",
        "\n",
        "2. Arabic Dialect Identification (ADI) Dataset\n",
        "\n",
        "    - Contains tweets labeled by dialect (Egyptian, Gulf, Levantine, Maghrebi, MSA).\n",
        "\n",
        "    - Used in the NADI (Nuanced Arabic Dialect Identification) shared tasks.\n",
        "\n",
        "    - https://sites.google.com/view/nadi-shared-task"
      ],
      "metadata": {
        "id": "1G2uSf_zD_ti"
      }
    },
    {
      "cell_type": "markdown",
      "source": [
        "# Importing Libraries"
      ],
      "metadata": {
        "id": "oFWn38SjBB6x"
      }
    },
    {
      "cell_type": "code",
      "execution_count": 1,
      "metadata": {
        "id": "VoQpkejlAI0m"
      },
      "outputs": [],
      "source": [
        "import pandas as pd\n",
        "import numpy as np\n",
        "import matplotlib.pyplot as plt\n",
        "import string\n",
        "import re\n",
        "import seaborn as sns\n",
        "import nltk\n",
        "from nltk.corpus import stopwords\n",
        "from sklearn.model_selection import train_test_split, GridSearchCV\n",
        "from sklearn.feature_extraction.text import TfidfVectorizer\n",
        "from sklearn.pipeline import make_pipeline\n",
        "from sklearn.linear_model import LogisticRegression\n",
        "from sklearn.ensemble import RandomForestClassifier\n",
        "from sklearn.naive_bayes import MultinomialNB\n",
        "from sklearn.svm import SVC\n",
        "from sklearn.metrics import confusion_matrix,accuracy_score, classification_report"
      ]
    },
    {
      "cell_type": "markdown",
      "source": [
        "# Downloading and previewing Dataset"
      ],
      "metadata": {
        "id": "ul6UwdeGBI2w"
      }
    },
    {
      "cell_type": "markdown",
      "source": [
        "The dataset is made up of 1800 tweets in Arabic and can be found here: https://github.com/komari6/Arabic-twitter-corpus-AJGT"
      ],
      "metadata": {
        "id": "iGq14W4nTXI1"
      }
    },
    {
      "cell_type": "code",
      "source": [
        "# Raw file URL (not the HTML preview)\n",
        "url = \"https://raw.githubusercontent.com/komari6/Arabic-twitter-corpus-AJGT/master/AJGT.xlsx\"\n",
        "\n",
        "# Read the Excel file using pandas\n",
        "df = pd.read_excel(url, engine='openpyxl')\n"
      ],
      "metadata": {
        "id": "VKIfiZNGBITu"
      },
      "execution_count": 2,
      "outputs": []
    },
    {
      "cell_type": "markdown",
      "source": [
        "# Data Exploration"
      ],
      "metadata": {
        "id": "Ap8P3ya9LKsD"
      }
    },
    {
      "cell_type": "markdown",
      "source": [
        "### Basic Dataframe Inspection"
      ],
      "metadata": {
        "id": "5or6ktVNPRDc"
      }
    },
    {
      "cell_type": "code",
      "source": [
        "print(df.head())\n",
        "print(df.sample(5))"
      ],
      "metadata": {
        "colab": {
          "base_uri": "https://localhost:8080/"
        },
        "id": "kfYtD4nvMlTV",
        "outputId": "2a4fc5f9-a4ac-48e2-f21b-b4ef5c50b92b"
      },
      "execution_count": 3,
      "outputs": [
        {
          "output_type": "stream",
          "name": "stdout",
          "text": [
            "   ID                                               Feed Sentiment\n",
            "0   1   اربد فيها جامعات اكثر من عمان ... وفيها قد عم...  Positive\n",
            "1   2   الحلو انكم بتحكوا على اساس انو الاردن ما فيه ...  Negative\n",
            "2   3                            كله رائع بجد ربنا يكرمك  Positive\n",
            "3   4                                 لسانك قذر يا قمامه  Negative\n",
            "4   5  ​انا داشره وغير متزوجه ولدي علاقات مشبوه واحشش...  Negative\n",
            "        ID                                               Feed Sentiment\n",
            "316    317  اللهم اجعل لنا ايمانا صادقا قلبا خاشعا علما نافعا  Positive\n",
            "1728  1729                                ياخساره العروبه فيك  Negative\n",
            "1229  1230           لا يشكي قله المال لكنه يشكو امانه الرجال  Positive\n",
            "1511  1512              هذا صدق ولا مجنون ولا يستهبل وش القصه  Negative\n",
            "822    823                                           زنخه زيك  Negative\n"
          ]
        }
      ]
    },
    {
      "cell_type": "code",
      "source": [
        "print(df.info())"
      ],
      "metadata": {
        "colab": {
          "base_uri": "https://localhost:8080/"
        },
        "id": "72dEeFhGMsEB",
        "outputId": "0da107f1-a95b-49c6-93dc-fe956a89223a"
      },
      "execution_count": 4,
      "outputs": [
        {
          "output_type": "stream",
          "name": "stdout",
          "text": [
            "<class 'pandas.core.frame.DataFrame'>\n",
            "RangeIndex: 1800 entries, 0 to 1799\n",
            "Data columns (total 3 columns):\n",
            " #   Column     Non-Null Count  Dtype \n",
            "---  ------     --------------  ----- \n",
            " 0   ID         1800 non-null   int64 \n",
            " 1   Feed       1800 non-null   object\n",
            " 2   Sentiment  1800 non-null   object\n",
            "dtypes: int64(1), object(2)\n",
            "memory usage: 42.3+ KB\n",
            "None\n"
          ]
        }
      ]
    },
    {
      "cell_type": "code",
      "source": [
        "print(df.isnull().sum())"
      ],
      "metadata": {
        "colab": {
          "base_uri": "https://localhost:8080/"
        },
        "id": "Al8G_rMkMvt3",
        "outputId": "6c713329-0882-4653-c6e9-8f227fa69bf6"
      },
      "execution_count": 5,
      "outputs": [
        {
          "output_type": "stream",
          "name": "stdout",
          "text": [
            "ID           0\n",
            "Feed         0\n",
            "Sentiment    0\n",
            "dtype: int64\n"
          ]
        }
      ]
    },
    {
      "cell_type": "code",
      "source": [
        "print(df.shape)"
      ],
      "metadata": {
        "colab": {
          "base_uri": "https://localhost:8080/"
        },
        "id": "9SyPbQ5XLQLy",
        "outputId": "2721b030-b8cb-43eb-df15-c65fd153d352"
      },
      "execution_count": 6,
      "outputs": [
        {
          "output_type": "stream",
          "name": "stdout",
          "text": [
            "(1800, 3)\n"
          ]
        }
      ]
    },
    {
      "cell_type": "code",
      "source": [
        "print(df['Sentiment'].value_counts())"
      ],
      "metadata": {
        "colab": {
          "base_uri": "https://localhost:8080/"
        },
        "id": "AqgZLUteMGVI",
        "outputId": "0a5943b1-7290-4c2c-ea7f-11c7505098e4"
      },
      "execution_count": 7,
      "outputs": [
        {
          "output_type": "stream",
          "name": "stdout",
          "text": [
            "Sentiment\n",
            "Positive    900\n",
            "Negative    900\n",
            "Name: count, dtype: int64\n"
          ]
        }
      ]
    },
    {
      "cell_type": "markdown",
      "source": [
        "We have a perfectly even distrubution of class labels. No need for data augmentation techniques for the imbalance of classes"
      ],
      "metadata": {
        "id": "NAvL2b02Szj6"
      }
    },
    {
      "cell_type": "markdown",
      "source": [
        "### Text Length Analysis"
      ],
      "metadata": {
        "id": "drWoUuAsPejR"
      }
    },
    {
      "cell_type": "code",
      "source": [
        "# Add columns for text length\n",
        "df['char_count'] = df['Feed'].apply(len)\n",
        "df['word_count'] = df['Feed'].apply(lambda x: len(x.split()))\n",
        "\n",
        "# Summary stats\n",
        "print(df[['char_count', 'word_count']].describe())\n",
        "\n",
        "# Plot distributions\n",
        "plt.figure(figsize=(12, 5))\n",
        "sns.histplot(df['word_count'], bins=140, kde=True)\n",
        "plt.xlabel('Length of Text')\n",
        "plt.ylabel('Frequency')\n",
        "plt.title('Distribution of Word Counts')\n",
        "plt.show()"
      ],
      "metadata": {
        "colab": {
          "base_uri": "https://localhost:8080/",
          "height": 646
        },
        "id": "lSFECISGM3Hd",
        "outputId": "5dada038-9302-43ce-d610-2681b8ea9acd"
      },
      "execution_count": 8,
      "outputs": [
        {
          "output_type": "stream",
          "name": "stdout",
          "text": [
            "        char_count   word_count\n",
            "count  1800.000000  1800.000000\n",
            "mean     46.805000     9.002222\n",
            "std      46.054977     8.240547\n",
            "min       6.000000     1.000000\n",
            "25%      23.000000     4.000000\n",
            "50%      36.000000     7.000000\n",
            "75%      58.000000    11.000000\n",
            "max     864.000000   143.000000\n"
          ]
        },
        {
          "output_type": "display_data",
          "data": {
            "text/plain": [
              "<Figure size 1200x500 with 1 Axes>"
            ],
            "image/png": "[encoded data removed]"
          },
          "metadata": {}
        }
      ]
    },
    {
      "cell_type": "code",
      "source": [
        "length_90 = df['char_count'].quantile(0.90)\n",
        "length_95 = df['char_count'].quantile(0.95)\n",
        "\n",
        "print(f\"90th percentile character length: {int(length_90)}\")\n",
        "print(f\"95th percentile character length: {int(length_95)}\")\n",
        "\n",
        "length_90 = df['word_count'].quantile(0.90)\n",
        "length_95 = df['word_count'].quantile(0.95)\n",
        "\n",
        "print(f\"90th percentile word length: {int(length_90)}\")\n",
        "print(f\"95th percentile word length: {int(length_95)}\")"
      ],
      "metadata": {
        "colab": {
          "base_uri": "https://localhost:8080/"
        },
        "id": "OLuI59HuYIO0",
        "outputId": "2cd0ffa6-4b56-40e2-ef8c-c0627926227b"
      },
      "execution_count": 9,
      "outputs": [
        {
          "output_type": "stream",
          "name": "stdout",
          "text": [
            "90th percentile character length: 92\n",
            "95th percentile character length: 113\n",
            "90th percentile word length: 17\n",
            "95th percentile word length: 22\n"
          ]
        }
      ]
    },
    {
      "cell_type": "markdown",
      "source": [
        "### Upon review of the histogram, we can conclude:\n",
        "\n",
        "1. **Most tweets are short:** There is a character limit on tweets that encourage people to keep their tweets short\n",
        "\n",
        "\n",
        "2. **Few tweets are long (outliers):** There is a right skew in the data that indicates a small amount of tweets are long\n",
        "\n",
        "\n",
        "---\n",
        "### Data pruning options:\n",
        "\n",
        "1. Delete short tweets that do not contribute much context.\n",
        "\n",
        "2. Truncate or split long tweets to ensure they fit within the model's tokenization limits\n",
        "\n",
        "3. Establishing a max length: It specifies the maximum number of words that the model will process for each review."
      ],
      "metadata": {
        "id": "bc5PXEBRStmz"
      }
    },
    {
      "cell_type": "markdown",
      "source": [
        "### Pros and Cons to Setting Max Token or Word Length:\n",
        "\n",
        "Setting a **maximum length** (max\\_len) for text inputs is a standard preprocessing step in NLP, especially when working with models like RNNs, LSTMs, Transformers, or BERT.\n",
        "\n",
        "Here’s a clear breakdown of the **pros and cons**:\n",
        "\n",
        "---\n",
        "\n",
        "## ✅ Pros of Setting a Maximum Text Length\n",
        "\n",
        "### 1. **Computational Efficiency**\n",
        "\n",
        "* Fixed-length input allows for **efficient batching** and **GPU acceleration**.\n",
        "* Reduces **training time** and **memory usage**.\n",
        "\n",
        "### 2. **Model Compatibility**\n",
        "\n",
        "* Required by models like BERT, GPT, or RNNs which expect **fixed-length inputs** (or paddable sequences).\n",
        "* Prevents runtime errors from variable-length inputs.\n",
        "\n",
        "### 3. **Control Over Noise**\n",
        "\n",
        "* Long texts often contain **irrelevant or redundant information**.\n",
        "* Truncating can help focus on the most **important part** of the text (e.g., beginning of a review or headline).\n",
        "\n",
        "### 4. **Avoid Overfitting**\n",
        "\n",
        "* Especially in small datasets, long sequences can lead to **memorization**, not generalization.\n",
        "* Shorter, normalized lengths reduce this risk.\n",
        "\n",
        "---\n",
        "\n",
        "## ❌ Cons of Setting a Maximum Text Length\n",
        "\n",
        "### 1. **Loss of Information**\n",
        "\n",
        "* Truncating longer texts **removes content**, possibly losing important context or conclusions.\n",
        "* Especially problematic for domains like **legal**, **medical**, or **scientific text** where key info may appear later.\n",
        "\n",
        "### 2. **Bias Toward Start of Text**\n",
        "\n",
        "* Most truncation keeps the **start (head)** and drops the end (tail).\n",
        "* If useful info is at the end, the model may **learn skewed patterns**.\n",
        "\n",
        "### 3. **Underutilization of Data**\n",
        "\n",
        "* If max\\_len is set **too small**, you waste valuable training data.\n",
        "* If set **too large**, you waste memory on padding shorter texts.\n",
        "\n",
        "---\n",
        "\n",
        "## Best Practices\n",
        "\n",
        "| Scenario                      | Suggested Strategy                                               |\n",
        "| ----------------------------- | ---------------------------------------------------------------- |\n",
        "| Classification tasks          | Truncate if needed, often start of text is enough                |       |          |\n",
        "| Fine-tuning transformers      | Use tokenizer’s `max_length`, `truncation=True`                  |\n",
        "\n",
        "---\n",
        "\n",
        "## How to Choose `max_len`\n",
        "\n",
        "  ```python\n",
        "  df['text'].str.len().describe()\n",
        "  ```\n",
        "* Pick a length that covers \\~90–95% of samples while balancing memory and compute.\n",
        "\n",
        "---\n",
        "\n"
      ],
      "metadata": {
        "id": "jI2Tt1DKXnK-"
      }
    },
    {
      "cell_type": "markdown",
      "source": [
        "# Preprocessing\n",
        "\n",
        "Although text preprocessing is a well-established research domain for English, Arabic NLP remains comparatively underdeveloped and has distinct linguistic complexities and unique computational challenges.\n",
        "\n",
        "I will cover some NLP preprocessing tasks in the scope of the Arabic Language.\n",
        "\n",
        "---\n",
        "\n",
        "### **1. Text Normalization**  \n",
        "#### **A. Script Standardization**  \n",
        "- **Unicode Normalization**: Convert Arabic characters to a consistent form (e.g., `ك` vs. `ک`).  \n",
        "  ```python\n",
        "  import unicodedata\n",
        "  text = unicodedata.normalize('NFKD', text)  # Decompose then recompose\n",
        "  ```\n",
        "- **Hamza Normalization**: Resolve variations of أ/إ/آ to أ (e.g., `إسلام` → `أسلام`).  \n",
        "- **Tatweel Removal**: Strip elongation characters (ـ) (e.g., `عــــــربي` → `عربي`).  \n",
        "\n",
        "#### **B. Diacritic Handling**  \n",
        "- **Strip Harakat**: Remove vowel marks (ـَـْـُـ) unless needed for tasks like Quranic analysis.  \n",
        "  ```python\n",
        "  text = re.sub(r'[\\u064B-\\u065F]', '', text)  # Removes all diacritics\n",
        "  ```\n",
        "- **Optional**: Preserve diacritics for poetry or ASR by using a whitelist.  \n",
        "\n",
        "#### **C. Number Normalization**  \n",
        "- Convert numerals to Arabic words (e.g., `٣` → `ثلاثة`) or replace with `[NUM]`.  \n",
        "- Address Hindu-Arabic (١٢٣) vs. Western digits (123).  \n",
        "\n",
        "---\n",
        "\n",
        "### **2. Noise Removal**  \n",
        "- **Remove Non-Arabic Scripts**: Keep only Arabic Unicode ranges (0600–06FF, 0750–077F, FB50–FDFF, FE70–FEFF).  \n",
        "  ```python\n",
        "  text = re.sub(r'[^\\u0600-\\u06FF\\u0750-\\u077F\\uFB50-\\uFDFF\\uFE70-\\uFEFF]', ' ', text)\n",
        "  ```\n",
        "- **Clean Social Media Noise**:  \n",
        "  - Remove hashtags, mentions, and URLs (or replace with `[URL]`).  \n",
        "  - Normalize repeated characters (e.g., `هههه` → `ههه`).  \n",
        "\n",
        "---\n",
        "\n",
        "### **3. Tokenization**  \n",
        "#### **A. Word-Level**  \n",
        "- **Challenges**: Clitic pronouns (ـكم, ـها) and conjunctions (ـو).  \n",
        "- **Tools**:  \n",
        "  - **Farasa Segmenter**: Splits attached pronouns (e.g., `كتابها` → `كتاب + ها`).  \n",
        "  - **CAMeL Tools**: Handles dialectal Arabic.  \n",
        "\n",
        "#### **B. Subword-Level**  \n",
        "- **Byte-Pair Encoding (BPE)**: Use pretrained Arabic tokenizers (e.g., `AraBERT`, `MARBERT`).  \n",
        "\n",
        "---\n",
        "\n",
        "### **4. Stopword Removal**  \n",
        "- **Curated Lists**: Use Arabic stopword lists from `NLTK` or build custom ones for dialects.  \n",
        "  ```python\n",
        "  from nltk.corpus import stopwords\n",
        "  stops = set(stopwords.words('arabic'))  # MSA-only\n",
        "  ```\n",
        "- **Caution**: Dialectal stopwords (e.g., Egyptian \"بس\" meaning \"only\") may differ.  \n",
        "\n",
        "---\n",
        "\n",
        "### **5. Stemming/Lemmatization**  \n",
        "#### **A. Light Stemming**  \n",
        "- Remove prefixes/suffixes while preserving the root:  \n",
        "  - **Farasa Stemmer**: `كتاباتنا` → `كتابة`.  \n",
        "  - **ISRI Stemmer**: Rule-based but aggressive.  \n",
        "\n",
        "#### **B. Root Extraction (Lemmatization)**  \n",
        "- **Farasa Lemmatizer**: Maps words to tri-literal roots (e.g., `يستلمون` → `سلم`).  \n",
        "- **Khoja Algorithm**: Classical Arabic root extraction.  \n",
        "\n",
        "---\n",
        "\n",
        "### **6. Dialect Handling**  \n",
        "- **Normalization to MSA**: Use tools like `CALIMA-star` for Levantine/Egyptian-to-MSA conversion.  \n",
        "- **Dialect Identification**: Classify text (e.g., Gulf vs. Maghrebi) before processing.  \n",
        "\n",
        "---\n",
        "\n",
        "### **7. Advanced Steps**  \n",
        "#### **A. Named Entity Recognition (NER)**  \n",
        "- Mask entities (e.g., `[LOC:القاهرة]`) to avoid splitting during tokenization.  \n",
        "\n",
        "#### **B. Spelling Correction**  \n",
        "- **Farasa Correct**: Fixes common errors (e.g., `اللغة العربيه` → `اللغة العربية`).  \n",
        "\n",
        "#### **C. Coreference Resolution**  \n",
        "- Replace pronouns with nouns (e.g., `هو` → `الرجل`) for coherence.  \n",
        "\n",
        "---\n",
        "\n",
        "### **Python Example (Full Pipeline)**  \n",
        "```python\n",
        "from farasa.segmenter import FarasaSegmenter\n",
        "from farasa.stemmer import FarasaStemmer\n",
        "import pyarabic.araby as araby  # For diacritic removal\n",
        "\n",
        "def preprocess_arabic(text):\n",
        "    # Normalize\n",
        "    text = araby.strip_tashkeel(text)  # Remove diacritics\n",
        "    text = araby.normalize_hamza(text)\n",
        "    \n",
        "    # Tokenize with Farasa\n",
        "    segmenter = FarasaSegmenter()\n",
        "    text = segmenter.segment(text)  # Splits attached pronouns\n",
        "    \n",
        "    # Stemming\n",
        "    stemmer = FarasaStemmer()\n",
        "    text = stemmer.stem(text)\n",
        "    \n",
        "    return text\n",
        "```\n",
        "\n",
        "---"
      ],
      "metadata": {
        "id": "XJ1ORLjh4SvK"
      }
    },
    {
      "cell_type": "markdown",
      "source": [
        "# Lemmatization/Stemming Models and Libraries\n",
        "\n",
        "There are different preprocessing steps that each language does differently, however lemmatization is one step that requires extensive altering and computational resources to perform.\n",
        "\n",
        "Below is a list of pros and cons of some popular lemmitization libraries.\n",
        "---\n",
        "\n",
        "### **1. Farasa Lemmatizer**  \n",
        "**Developed by:** Qatar Computing Research Institute (QCRI)  \n",
        "**Type:** Rule-based + Statistical  \n",
        "**Availability:** API, Python (`farasapy`), and standalone tool.  \n",
        "\n",
        "#### **Pros:**  \n",
        "✅ **Highly accurate** (one of the best for Arabic NLP tasks).  \n",
        "✅ **Fast processing** (optimized for large-scale text).  \n",
        "✅ **Handles complex morphology** (roots, prefixes, suffixes well).  \n",
        "✅ **Supports modern standard Arabic (MSA) and some dialects.**  \n",
        "\n",
        "#### **Cons:**  \n",
        "❌ **Not entirely free** (API has rate limits; full access may require a license).  \n",
        "❌ **No direct deep learning integration** (relies on traditional methods).  \n",
        "\n",
        "---\n",
        "\n",
        "### **2. CAMeL Tools Lemmatizer**  \n",
        "**Developed by:** CAMeL Lab (NYU Abu Dhabi)  \n",
        "**Type:** Rule-based + Machine Learning  \n",
        "**Availability:** Python library (`camel_tools`).  \n",
        "\n",
        "#### **Pros:**  \n",
        "✅ **Open-source and free** (no API restrictions).  \n",
        "✅ **Good for MSA and some dialectal variations.**  \n",
        "✅ **Works well with other Arabic NLP tools (tokenization, POS tagging).**  \n",
        "\n",
        "#### **Cons:**  \n",
        "❌ **Slightly slower than Farasa for large datasets.**  \n",
        "❌ **Less accurate on highly dialectal or noisy text.**  \n",
        "\n",
        "---\n",
        "\n",
        "### **3. Stanza (Stanford NLP) Arabic Lemmatizer**  \n",
        "**Type:** Neural (Transformer-based)  \n",
        "**Availability:** Python (`stanza`).  \n",
        "\n",
        "#### **Pros:**  \n",
        "✅ **Deep learning-based** (better for context-aware lemmatization).  \n",
        "✅ **Part of a full NLP pipeline** (tokenization, POS, dependency parsing).  \n",
        "✅ **Decent accuracy on MSA.**  \n",
        "\n",
        "#### **Cons:**  \n",
        "❌ **Slower than rule-based systems (GPU helps).**  \n",
        "❌ **Struggles with dialects and informal Arabic.**  \n",
        "\n",
        "---\n",
        "\n",
        "### **4. ISRI Arabic Stemmer (NLTK-Compatible)**  \n",
        "**Type:** Rule-based (Light Stemming)  \n",
        "**Availability:** Python (`nltk.stem.isri`).  \n",
        "\n",
        "#### **Pros:**  \n",
        "✅ **Simple and fast** (good for basic stemming, not full lemmatization).  \n",
        "✅ **Works with NLTK.**  \n",
        "\n",
        "#### **Cons:**  \n",
        "❌ **Only does stemming (not true lemmatization).**  \n",
        "❌ **Low accuracy for nuanced text.**  \n",
        "\n",
        "---\n",
        "\n",
        "### **5. MADAMIRA (Java-Based)**  \n",
        "**Developed by:** Columbia University  \n",
        "**Type:** Rule-based  \n",
        "**Availability:** Java/Python (via wrappers).  \n",
        "\n",
        "#### **Pros:**  \n",
        "✅ **Very precise for MSA.**  \n",
        "✅ **Handles morphology rigorously.**  \n",
        "\n",
        "#### **Cons:**  \n",
        "❌ **Outdated (no active development).**  \n",
        "❌ **Complex setup (Java dependency).**  \n",
        "\n",
        "---\n",
        "\n",
        "### **6. AraBERT Lemmatization (Transformers)**  \n",
        "**Type:** BERT-based (Contextual)  \n",
        "**Availability:** HuggingFace (`AraBERT`).  \n",
        "\n",
        "#### **Pros:**  \n",
        "✅ **State-of-the-art for context-aware lemmatization.**  \n",
        "✅ **Works well with noisy text (social media, dialects).**  \n",
        "\n",
        "#### **Cons:**  \n",
        "❌ **Heavy resource usage (needs GPU for speed).**  \n",
        "❌ **Overkill if you only need lemmatization.**  \n",
        "\n",
        "---\n",
        "\n",
        "### **Comparison Summary**\n",
        "| Tool          | Accuracy | Speed  | Dialects | Ease of Use | Best For |\n",
        "|--------------|----------|--------|----------|-------------|----------|\n",
        "| **Farasa**   | ⭐⭐⭐⭐⭐ | ⭐⭐⭐⭐ | Limited  | Medium      | Production systems |\n",
        "| **CAMeL**    | ⭐⭐⭐⭐   | ⭐⭐⭐  | Limited  | Easy        | Research, MSA |\n",
        "| **Stanza**   | ⭐⭐⭐⭐   | ⭐⭐    | No       | Easy        | Full NLP pipeline |\n",
        "| **ISRI**     | ⭐⭐      | ⭐⭐⭐⭐⭐ | No       | Very Easy   | Quick stemming |\n",
        "| **MADAMIRA** | ⭐⭐⭐⭐   | ⭐⭐    | No       | Hard        | Legacy systems |\n",
        "| **AraBERT**  | ⭐⭐⭐⭐⭐ | ⭐     | Yes      | Medium      | Advanced NLP |\n",
        "\n",
        "---"
      ],
      "metadata": {
        "id": "l85p-6rq1wHQ"
      }
    },
    {
      "cell_type": "markdown",
      "source": [
        "I want to focus on lemmatization since I have noticed some preprocessing for the arabic language skip this step and I want to see how models perform with and without lemmitization. Below will be very simple models to demonstrate the power of lemmitization. For lemmitization libraries we will try out CAMeL and Stanza due to their free usage and perforamce vs overhead costs for our needs."
      ],
      "metadata": {
        "id": "585qkN-S6qTi"
      }
    },
    {
      "cell_type": "markdown",
      "source": [
        "### Word Frequency Analysis"
      ],
      "metadata": {
        "id": "-ahH6K3FPk73"
      }
    },
    {
      "cell_type": "code",
      "source": [
        "!pip install stanza"
      ],
      "metadata": {
        "colab": {
          "base_uri": "https://localhost:8080/"
        },
        "id": "ZJlPXw4fehAY",
        "outputId": "381edc43-e093-403c-eb87-234dd8123949"
      },
      "execution_count": 10,
      "outputs": [
        {
          "output_type": "stream",
          "name": "stdout",
          "text": [
            "Collecting stanza\n",
            "  Downloading stanza-1.10.1-py3-none-any.whl.metadata (13 kB)\n",
            "Collecting emoji (from stanza)\n",
            "  Downloading emoji-2.14.1-py3-none-any.whl.metadata (5.7 kB)\n",
            "Requirement already satisfied: numpy in /usr/local/lib/python3.11/dist-packages (from stanza) (2.0.2)\n",
            "Requirement already satisfied: protobuf>=3.15.0 in /usr/local/lib/python3.11/dist-packages (from stanza) (5.29.4)\n",
            "Requirement already satisfied: requests in /usr/local/lib/python3.11/dist-packages (from stanza) (2.32.3)\n",
            "Requirement already satisfied: networkx in /usr/local/lib/python3.11/dist-packages (from stanza) (3.4.2)\n",
            "Requirement already satisfied: torch>=1.3.0 in /usr/local/lib/python3.11/dist-packages (from stanza) (2.6.0+cu124)\n",
            "Requirement already satisfied: tqdm in /usr/local/lib/python3.11/dist-packages (from stanza) (4.67.1)\n",
            "Requirement already satisfied: filelock in /usr/local/lib/python3.11/dist-packages (from torch>=1.3.0->stanza) (3.18.0)\n",
            "Requirement already satisfied: typing-extensions>=4.10.0 in /usr/local/lib/python3.11/dist-packages (from torch>=1.3.0->stanza) (4.13.2)\n",
            "Requirement already satisfied: jinja2 in /usr/local/lib/python3.11/dist-packages (from torch>=1.3.0->stanza) (3.1.6)\n",
            "Requirement already satisfied: fsspec in /usr/local/lib/python3.11/dist-packages (from torch>=1.3.0->stanza) (2025.3.2)\n",
            "Collecting nvidia-cuda-nvrtc-cu12==12.4.127 (from torch>=1.3.0->stanza)\n",
            "  Downloading nvidia_cuda_nvrtc_cu12-12.4.127-py3-none-manylinux2014_x86_64.whl.metadata (1.5 kB)\n",
            "Collecting nvidia-cuda-runtime-cu12==12.4.127 (from torch>=1.3.0->stanza)\n",
            "  Downloading nvidia_cuda_runtime_cu12-12.4.127-py3-none-manylinux2014_x86_64.whl.metadata (1.5 kB)\n",
            "Collecting nvidia-cuda-cupti-cu12==12.4.127 (from torch>=1.3.0->stanza)\n",
            "  Downloading nvidia_cuda_cupti_cu12-12.4.127-py3-none-manylinux2014_x86_64.whl.metadata (1.6 kB)\n",
            "Collecting nvidia-cudnn-cu12==9.1.0.70 (from torch>=1.3.0->stanza)\n",
            "  Downloading nvidia_cudnn_cu12-9.1.0.70-py3-none-manylinux2014_x86_64.whl.metadata (1.6 kB)\n",
            "Collecting nvidia-cublas-cu12==12.4.5.8 (from torch>=1.3.0->stanza)\n",
            "  Downloading nvidia_cublas_cu12-12.4.5.8-py3-none-manylinux2014_x86_64.whl.metadata (1.5 kB)\n",
            "Collecting nvidia-cufft-cu12==11.2.1.3 (from torch>=1.3.0->stanza)\n",
            "  Downloading nvidia_cufft_cu12-11.2.1.3-py3-none-manylinux2014_x86_64.whl.metadata (1.5 kB)\n",
            "Collecting nvidia-curand-cu12==10.3.5.147 (from torch>=1.3.0->stanza)\n",
            "  Downloading nvidia_curand_cu12-10.3.5.147-py3-none-manylinux2014_x86_64.whl.metadata (1.5 kB)\n",
            "Collecting nvidia-cusolver-cu12==11.6.1.9 (from torch>=1.3.0->stanza)\n",
            "  Downloading nvidia_cusolver_cu12-11.6.1.9-py3-none-manylinux2014_x86_64.whl.metadata (1.6 kB)\n",
            "Collecting nvidia-cusparse-cu12==12.3.1.170 (from torch>=1.3.0->stanza)\n",
            "  Downloading nvidia_cusparse_cu12-12.3.1.170-py3-none-manylinux2014_x86_64.whl.metadata (1.6 kB)\n",
            "Requirement already satisfied: nvidia-cusparselt-cu12==0.6.2 in /usr/local/lib/python3.11/dist-packages (from torch>=1.3.0->stanza) (0.6.2)\n",
            "Requirement already satisfied: nvidia-nccl-cu12==2.21.5 in /usr/local/lib/python3.11/dist-packages (from torch>=1.3.0->stanza) (2.21.5)\n",
            "Requirement already satisfied: nvidia-nvtx-cu12==12.4.127 in /usr/local/lib/python3.11/dist-packages (from torch>=1.3.0->stanza) (12.4.127)\n",
            "Collecting nvidia-nvjitlink-cu12==12.4.127 (from torch>=1.3.0->stanza)\n",
            "  Downloading nvidia_nvjitlink_cu12-12.4.127-py3-none-manylinux2014_x86_64.whl.metadata (1.5 kB)\n",
            "Requirement already satisfied: triton==3.2.0 in /usr/local/lib/python3.11/dist-packages (from torch>=1.3.0->stanza) (3.2.0)\n",
            "Requirement already satisfied: sympy==1.13.1 in /usr/local/lib/python3.11/dist-packages (from torch>=1.3.0->stanza) (1.13.1)\n",
            "Requirement already satisfied: mpmath<1.4,>=1.1.0 in /usr/local/lib/python3.11/dist-packages (from sympy==1.13.1->torch>=1.3.0->stanza) (1.3.0)\n",
            "Requirement already satisfied: charset-normalizer<4,>=2 in /usr/local/lib/python3.11/dist-packages (from requests->stanza) (3.4.2)\n",
            "Requirement already satisfied: idna<4,>=2.5 in /usr/local/lib/python3.11/dist-packages (from requests->stanza) (3.10)\n",
            "Requirement already satisfied: urllib3<3,>=1.21.1 in /usr/local/lib/python3.11/dist-packages (from requests->stanza) (2.4.0)\n",
            "Requirement already satisfied: certifi>=2017.4.17 in /usr/local/lib/python3.11/dist-packages (from requests->stanza) (2025.4.26)\n",
            "Requirement already satisfied: MarkupSafe>=2.0 in /usr/local/lib/python3.11/dist-packages (from jinja2->torch>=1.3.0->stanza) (3.0.2)\n",
            "Downloading stanza-1.10.1-py3-none-any.whl (1.1 MB)\n",
            "\u001b[2K   \u001b[90m━━━━━━━━━━━━━━━━━━━━━━━━━━━━━━━━━━━━━━━━\u001b[0m \u001b[32m1.1/1.1 MB\u001b[0m \u001b[31m28.9 MB/s\u001b[0m eta \u001b[36m0:00:00\u001b[0m\n",
            "\u001b[?25hDownloading nvidia_cublas_cu12-12.4.5.8-py3-none-manylinux2014_x86_64.whl (363.4 MB)\n",
            "\u001b[2K   \u001b[90m━━━━━━━━━━━━━━━━━━━━━━━━━━━━━━━━━━━━━━━━\u001b[0m \u001b[32m363.4/363.4 MB\u001b[0m \u001b[31m4.5 MB/s\u001b[0m eta \u001b[36m0:00:00\u001b[0m\n",
            "\u001b[?25hDownloading nvidia_cuda_cupti_cu12-12.4.127-py3-none-manylinux2014_x86_64.whl (13.8 MB)\n",
            "\u001b[2K   \u001b[90m━━━━━━━━━━━━━━━━━━━━━━━━━━━━━━━━━━━━━━━━\u001b[0m \u001b[32m13.8/13.8 MB\u001b[0m \u001b[31m75.5 MB/s\u001b[0m eta \u001b[36m0:00:00\u001b[0m\n",
            "\u001b[?25hDownloading nvidia_cuda_nvrtc_cu12-12.4.127-py3-none-manylinux2014_x86_64.whl (24.6 MB)\n",
            "\u001b[2K   \u001b[90m━━━━━━━━━━━━━━━━━━━━━━━━━━━━━━━━━━━━━━━━\u001b[0m \u001b[32m24.6/24.6 MB\u001b[0m \u001b[31m36.1 MB/s\u001b[0m eta \u001b[36m0:00:00\u001b[0m\n",
            "\u001b[?25hDownloading nvidia_cuda_runtime_cu12-12.4.127-py3-none-manylinux2014_x86_64.whl (883 kB)\n",
            "\u001b[2K   \u001b[90m━━━━━━━━━━━━━━━━━━━━━━━━━━━━━━━━━━━━━━━━\u001b[0m \u001b[32m883.7/883.7 kB\u001b[0m \u001b[31m45.7 MB/s\u001b[0m eta \u001b[36m0:00:00\u001b[0m\n",
            "\u001b[?25hDownloading nvidia_cudnn_cu12-9.1.0.70-py3-none-manylinux2014_x86_64.whl (664.8 MB)\n",
            "\u001b[2K   \u001b[90m━━━━━━━━━━━━━━━━━━━━━━━━━━━━━━━━━━━━━━━━\u001b[0m \u001b[32m664.8/664.8 MB\u001b[0m \u001b[31m2.3 MB/s\u001b[0m eta \u001b[36m0:00:00\u001b[0m\n",
            "\u001b[?25hDownloading nvidia_cufft_cu12-11.2.1.3-py3-none-manylinux2014_x86_64.whl (211.5 MB)\n",
            "\u001b[2K   \u001b[90m━━━━━━━━━━━━━━━━━━━━━━━━━━━━━━━━━━━━━━━━\u001b[0m \u001b[32m211.5/211.5 MB\u001b[0m \u001b[31m5.6 MB/s\u001b[0m eta \u001b[36m0:00:00\u001b[0m\n",
            "\u001b[?25hDownloading nvidia_curand_cu12-10.3.5.147-py3-none-manylinux2014_x86_64.whl (56.3 MB)\n",
            "\u001b[2K   \u001b[90m━━━━━━━━━━━━━━━━━━━━━━━━━━━━━━━━━━━━━━━━\u001b[0m \u001b[32m56.3/56.3 MB\u001b[0m \u001b[31m13.2 MB/s\u001b[0m eta \u001b[36m0:00:00\u001b[0m\n",
            "\u001b[?25hDownloading nvidia_cusolver_cu12-11.6.1.9-py3-none-manylinux2014_x86_64.whl (127.9 MB)\n",
            "\u001b[2K   \u001b[90m━━━━━━━━━━━━━━━━━━━━━━━━━━━━━━━━━━━━━━━━\u001b[0m \u001b[32m127.9/127.9 MB\u001b[0m \u001b[31m7.2 MB/s\u001b[0m eta \u001b[36m0:00:00\u001b[0m\n",
            "\u001b[?25hDownloading nvidia_cusparse_cu12-12.3.1.170-py3-none-manylinux2014_x86_64.whl (207.5 MB)\n",
            "\u001b[2K   \u001b[90m━━━━━━━━━━━━━━━━━━━━━━━━━━━━━━━━━━━━━━━━\u001b[0m \u001b[32m207.5/207.5 MB\u001b[0m \u001b[31m7.0 MB/s\u001b[0m eta \u001b[36m0:00:00\u001b[0m\n",
            "\u001b[?25hDownloading nvidia_nvjitlink_cu12-12.4.127-py3-none-manylinux2014_x86_64.whl (21.1 MB)\n",
            "\u001b[2K   \u001b[90m━━━━━━━━━━━━━━━━━━━━━━━━━━━━━━━━━━━━━━━━\u001b[0m \u001b[32m21.1/21.1 MB\u001b[0m \u001b[31m101.7 MB/s\u001b[0m eta \u001b[36m0:00:00\u001b[0m\n",
            "\u001b[?25hDownloading emoji-2.14.1-py3-none-any.whl (590 kB)\n",
            "\u001b[2K   \u001b[90m━━━━━━━━━━━━━━━━━━━━━━━━━━━━━━━━━━━━━━━━\u001b[0m \u001b[32m590.6/590.6 kB\u001b[0m \u001b[31m42.5 MB/s\u001b[0m eta \u001b[36m0:00:00\u001b[0m\n",
            "\u001b[?25hInstalling collected packages: nvidia-nvjitlink-cu12, nvidia-curand-cu12, nvidia-cufft-cu12, nvidia-cuda-runtime-cu12, nvidia-cuda-nvrtc-cu12, nvidia-cuda-cupti-cu12, nvidia-cublas-cu12, emoji, nvidia-cusparse-cu12, nvidia-cudnn-cu12, nvidia-cusolver-cu12, stanza\n",
            "  Attempting uninstall: nvidia-nvjitlink-cu12\n",
            "    Found existing installation: nvidia-nvjitlink-cu12 12.5.82\n",
            "    Uninstalling nvidia-nvjitlink-cu12-12.5.82:\n",
            "      Successfully uninstalled nvidia-nvjitlink-cu12-12.5.82\n",
            "  Attempting uninstall: nvidia-curand-cu12\n",
            "    Found existing installation: nvidia-curand-cu12 10.3.6.82\n",
            "    Uninstalling nvidia-curand-cu12-10.3.6.82:\n",
            "      Successfully uninstalled nvidia-curand-cu12-10.3.6.82\n",
            "  Attempting uninstall: nvidia-cufft-cu12\n",
            "    Found existing installation: nvidia-cufft-cu12 11.2.3.61\n",
            "    Uninstalling nvidia-cufft-cu12-11.2.3.61:\n",
            "      Successfully uninstalled nvidia-cufft-cu12-11.2.3.61\n",
            "  Attempting uninstall: nvidia-cuda-runtime-cu12\n",
            "    Found existing installation: nvidia-cuda-runtime-cu12 12.5.82\n",
            "    Uninstalling nvidia-cuda-runtime-cu12-12.5.82:\n",
            "      Successfully uninstalled nvidia-cuda-runtime-cu12-12.5.82\n",
            "  Attempting uninstall: nvidia-cuda-nvrtc-cu12\n",
            "    Found existing installation: nvidia-cuda-nvrtc-cu12 12.5.82\n",
            "    Uninstalling nvidia-cuda-nvrtc-cu12-12.5.82:\n",
            "      Successfully uninstalled nvidia-cuda-nvrtc-cu12-12.5.82\n",
            "  Attempting uninstall: nvidia-cuda-cupti-cu12\n",
            "    Found existing installation: nvidia-cuda-cupti-cu12 12.5.82\n",
            "    Uninstalling nvidia-cuda-cupti-cu12-12.5.82:\n",
            "      Successfully uninstalled nvidia-cuda-cupti-cu12-12.5.82\n",
            "  Attempting uninstall: nvidia-cublas-cu12\n",
            "    Found existing installation: nvidia-cublas-cu12 12.5.3.2\n",
            "    Uninstalling nvidia-cublas-cu12-12.5.3.2:\n",
            "      Successfully uninstalled nvidia-cublas-cu12-12.5.3.2\n",
            "  Attempting uninstall: nvidia-cusparse-cu12\n",
            "    Found existing installation: nvidia-cusparse-cu12 12.5.1.3\n",
            "    Uninstalling nvidia-cusparse-cu12-12.5.1.3:\n",
            "      Successfully uninstalled nvidia-cusparse-cu12-12.5.1.3\n",
            "  Attempting uninstall: nvidia-cudnn-cu12\n",
            "    Found existing installation: nvidia-cudnn-cu12 9.3.0.75\n",
            "    Uninstalling nvidia-cudnn-cu12-9.3.0.75:\n",
            "      Successfully uninstalled nvidia-cudnn-cu12-9.3.0.75\n",
            "  Attempting uninstall: nvidia-cusolver-cu12\n",
            "    Found existing installation: nvidia-cusolver-cu12 11.6.3.83\n",
            "    Uninstalling nvidia-cusolver-cu12-11.6.3.83:\n",
            "      Successfully uninstalled nvidia-cusolver-cu12-11.6.3.83\n",
            "Successfully installed emoji-2.14.1 nvidia-cublas-cu12-12.4.5.8 nvidia-cuda-cupti-cu12-12.4.127 nvidia-cuda-nvrtc-cu12-12.4.127 nvidia-cuda-runtime-cu12-12.4.127 nvidia-cudnn-cu12-9.1.0.70 nvidia-cufft-cu12-11.2.1.3 nvidia-curand-cu12-10.3.5.147 nvidia-cusolver-cu12-11.6.1.9 nvidia-cusparse-cu12-12.3.1.170 nvidia-nvjitlink-cu12-12.4.127 stanza-1.10.1\n"
          ]
        }
      ]
    },
    {
      "cell_type": "code",
      "source": [
        "import stanza\n",
        "print(stanza.__version__)"
      ],
      "metadata": {
        "colab": {
          "base_uri": "https://localhost:8080/"
        },
        "id": "qFycFvQrfVTP",
        "outputId": "e3a9cf52-829d-40da-a9d0-414866e88564"
      },
      "execution_count": 11,
      "outputs": [
        {
          "output_type": "stream",
          "name": "stdout",
          "text": [
            "1.10.1\n"
          ]
        }
      ]
    },
    {
      "cell_type": "code",
      "source": [
        "from collections import Counter\n",
        "\n",
        "# Initialize pipeline\n",
        "stanza.download('ar')\n",
        "# nlp = stanza.Pipeline('ar')\n",
        "nlp = stanza.Pipeline('ar', processors='tokenize,pos,lemma,ner', use_gpu=True) # If connected to GPU\n",
        "\n",
        "\n"
      ],
      "metadata": {
        "id": "mp60qjBfPno6",
        "colab": {
          "base_uri": "https://localhost:8080/",
          "height": 575,
          "referenced_widgets": [
            "50392a558df14fb6a867748119564f6b",
            "766ac0d1004346388db2539cc0b10e51",
            "dadc62832bd74c10b9b1d11dffe18439",
            "458a9b8554fc4af0a87e6cebbca6dd9a",
            "3278928c8cfe4356ab9624d72534fa53",
            "8f437c72459c493eb79817812fe552be",
            "6d23cf87a46b4cfdbd93b3cae5178d4a",
            "4e9306f6e7d643fdaade50594afe4da5",
            "1589dff80ac0466489439488fb0ee3ed",
            "fbebbb0f4e4e4f85ad7460cb6c11516f",
            "a29701b893af468187d0f3f28905fbcc",
            "0526567a000d443d9979f69615e91e1f",
            "f0c9901d8a024d9d9e14584155e3499a",
            "c5dcae8326e74ebc8e916e71376dc488",
            "278ef76830cb4ebdb5b093d470538e93",
            "fa3b16e133b4448294cff506567657b1",
            "53e110e341aa439ab20c5a128779e449",
            "9d1f7f2d30ee4de2b1c66905ba7d2fde",
            "5b207d2aaa8a4d9abae7cedbf4e86848",
            "d6e482a5ea1049d29f925abb52a3d8c9",
            "f44711c466fb46eaaff2e59b6dc25276",
            "3bc0ae17411a474780c65cfc42ca857d",
            "f5525371f29446109b59d28c3b16d673",
            "88ec1132126a401b92550cfac2f59f1b",
            "b1c451b98fda4621adcf0bb178e10e7a",
            "3f03235fc5cf4629abaeb04bcca2a9a8",
            "d66c22a45b2f4e6299e2854d32c8312c",
            "0bcfb2d7fd674720b188d6c1a4e0de7d",
            "93b68add3106479891327a7fd0da5a50",
            "7464bef9c0aa44099fcde5f351464f0f",
            "aa5264f027a04b428c7f81865404a0d4",
            "fd550f8ecf764280a4dc2fa8d42dcb73",
            "385bf0e508954484abe80e7a7cdf327a"
          ]
        },
        "outputId": "0f439355-5c8b-4bb2-99d4-9535f8e3cc55"
      },
      "execution_count": 12,
      "outputs": [
        {
          "output_type": "display_data",
          "data": {
            "text/plain": [
              "Downloading https://raw.githubusercontent.com/stanfordnlp/stanza-resources/main/resources_1.10.0.json:   0%|  …"
            ],
            "application/vnd.jupyter.widget-view+json": {
              "version_major": 2,
              "version_minor": 0,
              "model_id": "50392a558df14fb6a867748119564f6b"
            }
          },
          "metadata": {}
        },
        {
          "output_type": "stream",
          "name": "stderr",
          "text": [
            "INFO:stanza:Downloaded file to /root/stanza_resources/resources.json\n",
            "INFO:stanza:Downloading default packages for language: ar (Arabic) ...\n"
          ]
        },
        {
          "output_type": "display_data",
          "data": {
            "text/plain": [
              "Downloading https://huggingface.co/stanfordnlp/stanza-ar/resolve/v1.10.0/models/default.zip:   0%|          | …"
            ],
            "application/vnd.jupyter.widget-view+json": {
              "version_major": 2,
              "version_minor": 0,
              "model_id": "0526567a000d443d9979f69615e91e1f"
            }
          },
          "metadata": {}
        },
        {
          "output_type": "stream",
          "name": "stderr",
          "text": [
            "INFO:stanza:Downloaded file to /root/stanza_resources/ar/default.zip\n",
            "INFO:stanza:Finished downloading models and saved to /root/stanza_resources\n",
            "INFO:stanza:Checking for updates to resources.json in case models have been updated.  Note: this behavior can be turned off with download_method=None or download_method=DownloadMethod.REUSE_RESOURCES\n"
          ]
        },
        {
          "output_type": "display_data",
          "data": {
            "text/plain": [
              "Downloading https://raw.githubusercontent.com/stanfordnlp/stanza-resources/main/resources_1.10.0.json:   0%|  …"
            ],
            "application/vnd.jupyter.widget-view+json": {
              "version_major": 2,
              "version_minor": 0,
              "model_id": "f5525371f29446109b59d28c3b16d673"
            }
          },
          "metadata": {}
        },
        {
          "output_type": "stream",
          "name": "stderr",
          "text": [
            "INFO:stanza:Downloaded file to /root/stanza_resources/resources.json\n",
            "WARNING:stanza:Language ar package default expects mwt, which has been added\n",
            "INFO:stanza:Loading these models for language: ar (Arabic):\n",
            "=============================\n",
            "| Processor | Package       |\n",
            "-----------------------------\n",
            "| tokenize  | padt          |\n",
            "| mwt       | padt          |\n",
            "| pos       | padt_charlm   |\n",
            "| lemma     | padt_nocharlm |\n",
            "| ner       | aqmar_charlm  |\n",
            "=============================\n",
            "\n",
            "INFO:stanza:Using device: cuda\n",
            "INFO:stanza:Loading: tokenize\n",
            "INFO:stanza:Loading: mwt\n",
            "INFO:stanza:Loading: pos\n",
            "INFO:stanza:Loading: lemma\n",
            "INFO:stanza:Loading: ner\n",
            "INFO:stanza:Done loading processors!\n"
          ]
        }
      ]
    },
    {
      "cell_type": "markdown",
      "source": [
        "## Below is a quick explanation of Stanza methods\n",
        "\n",
        "✅ doc.sentences\n",
        "\n",
        "Returns a list of Sentence objects, where each sentence contains:\n",
        "\n",
        "- Tokenized words\n",
        "\n",
        "- Annotated with part-of-speech (POS) tags, lemmas (if specified), etc.\n",
        "\n",
        "✅ sent.words\n",
        "\n",
        "Returns a list of Word objects for that sentence, each of which includes:\n",
        "\n",
        "- .text → original word/token\n",
        "\n",
        "- .lemma → lemmatized form (if lemma processor is included) which is the root of a word\n",
        "\n",
        "- .pos → part-of-speech tag (if pos is included) (e.g. NOUN, VERB, ADJECTIVE)\n",
        "\n",
        "✅ word.morph\n",
        "\n",
        "- Gives morphological features of a word — such as gender, number, tense, case, aspect, etc.\n",
        "\n",
        "✅ doc.ents\n",
        "\n",
        "List of Named Entity Recognition (NER) results, where each entity is a span of text with a type label.\n",
        "\n",
        "- .text → The string of the entity\n",
        "\n",
        "- .type → The category (e.g., PERSON, ORG, LOC, DATE)\n",
        "\n"
      ],
      "metadata": {
        "id": "QtcMJi_HKr_p"
      }
    },
    {
      "cell_type": "code",
      "source": [
        "# Analyze all texts\n",
        "for text in df['Feed'].head():\n",
        "    # docs = [nlp(text) for text in df['text'].head(100)]  # Limit batch size\n",
        "    doc = nlp(text)\n",
        "    print(f\"Original: {text}\")\n",
        "    print(\"Tokens:\", [word.text for sent in doc.sentences for word in sent.words])\n",
        "    print(\"Lemmas:\", [word.lemma for sent in doc.sentences for word in sent.words])\n",
        "    print(\"---\")"
      ],
      "metadata": {
        "id": "CiidY7aa6v1Y",
        "colab": {
          "base_uri": "https://localhost:8080/"
        },
        "outputId": "ddab98e7-c392-410f-b693-2fbc15981deb"
      },
      "execution_count": 13,
      "outputs": [
        {
          "output_type": "stream",
          "name": "stdout",
          "text": [
            "Original:  اربد فيها جامعات اكثر من عمان ... وفيها قد عمان ونص لعيبه المنتخب منها ... و 80 % من مطربين الاردن منها\n",
            "Tokens: ['اربد', 'في', 'ها', 'جامعات', 'اكثر', 'من', 'عمان', '.', '.', '.', 'و', 'في', 'ها', 'قد', 'عمان', 'ونص', 'ل', 'عيب', 'ه', 'المنتخب', 'من', 'ها', '.', '.', '.', 'و', '80', '%', 'من', 'مطربين', 'الاردن', 'من', 'ها']\n",
            "Lemmas: ['اربد', 'فِي', 'هُوَ', 'جَامِعَة', 'أَكثَر', 'مِن', 'عَمَّان', '.', '.', '.', 'وَ', 'فِي', 'هُوَ', 'قَد', 'عَمَّان', 'ونص', 'لِ', 'عَيب', 'هُوَ', 'مُنتَخَب', 'مِن', 'هُوَ', '.', '.', '.', 'وَ', '80', '%', 'مِن', 'مُطَرَّب', 'أُردُنّ', 'مِن', 'هُوَ']\n",
            "---\n",
            "Original:  الحلو انكم بتحكوا على اساس انو الاردن ما فيه فساد سرقات\n",
            "Tokens: ['الحلو', 'انكم', 'ب', 'تحكوا', 'على', 'اساس', 'انو', 'الاردن', 'ما', 'في', 'ه', 'فساد', 'سرقات']\n",
            "Lemmas: ['الحلو', 'هُوَ', 'بِ', 'تَحَكَّى', 'عَلَى', 'أَسَاس', 'انو', 'أُردُنّ', 'مَا', 'فِي', 'هُوَ', 'فَسَاد', 'سَرِيق']\n",
            "---\n",
            "Original:  كله رائع بجد ربنا يكرمك\n",
            "Tokens: ['كل', 'ه', 'رائع', 'بجد', 'ربنا', 'يكرمك']\n",
            "Lemmas: ['كُلّ', 'هُوَ', 'رَائِع', 'بجد', 'ربنا', 'كَرَّم']\n",
            "---\n",
            "Original:  لسانك قذر يا قمامه\n",
            "Tokens: ['ل', 'سانك', 'قذر', 'يا', 'قمامه']\n",
            "Lemmas: ['لَ', 'سانك', 'قَذر', 'يَا', 'هُوَ']\n",
            "---\n",
            "Original: ​انا داشره وغير متزوجه ولدي علاقات مشبوه واحشش واحيانا اهرب مخدرات و اجيد التسليك احب ان انكب نفسي وعلاقتي بالمنزل متوتره جد\n",
            "Tokens: ['\\u200bن', 'نا', 'داشر', 'ه', 'وغير', 'متزوج', 'ه', 'و', 'لدي', 'علاقات', 'مشبوه', 'و', 'أحشش', 'و', 'إحيانا', 'اهرب', 'مخدرات', 'و', 'اجيد', 'التسليك', 'احب', 'ان', 'انكب', 'نفسي', 'و', 'علاقتي', 'ب', 'المنزل', 'متوتر', 'ه', 'جد']\n",
            "Lemmas: ['أَنّ', 'هُوَ', 'دَاشِر', 'هُوَ', 'وَغِير', 'مُتَزَوِّج', 'هُوَ', 'وَ', 'لَدَى', 'عَلَاقَة', 'مَشبُوه', 'وَ', 'حَشِش', 'وَ', 'إِحَانَا', 'أَهرَب', 'مُخَدِّر', 'وَ', 'أَجَاد', 'التسليك', 'أَحَبّ', 'أَنَّ', 'أَنكَب', 'نَفسِيّ', 'وَ', 'عَلَاقَة', 'بِ', 'مَنزِل', 'مُتَوَتِّر', 'هُوَ', 'جَدّ']\n",
            "---\n"
          ]
        }
      ]
    },
    {
      "cell_type": "code",
      "source": [
        "text = df.at[df.index[0], 'Feed']\n",
        "doc = nlp(text)\n",
        "print(text)\n",
        "\n",
        "for sentence in doc.sentences:\n",
        "    for word in sentence.words:\n",
        "        print(f\"  Text: {word.text}, Lemma: {word.lemma}, POS: {word.pos}, Morph: {word.feats}\")\n"
      ],
      "metadata": {
        "id": "7A1qhn1f6xXs",
        "colab": {
          "base_uri": "https://localhost:8080/"
        },
        "outputId": "2e32867c-dbc1-44c6-bb20-3f7d80a31760"
      },
      "execution_count": 14,
      "outputs": [
        {
          "output_type": "stream",
          "name": "stdout",
          "text": [
            " اربد فيها جامعات اكثر من عمان ... وفيها قد عمان ونص لعيبه المنتخب منها ... و 80 % من مطربين الاردن منها\n",
            "  Text: اربد, Lemma: اربد, POS: X, Morph: None\n",
            "  Text: في, Lemma: فِي, POS: ADP, Morph: AdpType=Prep\n",
            "  Text: ها, Lemma: هُوَ, POS: PRON, Morph: Case=Gen|Gender=Fem|Number=Sing|Person=3|PronType=Prs\n",
            "  Text: جامعات, Lemma: جَامِعَة, POS: NOUN, Morph: Case=Nom|Definite=Cons|Number=Plur\n",
            "  Text: اكثر, Lemma: أَكثَر, POS: ADJ, Morph: Case=Nom|Definite=Ind|Gender=Masc|Number=Sing\n",
            "  Text: من, Lemma: مِن, POS: ADP, Morph: AdpType=Prep\n",
            "  Text: عمان, Lemma: عَمَّان, POS: NOUN, Morph: Case=Gen|Definite=Ind|Number=Sing\n",
            "  Text: ., Lemma: ., POS: PUNCT, Morph: None\n",
            "  Text: ., Lemma: ., POS: PUNCT, Morph: None\n",
            "  Text: ., Lemma: ., POS: PUNCT, Morph: None\n",
            "  Text: و, Lemma: وَ, POS: CCONJ, Morph: None\n",
            "  Text: في, Lemma: فِي, POS: ADP, Morph: AdpType=Prep\n",
            "  Text: ها, Lemma: هُوَ, POS: PRON, Morph: Case=Gen|Gender=Fem|Number=Sing|Person=3|PronType=Prs\n",
            "  Text: قد, Lemma: قَد, POS: AUX, Morph: None\n",
            "  Text: عمان, Lemma: عَمَّان, POS: NOUN, Morph: Case=Nom|Definite=Ind|Number=Sing\n",
            "  Text: ونص, Lemma: ونص, POS: X, Morph: None\n",
            "  Text: ل, Lemma: لِ, POS: ADP, Morph: AdpType=Prep\n",
            "  Text: عيب, Lemma: عَيب, POS: NOUN, Morph: Case=Gen|Definite=Cons|Number=Sing\n",
            "  Text: ه, Lemma: هُوَ, POS: PRON, Morph: Case=Gen|Gender=Masc|Number=Sing|Person=3|PronType=Prs\n",
            "  Text: المنتخب, Lemma: مُنتَخَب, POS: NOUN, Morph: Case=Nom|Definite=Def|Number=Sing\n",
            "  Text: من, Lemma: مِن, POS: ADP, Morph: AdpType=Prep\n",
            "  Text: ها, Lemma: هُوَ, POS: PRON, Morph: Case=Gen|Gender=Fem|Number=Sing|Person=3|PronType=Prs\n",
            "  Text: ., Lemma: ., POS: PUNCT, Morph: None\n",
            "  Text: ., Lemma: ., POS: PUNCT, Morph: None\n",
            "  Text: ., Lemma: ., POS: PUNCT, Morph: None\n",
            "  Text: و, Lemma: وَ, POS: CCONJ, Morph: None\n",
            "  Text: 80, Lemma: 80, POS: NUM, Morph: NumForm=Digit\n",
            "  Text: %, Lemma: %, POS: SYM, Morph: None\n",
            "  Text: من, Lemma: مِن, POS: ADP, Morph: AdpType=Prep\n",
            "  Text: مطربين, Lemma: مُطَرَّب, POS: NOUN, Morph: Case=Gen|Definite=Ind|Number=Plur\n",
            "  Text: الاردن, Lemma: أُردُنّ, POS: NOUN, Morph: Case=Gen|Definite=Def|Number=Sing\n",
            "  Text: من, Lemma: مِن, POS: ADP, Morph: AdpType=Prep\n",
            "  Text: ها, Lemma: هُوَ, POS: PRON, Morph: Case=Gen|Gender=Fem|Number=Sing|Person=3|PronType=Prs\n"
          ]
        }
      ]
    },
    {
      "cell_type": "code",
      "source": [
        "print(\"Named Entities:\")\n",
        "for text in df['Feed'].head():\n",
        "    doc = nlp(text)\n",
        "    for ent in doc.ents:\n",
        "        print(f\"  Entity: {ent.text}, Type: {ent.type}\")"
      ],
      "metadata": {
        "id": "Clbhssax6zvx",
        "colab": {
          "base_uri": "https://localhost:8080/"
        },
        "outputId": "691d6b31-32f4-4523-c9b6-384225784bee"
      },
      "execution_count": 15,
      "outputs": [
        {
          "output_type": "stream",
          "name": "stdout",
          "text": [
            "Named Entities:\n",
            "  Entity: عمان, Type: LOC\n",
            "  Entity: عمان, Type: LOC\n",
            "  Entity: الاردن, Type: LOC\n"
          ]
        }
      ]
    },
    {
      "cell_type": "code",
      "source": [
        "from collections import Counter\n",
        "\n",
        "pos_counter = Counter()\n",
        "\n",
        "for text in df['Feed'].head():\n",
        "    doc = nlp(text)\n",
        "    for sent in doc.sentences:\n",
        "        for word in sent.words:\n",
        "            pos_counter[word.pos] += 1\n",
        "\n",
        "print(\"\\n📈 POS Tag Frequency:\", pos_counter.most_common())\n"
      ],
      "metadata": {
        "id": "pf-j-ddk7Omn",
        "colab": {
          "base_uri": "https://localhost:8080/"
        },
        "outputId": "be4d210f-15b5-4f30-ae37-1d96c0b0fac2"
      },
      "execution_count": 16,
      "outputs": [
        {
          "output_type": "stream",
          "name": "stdout",
          "text": [
            "\n",
            "📈 POS Tag Frequency: [('NOUN', 20), ('PRON', 13), ('ADP', 12), ('X', 8), ('CCONJ', 8), ('VERB', 8), ('ADJ', 6), ('PUNCT', 6), ('PART', 2), ('AUX', 1), ('NUM', 1), ('SYM', 1), ('DET', 1), ('SCONJ', 1)]\n"
          ]
        }
      ]
    },
    {
      "cell_type": "code",
      "source": [
        "# Add word/token counts\n",
        "def count_words(text):\n",
        "    doc = nlp(text)\n",
        "    return sum(len(sent.words) for sent in doc.sentences)\n",
        "\n",
        "df['word_count'] = df['Feed'].apply(count_words)\n",
        "df['char_count'] = df['Feed'].apply(len)"
      ],
      "metadata": {
        "id": "J6PtAfmQ8hGZ"
      },
      "execution_count": null,
      "outputs": []
    },
    {
      "cell_type": "markdown",
      "source": [
        "The code counts the number of words across all sentences, based on tokenized output. We can see that stanza already tokenizes a little differently compared to basic python tokenization using when using list comprehension. This is proven by the diffeent word count graph shape from earlier in the notebook\n",
        "\n",
        "⚠️ It does not lemmatize or clean the text in this function — it just counts words after tokenization."
      ],
      "metadata": {
        "id": "_WsEMvrRJ5l-"
      }
    },
    {
      "cell_type": "code",
      "source": [
        "# Plot\n",
        "plt.figure(figsize=(12, 5))\n",
        "sns.histplot(df['word_count'], bins=140, kde=True)\n",
        "plt.xlabel('Length of Text')\n",
        "plt.ylabel('Frequency')\n",
        "plt.title('Distribution of Word Counts')\n",
        "plt.show()"
      ],
      "metadata": {
        "id": "Krek1Lkb-DyL"
      },
      "execution_count": null,
      "outputs": []
    },
    {
      "cell_type": "code",
      "source": [
        "word_counter = Counter()\n",
        "\n",
        "for text in df['Feed']:\n",
        "    doc = nlp(text)\n",
        "    for sentence in doc.sentences:\n",
        "        for word in sentence.words:\n",
        "            word_counter[word.text] += 1  # Use word.lemma for root forms\n"
      ],
      "metadata": {
        "id": "AWBfHnWQ-gM5"
      },
      "execution_count": null,
      "outputs": []
    },
    {
      "cell_type": "code",
      "source": [
        "# Convert to DataFrame\n",
        "word_freq_df = pd.DataFrame(word_counter.items(), columns=['word', 'count'])\n",
        "\n",
        "# Sort by frequency\n",
        "top_words = word_freq_df.sort_values(by='count', ascending=False).head(20)\n",
        "\n",
        "# Plot\n",
        "plt.figure(figsize=(10, 6))\n",
        "sns.barplot(data=top_words, x='count', y='word', palette='mako')\n",
        "plt.title(\"Top 20 Most Frequent Words\")\n",
        "plt.xlabel(\"Frequency\")\n",
        "plt.ylabel(\"Word\")\n",
        "plt.grid(axis='x')\n",
        "plt.show()\n"
      ],
      "metadata": {
        "id": "tMzoHj8f_aAJ"
      },
      "execution_count": null,
      "outputs": []
    },
    {
      "cell_type": "markdown",
      "source": [
        "You can see how stop words are some of the most abundant words in text but since they provide little information, we can filter them out to make sure the model can focus and learn from more context rich text."
      ],
      "metadata": {
        "id": "vo0e6wCWPnNo"
      }
    },
    {
      "cell_type": "code",
      "source": [
        "# Arabic stopwords (example list - replace with your own)\n",
        "# arabic_stopwords = set([\"في\", \"من\", \"إلى\", \"على\", \"أن\", \"هو\", \"هي\", \"ال\", \"و\", \"لا\"])\n",
        "from nltk.corpus import stopwords\n",
        "nltk.download('stopwords')\n",
        "arabic_stopwords = set(stopwords.words('arabic'))\n",
        "\n",
        "word_counter = Counter()\n",
        "\n",
        "for text in df['Feed']:\n",
        "    doc = nlp(text)\n",
        "    for sentence in doc.sentences:\n",
        "        for word in sentence.words:\n",
        "            if (word.text not in arabic_stopwords and\n",
        "                word.pos not in [\"PUNCT\", \"NUM\"]):  # Exclude numbers/punctuation\n",
        "                word_counter[word.text] += 1  # Use word.lemma for root forms\n",
        "\n",
        "# Convert to DataFrame\n",
        "word_freq_df = pd.DataFrame(word_counter.items(), columns=['word', 'count'])\n",
        "\n",
        "# Sort by frequency\n",
        "top_words = word_freq_df.sort_values(by='count', ascending=False).head(20)\n",
        "\n",
        "# Plot\n",
        "plt.figure(figsize=(10, 6))\n",
        "sns.barplot(data=top_words, x='count', y='word', palette='mako')\n",
        "plt.title(\"Top 20 Most Frequent Words\")\n",
        "plt.xlabel(\"Frequency\")\n",
        "plt.ylabel(\"Word\")\n",
        "plt.grid(axis='x')\n",
        "plt.show()\n",
        "\n"
      ],
      "metadata": {
        "id": "8JB7T4yTPUlk"
      },
      "execution_count": null,
      "outputs": []
    },
    {
      "cell_type": "markdown",
      "source": [
        "# Sentinment Analysis using various Models"
      ],
      "metadata": {
        "id": "jrfCKWF12nwH"
      }
    },
    {
      "cell_type": "markdown",
      "source": [
        "Logistic Regression is commonly used to initially evaluate datasets. Implementation and runtime is quick and easy and can serve as a baseline model for classification tasks. Many other models can outperfom logistic regression with the proper training so models try to aim to beat the performance of logistic regressions in the early stages of development. Gridsearch is used to train the model with various hyperparameters and pick the most performant one."
      ],
      "metadata": {
        "id": "gUtkufex3aKl"
      }
    },
    {
      "cell_type": "markdown",
      "source": [
        "This model below is also run without any preprocessing. Any preprocessing we do below should aim to outperfrom the results of this model."
      ],
      "metadata": {
        "id": "90DsbwXC4WGL"
      }
    },
    {
      "cell_type": "code",
      "source": [
        "feature = df['Feed']\n",
        "target = df['Sentiment']\n",
        "# splitting into train and tests\n",
        "X_train, X_test, Y_train, Y_test = train_test_split(feature, target, test_size =.2, random_state=100)\n",
        "\n",
        "# make pipeline\n",
        "pipe = make_pipeline(TfidfVectorizer(),\n",
        "                    LogisticRegression())\n",
        "# make param grid\n",
        "param_grid = {'logisticregression__C': [0.01, 0.1, 1, 10, 100]}\n",
        "\n",
        "# create and fit the model\n",
        "model = GridSearchCV(pipe, param_grid, cv=5)\n",
        "model.fit(X_train,Y_train)\n",
        "\n",
        "# make prediction and print accuracy\n",
        "prediction = model.predict(X_test)\n",
        "print(f\"Accuracy score is {accuracy_score(Y_test, prediction):.2f}\")\n",
        "print(classification_report(Y_test, prediction))"
      ],
      "metadata": {
        "id": "89BWfeKK2OZB"
      },
      "execution_count": null,
      "outputs": []
    },
    {
      "cell_type": "markdown",
      "source": [
        "In order to demonstrate the power of all the preprocessing techniques shown above I'll demonstrate the results of just removing punctuation, Arabic diacritics, elongation, and stopwords (which is available in NLTK corpus)."
      ],
      "metadata": {
        "id": "aXOR4wh44m7T"
      }
    },
    {
      "cell_type": "code",
      "source": [
        "# first we define a list of arabic and english punctiations that we want to get rid of in our text\n",
        "\n",
        "punctuations = '''`÷×؛<>_()*&^%][ـ،/:\"؟.,'{}~¦+|!”…“–ـ''' + string.punctuation\n",
        "\n",
        "# Arabic stop words with nltk\n",
        "from nltk.corpus import stopwords\n",
        "nltk.download('stopwords')\n",
        "arabic_stopwords = set(stopwords.words('arabic'))\n",
        "\n",
        "arabic_diacritics = re.compile(\"\"\"\n",
        "                             ّ    | # Shadda\n",
        "                             َ    | # Fatha\n",
        "                             ً    | # Tanwin Fath\n",
        "                             ُ    | # Damma\n",
        "                             ٌ    | # Tanwin Damm\n",
        "                             ِ    | # Kasra\n",
        "                             ٍ    | # Tanwin Kasr\n",
        "                             ْ    | # Sukun\n",
        "                             ـ     # Tatwil/Kashida\n",
        "                         \"\"\", re.VERBOSE)\n",
        "\n",
        "def preprocess(text):\n",
        "\n",
        "    '''\n",
        "    text is an arabic string input\n",
        "\n",
        "    the preprocessed text is returned\n",
        "    '''\n",
        "\n",
        "    #remove punctuations\n",
        "    translator = str.maketrans('', '', punctuations)\n",
        "    text = text.translate(translator)\n",
        "\n",
        "    # remove Tashkeel\n",
        "    text = re.sub(arabic_diacritics, '', text)\n",
        "\n",
        "    #remove longation\n",
        "    text = re.sub(\"[إأآا]\", \"ا\", text)\n",
        "    text = re.sub(\"ى\", \"ي\", text)\n",
        "    text = re.sub(\"ؤ\", \"ء\", text)\n",
        "    text = re.sub(\"ئ\", \"ء\", text)\n",
        "    text = re.sub(\"ة\", \"ه\", text)\n",
        "    text = re.sub(\"گ\", \"ك\", text)\n",
        "\n",
        "    text = ' '.join(word for word in text.split() if word not in arabic_stopwords)\n",
        "\n",
        "    return text\n",
        "\n",
        "df_simple = df.copy()\n",
        "df_simple['Feed'] = df_simple['Feed'].apply(preprocess)"
      ],
      "metadata": {
        "id": "aOpcrRs45Lqj"
      },
      "execution_count": null,
      "outputs": []
    },
    {
      "cell_type": "code",
      "source": [
        "print(df_simple.head())"
      ],
      "metadata": {
        "id": "p0FIRJms6UA2"
      },
      "execution_count": null,
      "outputs": []
    },
    {
      "cell_type": "code",
      "source": [
        "feature = df_simple['Feed']\n",
        "target = df_simple['Sentiment']\n",
        "# splitting into train and tests\n",
        "X_train, X_test, Y_train, Y_test = train_test_split(feature, target, test_size =.2, random_state=100)\n",
        "\n",
        "# make pipeline\n",
        "pipe = make_pipeline(TfidfVectorizer(),\n",
        "                    LogisticRegression())\n",
        "# make param grid\n",
        "param_grid = {'logisticregression__C': [0.01, 0.1, 1, 10, 100]}\n",
        "\n",
        "# create and fit the model\n",
        "model = GridSearchCV(pipe, param_grid, cv=5)\n",
        "model.fit(X_train,Y_train)\n",
        "\n",
        "# make prediction and print accuracy\n",
        "prediction = model.predict(X_test)\n",
        "print(f\"Accuracy score is {accuracy_score(Y_test, prediction):.2f}\")\n",
        "print(classification_report(Y_test, prediction))"
      ],
      "metadata": {
        "id": "M05xk3B06zYy"
      },
      "execution_count": null,
      "outputs": []
    },
    {
      "cell_type": "markdown",
      "source": [
        "This simple preprocessing step barely changes the results and this implies that the dataset is already very clean. Let us try more transformative text preprocessing."
      ],
      "metadata": {
        "id": "gXI0O3Ha8vaI"
      }
    },
    {
      "cell_type": "code",
      "source": [
        "nlp = stanza.Pipeline(lang='ar', processors='tokenize,lemma')"
      ],
      "metadata": {
        "id": "QNRsVdbKQMhY"
      },
      "execution_count": null,
      "outputs": []
    },
    {
      "cell_type": "markdown",
      "source": [
        "This time we will use the lemmas given to use by the lemmatizer from stanza and see if the logistic regression model gives us better results."
      ],
      "metadata": {
        "id": "DyNu3nPqQtIA"
      }
    },
    {
      "cell_type": "code",
      "source": [
        "def lemmatize(text):\n",
        "    doc = nlp(text)\n",
        "    lemmas = []\n",
        "    for sentence in doc.sentences:\n",
        "        for word in sentence.words:\n",
        "            lemmas.append(word.lemma)\n",
        "    return ' '.join(lemmas)\n",
        "\n",
        "df['Lemmatized'] = df['Feed'].apply(lemmatize)"
      ],
      "metadata": {
        "id": "y8Li05rNQQZR"
      },
      "execution_count": null,
      "outputs": []
    },
    {
      "cell_type": "code",
      "source": [
        "feature = df['Lemmatized']\n",
        "target = df['Sentiment']\n",
        "# splitting into train and tests\n",
        "X_train, X_test, Y_train, Y_test = train_test_split(feature, target, test_size =.2, random_state=100)\n",
        "\n",
        "# make pipeline\n",
        "pipe = make_pipeline(TfidfVectorizer(),\n",
        "                    LogisticRegression())\n",
        "# make param grid\n",
        "param_grid = {'logisticregression__C': [0.01, 0.1, 1, 10, 100]}\n",
        "\n",
        "# create and fit the model\n",
        "model = GridSearchCV(pipe, param_grid, cv=5)\n",
        "model.fit(X_train,Y_train)\n",
        "\n",
        "# make prediction and print accuracy\n",
        "prediction = model.predict(X_test)\n",
        "print(f\"Accuracy score is {accuracy_score(Y_test, prediction):.2f}\")\n",
        "print(classification_report(Y_test, prediction))"
      ],
      "metadata": {
        "id": "40ZucBBoQnXr"
      },
      "execution_count": null,
      "outputs": []
    },
    {
      "cell_type": "code",
      "source": [
        "df.at[df.index[0], 'Lemmatized']"
      ],
      "metadata": {
        "id": "9GK4Ub-WaTAh"
      },
      "execution_count": null,
      "outputs": []
    },
    {
      "cell_type": "markdown",
      "source": [
        "We notice that the lemmatized text actually performs worse than the non-lemmatized text. Let's investigate why.\n",
        "\n",
        "```\n",
        "Basic custom text Logistic Regression\n",
        "\n",
        "Accuracy score is 0.82\n",
        "              precision    recall  f1-score   support\n",
        "\n",
        "    Negative       0.85      0.78      0.81       176\n",
        "    Positive       0.81      0.86      0.83       184\n",
        "\n",
        "    accuracy                           0.82       360\n",
        "   macro avg       0.83      0.82      0.82       360\n",
        "weighted avg       0.83      0.82      0.82       360\n",
        "\n",
        "=====================================================\n",
        "\n",
        "Lemmatized Logistic Regression\n",
        "\n",
        "Accuracy score is 0.76\n",
        "    Negative       0.76      0.75      0.75       176\n",
        "    Positive       0.76      0.77      0.77       184\n",
        "\n",
        "    accuracy                           0.76       360\n",
        "   macro avg       0.76      0.76      0.76       360\n",
        "weighted avg       0.76      0.76      0.76       360\n",
        "```"
      ],
      "metadata": {
        "id": "vPRz9zyRaqwH"
      }
    },
    {
      "cell_type": "markdown",
      "source": [
        "Before we address the myriad of reasons why this unexpected behavior could be occuring, I want to explain why NLP data pipelines lemmatization.\n",
        "\n",
        "# Why We Use Lemmatization in NLP (And When It Helps or Hurts)\n",
        "\n",
        "Lemmatization is a fundamental text normalization technique in natural language processing, but its effectiveness depends on the specific application. Here's a comprehensive look at its purpose and trade-offs:\n",
        "\n",
        "## Core Purpose of Lemmatization\n",
        "\n",
        "1. **Word Form Consolidation**:\n",
        "   - Reduces inflectional forms to a common base (lemma)\n",
        "   - Example: \"running\", \"ran\", \"runs\" → \"run\"\n",
        "\n",
        "2. **Vocabulary Reduction**:\n",
        "   - Decreases feature space dimensionality by grouping variants\n",
        "   - Helps with data sparsity issues in statistical models\n",
        "\n",
        "3. **Semantic Normalization**:\n",
        "   - Connects different grammatical forms to the same concept\n",
        "   - Preserves meaning better than stemming (which just chops endings)\n",
        "\n",
        "## Where Lemmatization Helps Most\n",
        "\n",
        "### Beneficial Use Cases:\n",
        "1. **Information Retrieval**:\n",
        "   - Improves recall by matching query variants (\"swim\" finds \"swimming\")\n",
        "   - Search engines often use lemmatization internally\n",
        "\n",
        "2. **Topic Modeling**:\n",
        "   - Produces cleaner topics by grouping word forms\n",
        "   - LDA models benefit from reduced feature space\n",
        "\n",
        "3. **Machine Translation**:\n",
        "   - Helps align words across languages with different inflection patterns\n",
        "\n",
        "4. **Knowledge Graphs**:\n",
        "   - Creates cleaner entity representations by normalizing surface forms\n",
        "\n",
        "5. **Morphologically Rich Languages**:\n",
        "   - Especially valuable for languages like Arabic, German, or Russian with many inflections\n",
        "\n",
        "## When Lemmatization Can Hurt Performance\n",
        "\n",
        "1. **Context-Sensitive Tasks**:\n",
        "   - Sentiment analysis: \"This product *exceeds* expectations\" vs \"This product *exceeded* expectations\" may carry different strengths\n",
        "\n",
        "2. **Temporal Analysis**:\n",
        "   - Verb tenses matter in time-series text (e.g., earnings reports: \"will grow\" vs \"grew\")\n",
        "\n",
        "3. **Simple Models**:\n",
        "   - Linear models may lack capacity to exploit the cleaner but more abstract features\n",
        "\n",
        "4. **Short Text/Domain-Specific Jargon**:\n",
        "   - Technical terms or named entities often shouldn't be lemmatized\n",
        "\n",
        "5. **Feature-Starved Problems**:\n",
        "   - When you have limited training data, preserving original forms provides more signal\n",
        "\n",
        "## Technical Trade-offs\n",
        "\n",
        "| Aspect | With Lemmatization | Without Lemmatization |\n",
        "|--------|-------------------|-----------------------|\n",
        "| Feature Space | Smaller, denser | Larger, sparser |\n",
        "| Computational Cost | Higher preprocessing | Lower preprocessing |\n",
        "| Model Complexity | Works better with sophisticated models | Tolerable with simple models |\n",
        "| Context Preservation | Loses some surface form info | Maintains original distinctions |\n",
        "| Multilingual Support | Needs language-specific lemmatizers | Universally applicable |\n"
      ],
      "metadata": {
        "id": "1nNqhw2YeYqb"
      }
    },
    {
      "cell_type": "markdown",
      "source": [
        "# In our specific case we can identify multiple topics that attribute to our problem in this list below:\n",
        "\n",
        "## Simple Models\n",
        "In our scenario, our model is extremely simple and cannot learn abstract domains as well as more complicated models like Nueral Networks. Therefore, cleaner data where relationships could be found more easily could not be discovered. Cleaner data for logisitc regression might just mean the elimination of features.\n",
        "\n",
        "## Feature-Started Problems\n",
        "I only fed in IF-IDF data into our models. This lack of features makes it hard for the model to learn from so little data, and lemmatization removes even more data. Therefore the logisitc regression models perform worse in our scenario. Tweets are also very short so lemmatization removes sparsity that short-text classification relies upon.\n",
        "\n",
        "\n",
        "\n",
        "---\n"
      ],
      "metadata": {
        "id": "-1ZNRmnofLEv"
      }
    },
    {
      "cell_type": "markdown",
      "source": [
        "## ✅ Potential Solutions\n",
        "\n",
        "### ✅ 1. **Use the original `preprocess()` + lemmatized text combined**\n",
        "\n",
        "```python\n",
        "df['clean'] = df['Feed'].apply(preprocess)\n",
        "df['hybrid'] = df['clean'] + ' ' + df['Lemmatized']\n",
        "```\n",
        "\n",
        "Train on `df['hybrid']` — this gives the model:\n",
        "\n",
        "* Morphology-rich raw words\n",
        "* Generalized lemmas\n",
        "* Combined signals\n",
        "\n",
        "---\n",
        "\n",
        "### ✅ 2. **Character-level TF-IDF**\n",
        "\n",
        "Arabic morphology is rich. Try:\n",
        "\n",
        "```python\n",
        "TfidfVectorizer(analyzer='char_wb', ngram_range=(3,5))\n",
        "```\n",
        "\n",
        "This will help capture root patterns like \"سعيد\", \"سعيده\", \"سعداء\" etc.\n",
        "\n",
        "---\n",
        "\n",
        "### ✅ 3. **POS Filtering in Stanza**\n",
        "\n",
        "Only keep words with POS in `['ADJ', 'VERB', 'NOUN']` — usually most relevant to sentiment.\n",
        "\n",
        "Update the `lemmatize()` function to:\n",
        "\n",
        "```python\n",
        "def lemmatize(text):\n",
        "    doc = nlp(text)\n",
        "    lemmas = []\n",
        "    for sentence in doc.sentences:\n",
        "        for word in sentence.words:\n",
        "            if word.pos in ['ADJ', 'V', 'NOUN']:\n",
        "                lemmas.append(word.lemma)\n",
        "    return ' '.join(lemmas)\n",
        "```\n",
        "\n",
        "---\n",
        "\n",
        "### ✅ 4. **Try stemming instead of lemmatization**\n",
        "\n",
        "Use NLTK’s `ISRIStemmer` or the `ArabicLightStemmer` from `camel_tools` — they might preserve more sentiment features than lemmas.\n",
        "\n",
        "---\n"
      ],
      "metadata": {
        "id": "qdufLPMOiyPH"
      }
    },
    {
      "cell_type": "code",
      "source": [
        "nlp = stanza.Pipeline(lang='ar', processors='tokenize,lemma,pos')\n",
        "\n",
        "def lemmatize(text):\n",
        "    doc = nlp(text)\n",
        "    lemmas = []\n",
        "    for sentence in doc.sentences:\n",
        "        for word in sentence.words:\n",
        "            if word.pos in ['ADJ', 'V', 'NOUN']:\n",
        "                lemmas.append(word.lemma)\n",
        "    return ' '.join(lemmas)"
      ],
      "metadata": {
        "id": "MwTM91EUkjUK"
      },
      "execution_count": null,
      "outputs": []
    },
    {
      "cell_type": "code",
      "source": [
        "df['clean'] = df['Feed'].apply(preprocess)\n",
        "df['lemmas'] = df['Feed'].apply(lemmatize)\n",
        "df['Hybrid'] = df['clean'] + ' ' + df['lemmas']\n"
      ],
      "metadata": {
        "id": "8VE61MwjkoNx"
      },
      "execution_count": null,
      "outputs": []
    },
    {
      "cell_type": "code",
      "source": [
        "feature = df['Hybrid']\n",
        "target = df['Sentiment']\n",
        "\n",
        "X_train, X_test, y_train, y_test = train_test_split(\n",
        "    feature, target, test_size=0.2, random_state=100\n",
        ")\n",
        "\n",
        "# TF-IDF + Logistic Regression Pipeline\n",
        "pipe = make_pipeline(\n",
        "    TfidfVectorizer(),\n",
        "    LogisticRegression(max_iter=1000)\n",
        ")\n",
        "\n",
        "param_grid = {\n",
        "    'logisticregression__C': [0.01, 0.1, 1, 10, 100]\n",
        "}\n",
        "\n",
        "model = GridSearchCV(pipe, param_grid, cv=5)\n",
        "model.fit(X_train, y_train)\n",
        "\n",
        "# Evaluation\n",
        "y_pred = model.predict(X_test)\n",
        "print(f\"Accuracy score is {accuracy_score(y_test, y_pred):.2f}\")\n",
        "print(classification_report(y_test, y_pred))\n"
      ],
      "metadata": {
        "id": "-lE1Tls-kx_H"
      },
      "execution_count": null,
      "outputs": []
    },
    {
      "cell_type": "markdown",
      "source": [
        "## Our accuracy score is back to the original model. This is good enough for now. There are more complicated models that have been proved to perform better on a wide variety of tasks, so spending time fine-tuning models would be better spend on other models. Let's try out other models!"
      ],
      "metadata": {
        "id": "nnoBSdd_oeb0"
      }
    },
    {
      "cell_type": "code",
      "source": [
        "pipe = make_pipeline(TfidfVectorizer(),\n",
        "                    RandomForestClassifier())\n",
        "\n",
        "param_grid = {'randomforestclassifier__n_estimators':[10, 100, 1000],\n",
        "             'randomforestclassifier__max_features':['sqrt', 'log2']}\n",
        "\n",
        "rf_model = GridSearchCV(pipe, param_grid, cv=5)\n",
        "rf_model.fit(X_train,Y_train)\n",
        "\n",
        "prediction = rf_model.predict(X_test)\n",
        "print(f\"Accuracy score is {accuracy_score(Y_test, prediction):.2f}\")\n",
        "print(classification_report(Y_test, prediction))"
      ],
      "metadata": {
        "id": "eph8iv_SJOFa"
      },
      "execution_count": null,
      "outputs": []
    },
    {
      "cell_type": "code",
      "source": [
        "pipe = make_pipeline(TfidfVectorizer(),\n",
        "                    MultinomialNB())\n",
        "pipe.fit(X_train,Y_train)\n",
        "prediction = pipe.predict(X_test)\n",
        "print(f\"Accuracy score is {accuracy_score(Y_test, prediction):.2f}\")\n",
        "print(classification_report(Y_test, prediction))"
      ],
      "metadata": {
        "id": "b9bQwDoGVyv_"
      },
      "execution_count": null,
      "outputs": []
    },
    {
      "cell_type": "code",
      "source": [
        "pipe = make_pipeline(TfidfVectorizer(),\n",
        "                     SVC())\n",
        "param_grid = {'svc__kernel': ['rbf', 'linear', 'poly'],\n",
        "             'svc__gamma': [0.1, 1, 10, 100],\n",
        "             'svc__C': [0.1, 1, 10, 100]}\n",
        "\n",
        "svc_model = GridSearchCV(pipe, param_grid, cv=3)\n",
        "svc_model.fit(X_train, Y_train)\n",
        "\n",
        "prediction = svc_model.predict(X_test)\n",
        "print(f\"Accuracy score is {accuracy_score(Y_test, prediction):.2f}\")\n",
        "print(classification_report(Y_test, prediction))"
      ],
      "metadata": {
        "id": "chdgSFHGV2og"
      },
      "execution_count": null,
      "outputs": []
    },
    {
      "cell_type": "markdown",
      "source": [
        "---\n",
        "# 🏁 Conclusion\n",
        "\n",
        "These ML models performed similarly and quickly. Naive Bayes was the winner by a small margin and it is also very fast to run. Depending on the purpose of your task, you might want to choose a model with higher precision or recall.\n"
      ],
      "metadata": {
        "id": "RaBlpowfRoGe"
      }
    },
    {
      "cell_type": "markdown",
      "source": [
        "# 💡 Next Steps\n",
        "\n",
        "1. Dialect detection and feature augmentation\n",
        "    - We can also do one more preprocessing step which would be to add another feature that is the dialect. If the data comes labeled with dialects it would be as simple as just adding the label. Otherwise we would need to determine the dialect with another ML model.\n",
        "\n",
        "2. Expanding feature sparsity\n",
        "    - We could try to augment the data even further with words embeddings, bag of words, or word2vec. Respresenting words with embedded features gathered from layers from Neural Network models are a very powerful way to represent words contextually.\n",
        "\n",
        "3. Complex models\n",
        "    - With high deminsional features, more complicated models like Recurrent Neural Networks (RNNs), Long Short-Term Memory (LSTM), Gated Recurrent Units (GRU), Transformer Models, Convolutional Neural Networks (CNNs). We will dicuss more advanced data augmentation/preprocessing techniques and more advanced models that are better equipped to leverage higher dimensional feature space in the next notebook. You can find it on my github: https://github.com/jhchang/Sentiment-Analysis-on-Arabic-Text"
      ],
      "metadata": {
        "id": "5Gnsv6jRSeKv"
      }
    },
    {
      "cell_type": "markdown",
      "source": [
        "Credits:\n",
        "- https://towardsdatascience.com/arabic-sentiment-analysis-5e21b77fb5ea/\n"
      ],
      "metadata": {
        "id": "b2cvxh84JR4E"
      }
    }
  ]
}