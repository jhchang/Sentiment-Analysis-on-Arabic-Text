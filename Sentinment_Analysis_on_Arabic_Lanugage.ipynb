{
  "nbformat": 4,
  "nbformat_minor": 0,
  "metadata": {
    "colab": {
      "provenance": [],
      "collapsed_sections": [
        "ul6UwdeGBI2w"
      ],
      "gpuType": "T4",
      "authorship_tag": "ABX9TyPBc2O4rdi6ekh0W3GtXfUM",
      "include_colab_link": true
    },
    "kernelspec": {
      "name": "python3",
      "display_name": "Python 3"
    },
    "language_info": {
      "name": "python"
    },
    "accelerator": "GPU",
    "widgets": {
      "application/vnd.jupyter.widget-state+json": {
        "e65bd44ac8834715aa474586e685de5f": {
          "model_module": "@jupyter-widgets/controls",
          "model_name": "HBoxModel",
          "model_module_version": "1.5.0",
          "state": {
            "_dom_classes": [],
            "_model_module": "@jupyter-widgets/controls",
            "_model_module_version": "1.5.0",
            "_model_name": "HBoxModel",
            "_view_count": null,
            "_view_module": "@jupyter-widgets/controls",
            "_view_module_version": "1.5.0",
            "_view_name": "HBoxView",
            "box_style": "",
            "children": [
              "IPY_MODEL_18314f1bf88d43b8a18cc63873be2962",
              "IPY_MODEL_7f91512b4060444fa3e5e30a0015cfca",
              "IPY_MODEL_9ddde9d863374c9ab14aba25804acd4c"
            ],
            "layout": "IPY_MODEL_5ad7e8ad648344a7b2981be7a8a90b34"
          }
        },
        "18314f1bf88d43b8a18cc63873be2962": {
          "model_module": "@jupyter-widgets/controls",
          "model_name": "HTMLModel",
          "model_module_version": "1.5.0",
          "state": {
            "_dom_classes": [],
            "_model_module": "@jupyter-widgets/controls",
            "_model_module_version": "1.5.0",
            "_model_name": "HTMLModel",
            "_view_count": null,
            "_view_module": "@jupyter-widgets/controls",
            "_view_module_version": "1.5.0",
            "_view_name": "HTMLView",
            "description": "",
            "description_tooltip": null,
            "layout": "IPY_MODEL_e42ab2688b024721bcd236d5c8a6de3f",
            "placeholder": "​",
            "style": "IPY_MODEL_b07f974a28cb4b689e2ce29e97aa3a86",
            "value": "Downloading https://raw.githubusercontent.com/stanfordnlp/stanza-resources/main/resources_1.10.0.json: "
          }
        },
        "7f91512b4060444fa3e5e30a0015cfca": {
          "model_module": "@jupyter-widgets/controls",
          "model_name": "FloatProgressModel",
          "model_module_version": "1.5.0",
          "state": {
            "_dom_classes": [],
            "_model_module": "@jupyter-widgets/controls",
            "_model_module_version": "1.5.0",
            "_model_name": "FloatProgressModel",
            "_view_count": null,
            "_view_module": "@jupyter-widgets/controls",
            "_view_module_version": "1.5.0",
            "_view_name": "ProgressView",
            "bar_style": "success",
            "description": "",
            "description_tooltip": null,
            "layout": "IPY_MODEL_19593d01c4e044178358a2b410f04e43",
            "max": 53050,
            "min": 0,
            "orientation": "horizontal",
            "style": "IPY_MODEL_3846200007d34159b374d75f76a7eed6",
            "value": 53050
          }
        },
        "9ddde9d863374c9ab14aba25804acd4c": {
          "model_module": "@jupyter-widgets/controls",
          "model_name": "HTMLModel",
          "model_module_version": "1.5.0",
          "state": {
            "_dom_classes": [],
            "_model_module": "@jupyter-widgets/controls",
            "_model_module_version": "1.5.0",
            "_model_name": "HTMLModel",
            "_view_count": null,
            "_view_module": "@jupyter-widgets/controls",
            "_view_module_version": "1.5.0",
            "_view_name": "HTMLView",
            "description": "",
            "description_tooltip": null,
            "layout": "IPY_MODEL_afd02683a3f547c7a49bafa9f3a72604",
            "placeholder": "​",
            "style": "IPY_MODEL_bc1c8867d5f44d0da1c0d198b2cfda32",
            "value": " 428k/? [00:00&lt;00:00, 22.7MB/s]"
          }
        },
        "5ad7e8ad648344a7b2981be7a8a90b34": {
          "model_module": "@jupyter-widgets/base",
          "model_name": "LayoutModel",
          "model_module_version": "1.2.0",
          "state": {
            "_model_module": "@jupyter-widgets/base",
            "_model_module_version": "1.2.0",
            "_model_name": "LayoutModel",
            "_view_count": null,
            "_view_module": "@jupyter-widgets/base",
            "_view_module_version": "1.2.0",
            "_view_name": "LayoutView",
            "align_content": null,
            "align_items": null,
            "align_self": null,
            "border": null,
            "bottom": null,
            "display": null,
            "flex": null,
            "flex_flow": null,
            "grid_area": null,
            "grid_auto_columns": null,
            "grid_auto_flow": null,
            "grid_auto_rows": null,
            "grid_column": null,
            "grid_gap": null,
            "grid_row": null,
            "grid_template_areas": null,
            "grid_template_columns": null,
            "grid_template_rows": null,
            "height": null,
            "justify_content": null,
            "justify_items": null,
            "left": null,
            "margin": null,
            "max_height": null,
            "max_width": null,
            "min_height": null,
            "min_width": null,
            "object_fit": null,
            "object_position": null,
            "order": null,
            "overflow": null,
            "overflow_x": null,
            "overflow_y": null,
            "padding": null,
            "right": null,
            "top": null,
            "visibility": null,
            "width": null
          }
        },
        "e42ab2688b024721bcd236d5c8a6de3f": {
          "model_module": "@jupyter-widgets/base",
          "model_name": "LayoutModel",
          "model_module_version": "1.2.0",
          "state": {
            "_model_module": "@jupyter-widgets/base",
            "_model_module_version": "1.2.0",
            "_model_name": "LayoutModel",
            "_view_count": null,
            "_view_module": "@jupyter-widgets/base",
            "_view_module_version": "1.2.0",
            "_view_name": "LayoutView",
            "align_content": null,
            "align_items": null,
            "align_self": null,
            "border": null,
            "bottom": null,
            "display": null,
            "flex": null,
            "flex_flow": null,
            "grid_area": null,
            "grid_auto_columns": null,
            "grid_auto_flow": null,
            "grid_auto_rows": null,
            "grid_column": null,
            "grid_gap": null,
            "grid_row": null,
            "grid_template_areas": null,
            "grid_template_columns": null,
            "grid_template_rows": null,
            "height": null,
            "justify_content": null,
            "justify_items": null,
            "left": null,
            "margin": null,
            "max_height": null,
            "max_width": null,
            "min_height": null,
            "min_width": null,
            "object_fit": null,
            "object_position": null,
            "order": null,
            "overflow": null,
            "overflow_x": null,
            "overflow_y": null,
            "padding": null,
            "right": null,
            "top": null,
            "visibility": null,
            "width": null
          }
        },
        "b07f974a28cb4b689e2ce29e97aa3a86": {
          "model_module": "@jupyter-widgets/controls",
          "model_name": "DescriptionStyleModel",
          "model_module_version": "1.5.0",
          "state": {
            "_model_module": "@jupyter-widgets/controls",
            "_model_module_version": "1.5.0",
            "_model_name": "DescriptionStyleModel",
            "_view_count": null,
            "_view_module": "@jupyter-widgets/base",
            "_view_module_version": "1.2.0",
            "_view_name": "StyleView",
            "description_width": ""
          }
        },
        "19593d01c4e044178358a2b410f04e43": {
          "model_module": "@jupyter-widgets/base",
          "model_name": "LayoutModel",
          "model_module_version": "1.2.0",
          "state": {
            "_model_module": "@jupyter-widgets/base",
            "_model_module_version": "1.2.0",
            "_model_name": "LayoutModel",
            "_view_count": null,
            "_view_module": "@jupyter-widgets/base",
            "_view_module_version": "1.2.0",
            "_view_name": "LayoutView",
            "align_content": null,
            "align_items": null,
            "align_self": null,
            "border": null,
            "bottom": null,
            "display": null,
            "flex": null,
            "flex_flow": null,
            "grid_area": null,
            "grid_auto_columns": null,
            "grid_auto_flow": null,
            "grid_auto_rows": null,
            "grid_column": null,
            "grid_gap": null,
            "grid_row": null,
            "grid_template_areas": null,
            "grid_template_columns": null,
            "grid_template_rows": null,
            "height": null,
            "justify_content": null,
            "justify_items": null,
            "left": null,
            "margin": null,
            "max_height": null,
            "max_width": null,
            "min_height": null,
            "min_width": null,
            "object_fit": null,
            "object_position": null,
            "order": null,
            "overflow": null,
            "overflow_x": null,
            "overflow_y": null,
            "padding": null,
            "right": null,
            "top": null,
            "visibility": null,
            "width": null
          }
        },
        "3846200007d34159b374d75f76a7eed6": {
          "model_module": "@jupyter-widgets/controls",
          "model_name": "ProgressStyleModel",
          "model_module_version": "1.5.0",
          "state": {
            "_model_module": "@jupyter-widgets/controls",
            "_model_module_version": "1.5.0",
            "_model_name": "ProgressStyleModel",
            "_view_count": null,
            "_view_module": "@jupyter-widgets/base",
            "_view_module_version": "1.2.0",
            "_view_name": "StyleView",
            "bar_color": null,
            "description_width": ""
          }
        },
        "afd02683a3f547c7a49bafa9f3a72604": {
          "model_module": "@jupyter-widgets/base",
          "model_name": "LayoutModel",
          "model_module_version": "1.2.0",
          "state": {
            "_model_module": "@jupyter-widgets/base",
            "_model_module_version": "1.2.0",
            "_model_name": "LayoutModel",
            "_view_count": null,
            "_view_module": "@jupyter-widgets/base",
            "_view_module_version": "1.2.0",
            "_view_name": "LayoutView",
            "align_content": null,
            "align_items": null,
            "align_self": null,
            "border": null,
            "bottom": null,
            "display": null,
            "flex": null,
            "flex_flow": null,
            "grid_area": null,
            "grid_auto_columns": null,
            "grid_auto_flow": null,
            "grid_auto_rows": null,
            "grid_column": null,
            "grid_gap": null,
            "grid_row": null,
            "grid_template_areas": null,
            "grid_template_columns": null,
            "grid_template_rows": null,
            "height": null,
            "justify_content": null,
            "justify_items": null,
            "left": null,
            "margin": null,
            "max_height": null,
            "max_width": null,
            "min_height": null,
            "min_width": null,
            "object_fit": null,
            "object_position": null,
            "order": null,
            "overflow": null,
            "overflow_x": null,
            "overflow_y": null,
            "padding": null,
            "right": null,
            "top": null,
            "visibility": null,
            "width": null
          }
        },
        "bc1c8867d5f44d0da1c0d198b2cfda32": {
          "model_module": "@jupyter-widgets/controls",
          "model_name": "DescriptionStyleModel",
          "model_module_version": "1.5.0",
          "state": {
            "_model_module": "@jupyter-widgets/controls",
            "_model_module_version": "1.5.0",
            "_model_name": "DescriptionStyleModel",
            "_view_count": null,
            "_view_module": "@jupyter-widgets/base",
            "_view_module_version": "1.2.0",
            "_view_name": "StyleView",
            "description_width": ""
          }
        },
        "e11b395d17034caa95d771a672833684": {
          "model_module": "@jupyter-widgets/controls",
          "model_name": "HBoxModel",
          "model_module_version": "1.5.0",
          "state": {
            "_dom_classes": [],
            "_model_module": "@jupyter-widgets/controls",
            "_model_module_version": "1.5.0",
            "_model_name": "HBoxModel",
            "_view_count": null,
            "_view_module": "@jupyter-widgets/controls",
            "_view_module_version": "1.5.0",
            "_view_name": "HBoxView",
            "box_style": "",
            "children": [
              "IPY_MODEL_a0fee71d114d40c4bc1cd073843576dc",
              "IPY_MODEL_764ff02b24554449abc7c2526b385df6",
              "IPY_MODEL_def19417d8e7466d9f142a6710e051fc"
            ],
            "layout": "IPY_MODEL_b0c213a987f44e72a4f751fbce8c51da"
          }
        },
        "a0fee71d114d40c4bc1cd073843576dc": {
          "model_module": "@jupyter-widgets/controls",
          "model_name": "HTMLModel",
          "model_module_version": "1.5.0",
          "state": {
            "_dom_classes": [],
            "_model_module": "@jupyter-widgets/controls",
            "_model_module_version": "1.5.0",
            "_model_name": "HTMLModel",
            "_view_count": null,
            "_view_module": "@jupyter-widgets/controls",
            "_view_module_version": "1.5.0",
            "_view_name": "HTMLView",
            "description": "",
            "description_tooltip": null,
            "layout": "IPY_MODEL_69a3e6a2ba294aeca39ebceefeeb6128",
            "placeholder": "​",
            "style": "IPY_MODEL_387b5bde7fdf437c84f36eeeda776b02",
            "value": "Downloading https://huggingface.co/stanfordnlp/stanza-ar/resolve/v1.10.0/models/default.zip: 100%"
          }
        },
        "764ff02b24554449abc7c2526b385df6": {
          "model_module": "@jupyter-widgets/controls",
          "model_name": "FloatProgressModel",
          "model_module_version": "1.5.0",
          "state": {
            "_dom_classes": [],
            "_model_module": "@jupyter-widgets/controls",
            "_model_module_version": "1.5.0",
            "_model_name": "FloatProgressModel",
            "_view_count": null,
            "_view_module": "@jupyter-widgets/controls",
            "_view_module_version": "1.5.0",
            "_view_name": "ProgressView",
            "bar_style": "success",
            "description": "",
            "description_tooltip": null,
            "layout": "IPY_MODEL_fd634cb4ffd8411598b0aab86af475b7",
            "max": 459180714,
            "min": 0,
            "orientation": "horizontal",
            "style": "IPY_MODEL_8d8777d2d4344fb087278c952bd63d2c",
            "value": 459180714
          }
        },
        "def19417d8e7466d9f142a6710e051fc": {
          "model_module": "@jupyter-widgets/controls",
          "model_name": "HTMLModel",
          "model_module_version": "1.5.0",
          "state": {
            "_dom_classes": [],
            "_model_module": "@jupyter-widgets/controls",
            "_model_module_version": "1.5.0",
            "_model_name": "HTMLModel",
            "_view_count": null,
            "_view_module": "@jupyter-widgets/controls",
            "_view_module_version": "1.5.0",
            "_view_name": "HTMLView",
            "description": "",
            "description_tooltip": null,
            "layout": "IPY_MODEL_4b80aaa2db5048f28dc5170393651cda",
            "placeholder": "​",
            "style": "IPY_MODEL_bdf27c970cef4ff5926dabf33cf3f4a0",
            "value": " 459M/459M [00:02&lt;00:00, 205MB/s]"
          }
        },
        "b0c213a987f44e72a4f751fbce8c51da": {
          "model_module": "@jupyter-widgets/base",
          "model_name": "LayoutModel",
          "model_module_version": "1.2.0",
          "state": {
            "_model_module": "@jupyter-widgets/base",
            "_model_module_version": "1.2.0",
            "_model_name": "LayoutModel",
            "_view_count": null,
            "_view_module": "@jupyter-widgets/base",
            "_view_module_version": "1.2.0",
            "_view_name": "LayoutView",
            "align_content": null,
            "align_items": null,
            "align_self": null,
            "border": null,
            "bottom": null,
            "display": null,
            "flex": null,
            "flex_flow": null,
            "grid_area": null,
            "grid_auto_columns": null,
            "grid_auto_flow": null,
            "grid_auto_rows": null,
            "grid_column": null,
            "grid_gap": null,
            "grid_row": null,
            "grid_template_areas": null,
            "grid_template_columns": null,
            "grid_template_rows": null,
            "height": null,
            "justify_content": null,
            "justify_items": null,
            "left": null,
            "margin": null,
            "max_height": null,
            "max_width": null,
            "min_height": null,
            "min_width": null,
            "object_fit": null,
            "object_position": null,
            "order": null,
            "overflow": null,
            "overflow_x": null,
            "overflow_y": null,
            "padding": null,
            "right": null,
            "top": null,
            "visibility": null,
            "width": null
          }
        },
        "69a3e6a2ba294aeca39ebceefeeb6128": {
          "model_module": "@jupyter-widgets/base",
          "model_name": "LayoutModel",
          "model_module_version": "1.2.0",
          "state": {
            "_model_module": "@jupyter-widgets/base",
            "_model_module_version": "1.2.0",
            "_model_name": "LayoutModel",
            "_view_count": null,
            "_view_module": "@jupyter-widgets/base",
            "_view_module_version": "1.2.0",
            "_view_name": "LayoutView",
            "align_content": null,
            "align_items": null,
            "align_self": null,
            "border": null,
            "bottom": null,
            "display": null,
            "flex": null,
            "flex_flow": null,
            "grid_area": null,
            "grid_auto_columns": null,
            "grid_auto_flow": null,
            "grid_auto_rows": null,
            "grid_column": null,
            "grid_gap": null,
            "grid_row": null,
            "grid_template_areas": null,
            "grid_template_columns": null,
            "grid_template_rows": null,
            "height": null,
            "justify_content": null,
            "justify_items": null,
            "left": null,
            "margin": null,
            "max_height": null,
            "max_width": null,
            "min_height": null,
            "min_width": null,
            "object_fit": null,
            "object_position": null,
            "order": null,
            "overflow": null,
            "overflow_x": null,
            "overflow_y": null,
            "padding": null,
            "right": null,
            "top": null,
            "visibility": null,
            "width": null
          }
        },
        "387b5bde7fdf437c84f36eeeda776b02": {
          "model_module": "@jupyter-widgets/controls",
          "model_name": "DescriptionStyleModel",
          "model_module_version": "1.5.0",
          "state": {
            "_model_module": "@jupyter-widgets/controls",
            "_model_module_version": "1.5.0",
            "_model_name": "DescriptionStyleModel",
            "_view_count": null,
            "_view_module": "@jupyter-widgets/base",
            "_view_module_version": "1.2.0",
            "_view_name": "StyleView",
            "description_width": ""
          }
        },
        "fd634cb4ffd8411598b0aab86af475b7": {
          "model_module": "@jupyter-widgets/base",
          "model_name": "LayoutModel",
          "model_module_version": "1.2.0",
          "state": {
            "_model_module": "@jupyter-widgets/base",
            "_model_module_version": "1.2.0",
            "_model_name": "LayoutModel",
            "_view_count": null,
            "_view_module": "@jupyter-widgets/base",
            "_view_module_version": "1.2.0",
            "_view_name": "LayoutView",
            "align_content": null,
            "align_items": null,
            "align_self": null,
            "border": null,
            "bottom": null,
            "display": null,
            "flex": null,
            "flex_flow": null,
            "grid_area": null,
            "grid_auto_columns": null,
            "grid_auto_flow": null,
            "grid_auto_rows": null,
            "grid_column": null,
            "grid_gap": null,
            "grid_row": null,
            "grid_template_areas": null,
            "grid_template_columns": null,
            "grid_template_rows": null,
            "height": null,
            "justify_content": null,
            "justify_items": null,
            "left": null,
            "margin": null,
            "max_height": null,
            "max_width": null,
            "min_height": null,
            "min_width": null,
            "object_fit": null,
            "object_position": null,
            "order": null,
            "overflow": null,
            "overflow_x": null,
            "overflow_y": null,
            "padding": null,
            "right": null,
            "top": null,
            "visibility": null,
            "width": null
          }
        },
        "8d8777d2d4344fb087278c952bd63d2c": {
          "model_module": "@jupyter-widgets/controls",
          "model_name": "ProgressStyleModel",
          "model_module_version": "1.5.0",
          "state": {
            "_model_module": "@jupyter-widgets/controls",
            "_model_module_version": "1.5.0",
            "_model_name": "ProgressStyleModel",
            "_view_count": null,
            "_view_module": "@jupyter-widgets/base",
            "_view_module_version": "1.2.0",
            "_view_name": "StyleView",
            "bar_color": null,
            "description_width": ""
          }
        },
        "4b80aaa2db5048f28dc5170393651cda": {
          "model_module": "@jupyter-widgets/base",
          "model_name": "LayoutModel",
          "model_module_version": "1.2.0",
          "state": {
            "_model_module": "@jupyter-widgets/base",
            "_model_module_version": "1.2.0",
            "_model_name": "LayoutModel",
            "_view_count": null,
            "_view_module": "@jupyter-widgets/base",
            "_view_module_version": "1.2.0",
            "_view_name": "LayoutView",
            "align_content": null,
            "align_items": null,
            "align_self": null,
            "border": null,
            "bottom": null,
            "display": null,
            "flex": null,
            "flex_flow": null,
            "grid_area": null,
            "grid_auto_columns": null,
            "grid_auto_flow": null,
            "grid_auto_rows": null,
            "grid_column": null,
            "grid_gap": null,
            "grid_row": null,
            "grid_template_areas": null,
            "grid_template_columns": null,
            "grid_template_rows": null,
            "height": null,
            "justify_content": null,
            "justify_items": null,
            "left": null,
            "margin": null,
            "max_height": null,
            "max_width": null,
            "min_height": null,
            "min_width": null,
            "object_fit": null,
            "object_position": null,
            "order": null,
            "overflow": null,
            "overflow_x": null,
            "overflow_y": null,
            "padding": null,
            "right": null,
            "top": null,
            "visibility": null,
            "width": null
          }
        },
        "bdf27c970cef4ff5926dabf33cf3f4a0": {
          "model_module": "@jupyter-widgets/controls",
          "model_name": "DescriptionStyleModel",
          "model_module_version": "1.5.0",
          "state": {
            "_model_module": "@jupyter-widgets/controls",
            "_model_module_version": "1.5.0",
            "_model_name": "DescriptionStyleModel",
            "_view_count": null,
            "_view_module": "@jupyter-widgets/base",
            "_view_module_version": "1.2.0",
            "_view_name": "StyleView",
            "description_width": ""
          }
        },
        "c5167f7f7ffa42c19f3d76a0811a459b": {
          "model_module": "@jupyter-widgets/controls",
          "model_name": "HBoxModel",
          "model_module_version": "1.5.0",
          "state": {
            "_dom_classes": [],
            "_model_module": "@jupyter-widgets/controls",
            "_model_module_version": "1.5.0",
            "_model_name": "HBoxModel",
            "_view_count": null,
            "_view_module": "@jupyter-widgets/controls",
            "_view_module_version": "1.5.0",
            "_view_name": "HBoxView",
            "box_style": "",
            "children": [
              "IPY_MODEL_7c2dc8f9ff2243b3a7ed68f23fcc92f2",
              "IPY_MODEL_882a4014a00545c0a4e544426e40785d",
              "IPY_MODEL_3010698e5d5e444ba1dc32f1bf02e155"
            ],
            "layout": "IPY_MODEL_48bea750a16a4fc180c96c9d9b78311d"
          }
        },
        "7c2dc8f9ff2243b3a7ed68f23fcc92f2": {
          "model_module": "@jupyter-widgets/controls",
          "model_name": "HTMLModel",
          "model_module_version": "1.5.0",
          "state": {
            "_dom_classes": [],
            "_model_module": "@jupyter-widgets/controls",
            "_model_module_version": "1.5.0",
            "_model_name": "HTMLModel",
            "_view_count": null,
            "_view_module": "@jupyter-widgets/controls",
            "_view_module_version": "1.5.0",
            "_view_name": "HTMLView",
            "description": "",
            "description_tooltip": null,
            "layout": "IPY_MODEL_32142eb0691f4d1781b1101fa62e28c3",
            "placeholder": "​",
            "style": "IPY_MODEL_aa5419c0d654422ca93a66c9bbc7abf6",
            "value": "Downloading https://raw.githubusercontent.com/stanfordnlp/stanza-resources/main/resources_1.10.0.json: "
          }
        },
        "882a4014a00545c0a4e544426e40785d": {
          "model_module": "@jupyter-widgets/controls",
          "model_name": "FloatProgressModel",
          "model_module_version": "1.5.0",
          "state": {
            "_dom_classes": [],
            "_model_module": "@jupyter-widgets/controls",
            "_model_module_version": "1.5.0",
            "_model_name": "FloatProgressModel",
            "_view_count": null,
            "_view_module": "@jupyter-widgets/controls",
            "_view_module_version": "1.5.0",
            "_view_name": "ProgressView",
            "bar_style": "success",
            "description": "",
            "description_tooltip": null,
            "layout": "IPY_MODEL_c6510c1c54124ed9bd26448fc2cf516f",
            "max": 53050,
            "min": 0,
            "orientation": "horizontal",
            "style": "IPY_MODEL_7c6e40b368b74e9cb243666b76c00153",
            "value": 53050
          }
        },
        "3010698e5d5e444ba1dc32f1bf02e155": {
          "model_module": "@jupyter-widgets/controls",
          "model_name": "HTMLModel",
          "model_module_version": "1.5.0",
          "state": {
            "_dom_classes": [],
            "_model_module": "@jupyter-widgets/controls",
            "_model_module_version": "1.5.0",
            "_model_name": "HTMLModel",
            "_view_count": null,
            "_view_module": "@jupyter-widgets/controls",
            "_view_module_version": "1.5.0",
            "_view_name": "HTMLView",
            "description": "",
            "description_tooltip": null,
            "layout": "IPY_MODEL_14524b38c03643ee87d92e5bab497ab4",
            "placeholder": "​",
            "style": "IPY_MODEL_86d6e284b0cf4c23beb169c40db9df06",
            "value": " 428k/? [00:00&lt;00:00, 27.1MB/s]"
          }
        },
        "48bea750a16a4fc180c96c9d9b78311d": {
          "model_module": "@jupyter-widgets/base",
          "model_name": "LayoutModel",
          "model_module_version": "1.2.0",
          "state": {
            "_model_module": "@jupyter-widgets/base",
            "_model_module_version": "1.2.0",
            "_model_name": "LayoutModel",
            "_view_count": null,
            "_view_module": "@jupyter-widgets/base",
            "_view_module_version": "1.2.0",
            "_view_name": "LayoutView",
            "align_content": null,
            "align_items": null,
            "align_self": null,
            "border": null,
            "bottom": null,
            "display": null,
            "flex": null,
            "flex_flow": null,
            "grid_area": null,
            "grid_auto_columns": null,
            "grid_auto_flow": null,
            "grid_auto_rows": null,
            "grid_column": null,
            "grid_gap": null,
            "grid_row": null,
            "grid_template_areas": null,
            "grid_template_columns": null,
            "grid_template_rows": null,
            "height": null,
            "justify_content": null,
            "justify_items": null,
            "left": null,
            "margin": null,
            "max_height": null,
            "max_width": null,
            "min_height": null,
            "min_width": null,
            "object_fit": null,
            "object_position": null,
            "order": null,
            "overflow": null,
            "overflow_x": null,
            "overflow_y": null,
            "padding": null,
            "right": null,
            "top": null,
            "visibility": null,
            "width": null
          }
        },
        "32142eb0691f4d1781b1101fa62e28c3": {
          "model_module": "@jupyter-widgets/base",
          "model_name": "LayoutModel",
          "model_module_version": "1.2.0",
          "state": {
            "_model_module": "@jupyter-widgets/base",
            "_model_module_version": "1.2.0",
            "_model_name": "LayoutModel",
            "_view_count": null,
            "_view_module": "@jupyter-widgets/base",
            "_view_module_version": "1.2.0",
            "_view_name": "LayoutView",
            "align_content": null,
            "align_items": null,
            "align_self": null,
            "border": null,
            "bottom": null,
            "display": null,
            "flex": null,
            "flex_flow": null,
            "grid_area": null,
            "grid_auto_columns": null,
            "grid_auto_flow": null,
            "grid_auto_rows": null,
            "grid_column": null,
            "grid_gap": null,
            "grid_row": null,
            "grid_template_areas": null,
            "grid_template_columns": null,
            "grid_template_rows": null,
            "height": null,
            "justify_content": null,
            "justify_items": null,
            "left": null,
            "margin": null,
            "max_height": null,
            "max_width": null,
            "min_height": null,
            "min_width": null,
            "object_fit": null,
            "object_position": null,
            "order": null,
            "overflow": null,
            "overflow_x": null,
            "overflow_y": null,
            "padding": null,
            "right": null,
            "top": null,
            "visibility": null,
            "width": null
          }
        },
        "aa5419c0d654422ca93a66c9bbc7abf6": {
          "model_module": "@jupyter-widgets/controls",
          "model_name": "DescriptionStyleModel",
          "model_module_version": "1.5.0",
          "state": {
            "_model_module": "@jupyter-widgets/controls",
            "_model_module_version": "1.5.0",
            "_model_name": "DescriptionStyleModel",
            "_view_count": null,
            "_view_module": "@jupyter-widgets/base",
            "_view_module_version": "1.2.0",
            "_view_name": "StyleView",
            "description_width": ""
          }
        },
        "c6510c1c54124ed9bd26448fc2cf516f": {
          "model_module": "@jupyter-widgets/base",
          "model_name": "LayoutModel",
          "model_module_version": "1.2.0",
          "state": {
            "_model_module": "@jupyter-widgets/base",
            "_model_module_version": "1.2.0",
            "_model_name": "LayoutModel",
            "_view_count": null,
            "_view_module": "@jupyter-widgets/base",
            "_view_module_version": "1.2.0",
            "_view_name": "LayoutView",
            "align_content": null,
            "align_items": null,
            "align_self": null,
            "border": null,
            "bottom": null,
            "display": null,
            "flex": null,
            "flex_flow": null,
            "grid_area": null,
            "grid_auto_columns": null,
            "grid_auto_flow": null,
            "grid_auto_rows": null,
            "grid_column": null,
            "grid_gap": null,
            "grid_row": null,
            "grid_template_areas": null,
            "grid_template_columns": null,
            "grid_template_rows": null,
            "height": null,
            "justify_content": null,
            "justify_items": null,
            "left": null,
            "margin": null,
            "max_height": null,
            "max_width": null,
            "min_height": null,
            "min_width": null,
            "object_fit": null,
            "object_position": null,
            "order": null,
            "overflow": null,
            "overflow_x": null,
            "overflow_y": null,
            "padding": null,
            "right": null,
            "top": null,
            "visibility": null,
            "width": null
          }
        },
        "7c6e40b368b74e9cb243666b76c00153": {
          "model_module": "@jupyter-widgets/controls",
          "model_name": "ProgressStyleModel",
          "model_module_version": "1.5.0",
          "state": {
            "_model_module": "@jupyter-widgets/controls",
            "_model_module_version": "1.5.0",
            "_model_name": "ProgressStyleModel",
            "_view_count": null,
            "_view_module": "@jupyter-widgets/base",
            "_view_module_version": "1.2.0",
            "_view_name": "StyleView",
            "bar_color": null,
            "description_width": ""
          }
        },
        "14524b38c03643ee87d92e5bab497ab4": {
          "model_module": "@jupyter-widgets/base",
          "model_name": "LayoutModel",
          "model_module_version": "1.2.0",
          "state": {
            "_model_module": "@jupyter-widgets/base",
            "_model_module_version": "1.2.0",
            "_model_name": "LayoutModel",
            "_view_count": null,
            "_view_module": "@jupyter-widgets/base",
            "_view_module_version": "1.2.0",
            "_view_name": "LayoutView",
            "align_content": null,
            "align_items": null,
            "align_self": null,
            "border": null,
            "bottom": null,
            "display": null,
            "flex": null,
            "flex_flow": null,
            "grid_area": null,
            "grid_auto_columns": null,
            "grid_auto_flow": null,
            "grid_auto_rows": null,
            "grid_column": null,
            "grid_gap": null,
            "grid_row": null,
            "grid_template_areas": null,
            "grid_template_columns": null,
            "grid_template_rows": null,
            "height": null,
            "justify_content": null,
            "justify_items": null,
            "left": null,
            "margin": null,
            "max_height": null,
            "max_width": null,
            "min_height": null,
            "min_width": null,
            "object_fit": null,
            "object_position": null,
            "order": null,
            "overflow": null,
            "overflow_x": null,
            "overflow_y": null,
            "padding": null,
            "right": null,
            "top": null,
            "visibility": null,
            "width": null
          }
        },
        "86d6e284b0cf4c23beb169c40db9df06": {
          "model_module": "@jupyter-widgets/controls",
          "model_name": "DescriptionStyleModel",
          "model_module_version": "1.5.0",
          "state": {
            "_model_module": "@jupyter-widgets/controls",
            "_model_module_version": "1.5.0",
            "_model_name": "DescriptionStyleModel",
            "_view_count": null,
            "_view_module": "@jupyter-widgets/base",
            "_view_module_version": "1.2.0",
            "_view_name": "StyleView",
            "description_width": ""
          }
        },
        "b70a0cdf4ec04b1fa11c37709d43656d": {
          "model_module": "@jupyter-widgets/controls",
          "model_name": "HBoxModel",
          "model_module_version": "1.5.0",
          "state": {
            "_dom_classes": [],
            "_model_module": "@jupyter-widgets/controls",
            "_model_module_version": "1.5.0",
            "_model_name": "HBoxModel",
            "_view_count": null,
            "_view_module": "@jupyter-widgets/controls",
            "_view_module_version": "1.5.0",
            "_view_name": "HBoxView",
            "box_style": "",
            "children": [
              "IPY_MODEL_63682afec3be410e9020686f67840e45",
              "IPY_MODEL_08847d76c0c6498b940a525f8416a52b",
              "IPY_MODEL_fc301ba77c5042b29a030b6ce3d78943"
            ],
            "layout": "IPY_MODEL_33ef5195b6414e599d3a8a6d6abbe448"
          }
        },
        "63682afec3be410e9020686f67840e45": {
          "model_module": "@jupyter-widgets/controls",
          "model_name": "HTMLModel",
          "model_module_version": "1.5.0",
          "state": {
            "_dom_classes": [],
            "_model_module": "@jupyter-widgets/controls",
            "_model_module_version": "1.5.0",
            "_model_name": "HTMLModel",
            "_view_count": null,
            "_view_module": "@jupyter-widgets/controls",
            "_view_module_version": "1.5.0",
            "_view_name": "HTMLView",
            "description": "",
            "description_tooltip": null,
            "layout": "IPY_MODEL_5067c42a8bd34cd0ac768bd0f05137ce",
            "placeholder": "​",
            "style": "IPY_MODEL_3fb5b1b139e84f06aa2c97707467a878",
            "value": "Downloading https://raw.githubusercontent.com/stanfordnlp/stanza-resources/main/resources_1.10.0.json: "
          }
        },
        "08847d76c0c6498b940a525f8416a52b": {
          "model_module": "@jupyter-widgets/controls",
          "model_name": "FloatProgressModel",
          "model_module_version": "1.5.0",
          "state": {
            "_dom_classes": [],
            "_model_module": "@jupyter-widgets/controls",
            "_model_module_version": "1.5.0",
            "_model_name": "FloatProgressModel",
            "_view_count": null,
            "_view_module": "@jupyter-widgets/controls",
            "_view_module_version": "1.5.0",
            "_view_name": "ProgressView",
            "bar_style": "success",
            "description": "",
            "description_tooltip": null,
            "layout": "IPY_MODEL_4341af576c38430d96f58df709fc8fab",
            "max": 53050,
            "min": 0,
            "orientation": "horizontal",
            "style": "IPY_MODEL_7f2cb8c24ae84dee868238d77da39864",
            "value": 53050
          }
        },
        "fc301ba77c5042b29a030b6ce3d78943": {
          "model_module": "@jupyter-widgets/controls",
          "model_name": "HTMLModel",
          "model_module_version": "1.5.0",
          "state": {
            "_dom_classes": [],
            "_model_module": "@jupyter-widgets/controls",
            "_model_module_version": "1.5.0",
            "_model_name": "HTMLModel",
            "_view_count": null,
            "_view_module": "@jupyter-widgets/controls",
            "_view_module_version": "1.5.0",
            "_view_name": "HTMLView",
            "description": "",
            "description_tooltip": null,
            "layout": "IPY_MODEL_e767b3fac82743cfb43264afbf335398",
            "placeholder": "​",
            "style": "IPY_MODEL_dd77bf6a8f614bd590a2ade47dc6fbb5",
            "value": " 428k/? [00:00&lt;00:00, 12.6MB/s]"
          }
        },
        "33ef5195b6414e599d3a8a6d6abbe448": {
          "model_module": "@jupyter-widgets/base",
          "model_name": "LayoutModel",
          "model_module_version": "1.2.0",
          "state": {
            "_model_module": "@jupyter-widgets/base",
            "_model_module_version": "1.2.0",
            "_model_name": "LayoutModel",
            "_view_count": null,
            "_view_module": "@jupyter-widgets/base",
            "_view_module_version": "1.2.0",
            "_view_name": "LayoutView",
            "align_content": null,
            "align_items": null,
            "align_self": null,
            "border": null,
            "bottom": null,
            "display": null,
            "flex": null,
            "flex_flow": null,
            "grid_area": null,
            "grid_auto_columns": null,
            "grid_auto_flow": null,
            "grid_auto_rows": null,
            "grid_column": null,
            "grid_gap": null,
            "grid_row": null,
            "grid_template_areas": null,
            "grid_template_columns": null,
            "grid_template_rows": null,
            "height": null,
            "justify_content": null,
            "justify_items": null,
            "left": null,
            "margin": null,
            "max_height": null,
            "max_width": null,
            "min_height": null,
            "min_width": null,
            "object_fit": null,
            "object_position": null,
            "order": null,
            "overflow": null,
            "overflow_x": null,
            "overflow_y": null,
            "padding": null,
            "right": null,
            "top": null,
            "visibility": null,
            "width": null
          }
        },
        "5067c42a8bd34cd0ac768bd0f05137ce": {
          "model_module": "@jupyter-widgets/base",
          "model_name": "LayoutModel",
          "model_module_version": "1.2.0",
          "state": {
            "_model_module": "@jupyter-widgets/base",
            "_model_module_version": "1.2.0",
            "_model_name": "LayoutModel",
            "_view_count": null,
            "_view_module": "@jupyter-widgets/base",
            "_view_module_version": "1.2.0",
            "_view_name": "LayoutView",
            "align_content": null,
            "align_items": null,
            "align_self": null,
            "border": null,
            "bottom": null,
            "display": null,
            "flex": null,
            "flex_flow": null,
            "grid_area": null,
            "grid_auto_columns": null,
            "grid_auto_flow": null,
            "grid_auto_rows": null,
            "grid_column": null,
            "grid_gap": null,
            "grid_row": null,
            "grid_template_areas": null,
            "grid_template_columns": null,
            "grid_template_rows": null,
            "height": null,
            "justify_content": null,
            "justify_items": null,
            "left": null,
            "margin": null,
            "max_height": null,
            "max_width": null,
            "min_height": null,
            "min_width": null,
            "object_fit": null,
            "object_position": null,
            "order": null,
            "overflow": null,
            "overflow_x": null,
            "overflow_y": null,
            "padding": null,
            "right": null,
            "top": null,
            "visibility": null,
            "width": null
          }
        },
        "3fb5b1b139e84f06aa2c97707467a878": {
          "model_module": "@jupyter-widgets/controls",
          "model_name": "DescriptionStyleModel",
          "model_module_version": "1.5.0",
          "state": {
            "_model_module": "@jupyter-widgets/controls",
            "_model_module_version": "1.5.0",
            "_model_name": "DescriptionStyleModel",
            "_view_count": null,
            "_view_module": "@jupyter-widgets/base",
            "_view_module_version": "1.2.0",
            "_view_name": "StyleView",
            "description_width": ""
          }
        },
        "4341af576c38430d96f58df709fc8fab": {
          "model_module": "@jupyter-widgets/base",
          "model_name": "LayoutModel",
          "model_module_version": "1.2.0",
          "state": {
            "_model_module": "@jupyter-widgets/base",
            "_model_module_version": "1.2.0",
            "_model_name": "LayoutModel",
            "_view_count": null,
            "_view_module": "@jupyter-widgets/base",
            "_view_module_version": "1.2.0",
            "_view_name": "LayoutView",
            "align_content": null,
            "align_items": null,
            "align_self": null,
            "border": null,
            "bottom": null,
            "display": null,
            "flex": null,
            "flex_flow": null,
            "grid_area": null,
            "grid_auto_columns": null,
            "grid_auto_flow": null,
            "grid_auto_rows": null,
            "grid_column": null,
            "grid_gap": null,
            "grid_row": null,
            "grid_template_areas": null,
            "grid_template_columns": null,
            "grid_template_rows": null,
            "height": null,
            "justify_content": null,
            "justify_items": null,
            "left": null,
            "margin": null,
            "max_height": null,
            "max_width": null,
            "min_height": null,
            "min_width": null,
            "object_fit": null,
            "object_position": null,
            "order": null,
            "overflow": null,
            "overflow_x": null,
            "overflow_y": null,
            "padding": null,
            "right": null,
            "top": null,
            "visibility": null,
            "width": null
          }
        },
        "7f2cb8c24ae84dee868238d77da39864": {
          "model_module": "@jupyter-widgets/controls",
          "model_name": "ProgressStyleModel",
          "model_module_version": "1.5.0",
          "state": {
            "_model_module": "@jupyter-widgets/controls",
            "_model_module_version": "1.5.0",
            "_model_name": "ProgressStyleModel",
            "_view_count": null,
            "_view_module": "@jupyter-widgets/base",
            "_view_module_version": "1.2.0",
            "_view_name": "StyleView",
            "bar_color": null,
            "description_width": ""
          }
        },
        "e767b3fac82743cfb43264afbf335398": {
          "model_module": "@jupyter-widgets/base",
          "model_name": "LayoutModel",
          "model_module_version": "1.2.0",
          "state": {
            "_model_module": "@jupyter-widgets/base",
            "_model_module_version": "1.2.0",
            "_model_name": "LayoutModel",
            "_view_count": null,
            "_view_module": "@jupyter-widgets/base",
            "_view_module_version": "1.2.0",
            "_view_name": "LayoutView",
            "align_content": null,
            "align_items": null,
            "align_self": null,
            "border": null,
            "bottom": null,
            "display": null,
            "flex": null,
            "flex_flow": null,
            "grid_area": null,
            "grid_auto_columns": null,
            "grid_auto_flow": null,
            "grid_auto_rows": null,
            "grid_column": null,
            "grid_gap": null,
            "grid_row": null,
            "grid_template_areas": null,
            "grid_template_columns": null,
            "grid_template_rows": null,
            "height": null,
            "justify_content": null,
            "justify_items": null,
            "left": null,
            "margin": null,
            "max_height": null,
            "max_width": null,
            "min_height": null,
            "min_width": null,
            "object_fit": null,
            "object_position": null,
            "order": null,
            "overflow": null,
            "overflow_x": null,
            "overflow_y": null,
            "padding": null,
            "right": null,
            "top": null,
            "visibility": null,
            "width": null
          }
        },
        "dd77bf6a8f614bd590a2ade47dc6fbb5": {
          "model_module": "@jupyter-widgets/controls",
          "model_name": "DescriptionStyleModel",
          "model_module_version": "1.5.0",
          "state": {
            "_model_module": "@jupyter-widgets/controls",
            "_model_module_version": "1.5.0",
            "_model_name": "DescriptionStyleModel",
            "_view_count": null,
            "_view_module": "@jupyter-widgets/base",
            "_view_module_version": "1.2.0",
            "_view_name": "StyleView",
            "description_width": ""
          }
        },
        "4349d7af9c4c4d49aaf98f01ba801059": {
          "model_module": "@jupyter-widgets/controls",
          "model_name": "HBoxModel",
          "model_module_version": "1.5.0",
          "state": {
            "_dom_classes": [],
            "_model_module": "@jupyter-widgets/controls",
            "_model_module_version": "1.5.0",
            "_model_name": "HBoxModel",
            "_view_count": null,
            "_view_module": "@jupyter-widgets/controls",
            "_view_module_version": "1.5.0",
            "_view_name": "HBoxView",
            "box_style": "",
            "children": [
              "IPY_MODEL_f6e7a677557c44bea9e3fad7c12ea6bd",
              "IPY_MODEL_223905c148954533a97e4e69673dba51",
              "IPY_MODEL_8002a33a352a422a8283cb3ce8fe2f48"
            ],
            "layout": "IPY_MODEL_30bfd57ca9ee4094818a8bdfaf8cdd9b"
          }
        },
        "f6e7a677557c44bea9e3fad7c12ea6bd": {
          "model_module": "@jupyter-widgets/controls",
          "model_name": "HTMLModel",
          "model_module_version": "1.5.0",
          "state": {
            "_dom_classes": [],
            "_model_module": "@jupyter-widgets/controls",
            "_model_module_version": "1.5.0",
            "_model_name": "HTMLModel",
            "_view_count": null,
            "_view_module": "@jupyter-widgets/controls",
            "_view_module_version": "1.5.0",
            "_view_name": "HTMLView",
            "description": "",
            "description_tooltip": null,
            "layout": "IPY_MODEL_5a69c37a1d24442381821d52b722b942",
            "placeholder": "​",
            "style": "IPY_MODEL_dca9706060b545659b5d3e326a2fe1ce",
            "value": "Downloading https://raw.githubusercontent.com/stanfordnlp/stanza-resources/main/resources_1.10.0.json: "
          }
        },
        "223905c148954533a97e4e69673dba51": {
          "model_module": "@jupyter-widgets/controls",
          "model_name": "FloatProgressModel",
          "model_module_version": "1.5.0",
          "state": {
            "_dom_classes": [],
            "_model_module": "@jupyter-widgets/controls",
            "_model_module_version": "1.5.0",
            "_model_name": "FloatProgressModel",
            "_view_count": null,
            "_view_module": "@jupyter-widgets/controls",
            "_view_module_version": "1.5.0",
            "_view_name": "ProgressView",
            "bar_style": "success",
            "description": "",
            "description_tooltip": null,
            "layout": "IPY_MODEL_4fbbcbaddb4b4ae789883b48bee6dc99",
            "max": 53050,
            "min": 0,
            "orientation": "horizontal",
            "style": "IPY_MODEL_17a3bbaeafc5475a87303747ce97b651",
            "value": 53050
          }
        },
        "8002a33a352a422a8283cb3ce8fe2f48": {
          "model_module": "@jupyter-widgets/controls",
          "model_name": "HTMLModel",
          "model_module_version": "1.5.0",
          "state": {
            "_dom_classes": [],
            "_model_module": "@jupyter-widgets/controls",
            "_model_module_version": "1.5.0",
            "_model_name": "HTMLModel",
            "_view_count": null,
            "_view_module": "@jupyter-widgets/controls",
            "_view_module_version": "1.5.0",
            "_view_name": "HTMLView",
            "description": "",
            "description_tooltip": null,
            "layout": "IPY_MODEL_127031a32e02408a8406fd3d06900084",
            "placeholder": "​",
            "style": "IPY_MODEL_a8ad9617931a445ea869eaaa63698532",
            "value": " 428k/? [00:00&lt;00:00, 12.3MB/s]"
          }
        },
        "30bfd57ca9ee4094818a8bdfaf8cdd9b": {
          "model_module": "@jupyter-widgets/base",
          "model_name": "LayoutModel",
          "model_module_version": "1.2.0",
          "state": {
            "_model_module": "@jupyter-widgets/base",
            "_model_module_version": "1.2.0",
            "_model_name": "LayoutModel",
            "_view_count": null,
            "_view_module": "@jupyter-widgets/base",
            "_view_module_version": "1.2.0",
            "_view_name": "LayoutView",
            "align_content": null,
            "align_items": null,
            "align_self": null,
            "border": null,
            "bottom": null,
            "display": null,
            "flex": null,
            "flex_flow": null,
            "grid_area": null,
            "grid_auto_columns": null,
            "grid_auto_flow": null,
            "grid_auto_rows": null,
            "grid_column": null,
            "grid_gap": null,
            "grid_row": null,
            "grid_template_areas": null,
            "grid_template_columns": null,
            "grid_template_rows": null,
            "height": null,
            "justify_content": null,
            "justify_items": null,
            "left": null,
            "margin": null,
            "max_height": null,
            "max_width": null,
            "min_height": null,
            "min_width": null,
            "object_fit": null,
            "object_position": null,
            "order": null,
            "overflow": null,
            "overflow_x": null,
            "overflow_y": null,
            "padding": null,
            "right": null,
            "top": null,
            "visibility": null,
            "width": null
          }
        },
        "5a69c37a1d24442381821d52b722b942": {
          "model_module": "@jupyter-widgets/base",
          "model_name": "LayoutModel",
          "model_module_version": "1.2.0",
          "state": {
            "_model_module": "@jupyter-widgets/base",
            "_model_module_version": "1.2.0",
            "_model_name": "LayoutModel",
            "_view_count": null,
            "_view_module": "@jupyter-widgets/base",
            "_view_module_version": "1.2.0",
            "_view_name": "LayoutView",
            "align_content": null,
            "align_items": null,
            "align_self": null,
            "border": null,
            "bottom": null,
            "display": null,
            "flex": null,
            "flex_flow": null,
            "grid_area": null,
            "grid_auto_columns": null,
            "grid_auto_flow": null,
            "grid_auto_rows": null,
            "grid_column": null,
            "grid_gap": null,
            "grid_row": null,
            "grid_template_areas": null,
            "grid_template_columns": null,
            "grid_template_rows": null,
            "height": null,
            "justify_content": null,
            "justify_items": null,
            "left": null,
            "margin": null,
            "max_height": null,
            "max_width": null,
            "min_height": null,
            "min_width": null,
            "object_fit": null,
            "object_position": null,
            "order": null,
            "overflow": null,
            "overflow_x": null,
            "overflow_y": null,
            "padding": null,
            "right": null,
            "top": null,
            "visibility": null,
            "width": null
          }
        },
        "dca9706060b545659b5d3e326a2fe1ce": {
          "model_module": "@jupyter-widgets/controls",
          "model_name": "DescriptionStyleModel",
          "model_module_version": "1.5.0",
          "state": {
            "_model_module": "@jupyter-widgets/controls",
            "_model_module_version": "1.5.0",
            "_model_name": "DescriptionStyleModel",
            "_view_count": null,
            "_view_module": "@jupyter-widgets/base",
            "_view_module_version": "1.2.0",
            "_view_name": "StyleView",
            "description_width": ""
          }
        },
        "4fbbcbaddb4b4ae789883b48bee6dc99": {
          "model_module": "@jupyter-widgets/base",
          "model_name": "LayoutModel",
          "model_module_version": "1.2.0",
          "state": {
            "_model_module": "@jupyter-widgets/base",
            "_model_module_version": "1.2.0",
            "_model_name": "LayoutModel",
            "_view_count": null,
            "_view_module": "@jupyter-widgets/base",
            "_view_module_version": "1.2.0",
            "_view_name": "LayoutView",
            "align_content": null,
            "align_items": null,
            "align_self": null,
            "border": null,
            "bottom": null,
            "display": null,
            "flex": null,
            "flex_flow": null,
            "grid_area": null,
            "grid_auto_columns": null,
            "grid_auto_flow": null,
            "grid_auto_rows": null,
            "grid_column": null,
            "grid_gap": null,
            "grid_row": null,
            "grid_template_areas": null,
            "grid_template_columns": null,
            "grid_template_rows": null,
            "height": null,
            "justify_content": null,
            "justify_items": null,
            "left": null,
            "margin": null,
            "max_height": null,
            "max_width": null,
            "min_height": null,
            "min_width": null,
            "object_fit": null,
            "object_position": null,
            "order": null,
            "overflow": null,
            "overflow_x": null,
            "overflow_y": null,
            "padding": null,
            "right": null,
            "top": null,
            "visibility": null,
            "width": null
          }
        },
        "17a3bbaeafc5475a87303747ce97b651": {
          "model_module": "@jupyter-widgets/controls",
          "model_name": "ProgressStyleModel",
          "model_module_version": "1.5.0",
          "state": {
            "_model_module": "@jupyter-widgets/controls",
            "_model_module_version": "1.5.0",
            "_model_name": "ProgressStyleModel",
            "_view_count": null,
            "_view_module": "@jupyter-widgets/base",
            "_view_module_version": "1.2.0",
            "_view_name": "StyleView",
            "bar_color": null,
            "description_width": ""
          }
        },
        "127031a32e02408a8406fd3d06900084": {
          "model_module": "@jupyter-widgets/base",
          "model_name": "LayoutModel",
          "model_module_version": "1.2.0",
          "state": {
            "_model_module": "@jupyter-widgets/base",
            "_model_module_version": "1.2.0",
            "_model_name": "LayoutModel",
            "_view_count": null,
            "_view_module": "@jupyter-widgets/base",
            "_view_module_version": "1.2.0",
            "_view_name": "LayoutView",
            "align_content": null,
            "align_items": null,
            "align_self": null,
            "border": null,
            "bottom": null,
            "display": null,
            "flex": null,
            "flex_flow": null,
            "grid_area": null,
            "grid_auto_columns": null,
            "grid_auto_flow": null,
            "grid_auto_rows": null,
            "grid_column": null,
            "grid_gap": null,
            "grid_row": null,
            "grid_template_areas": null,
            "grid_template_columns": null,
            "grid_template_rows": null,
            "height": null,
            "justify_content": null,
            "justify_items": null,
            "left": null,
            "margin": null,
            "max_height": null,
            "max_width": null,
            "min_height": null,
            "min_width": null,
            "object_fit": null,
            "object_position": null,
            "order": null,
            "overflow": null,
            "overflow_x": null,
            "overflow_y": null,
            "padding": null,
            "right": null,
            "top": null,
            "visibility": null,
            "width": null
          }
        },
        "a8ad9617931a445ea869eaaa63698532": {
          "model_module": "@jupyter-widgets/controls",
          "model_name": "DescriptionStyleModel",
          "model_module_version": "1.5.0",
          "state": {
            "_model_module": "@jupyter-widgets/controls",
            "_model_module_version": "1.5.0",
            "_model_name": "DescriptionStyleModel",
            "_view_count": null,
            "_view_module": "@jupyter-widgets/base",
            "_view_module_version": "1.2.0",
            "_view_name": "StyleView",
            "description_width": ""
          }
        }
      }
    }
  },
  "cells": [
    {
      "cell_type": "markdown",
      "metadata": {
        "id": "view-in-github",
        "colab_type": "text"
      },
      "source": [
        "<a href=\"https://colab.research.google.com/github/jhchang/Sentiment-Analysis-on-Arabic-Text/blob/main/Sentinment_Analysis_on_Arabic_Lanugage.ipynb\" target=\"_parent\"><img src=\"https://colab.research.google.com/assets/colab-badge.svg\" alt=\"Open In Colab\"/></a>"
      ]
    },
    {
      "cell_type": "markdown",
      "source": [
        "I have been learning Arabic through Duolingo, the Alif Ba, and Al-Kitaab series. While I am familiar with Machine Learning and it's applications to NLP, I am only familiar with the challegenes in the English Language space. This notebook is created to demonstrate the unique challeneges for NLP in the Arabic languages and how to address them."
      ],
      "metadata": {
        "id": "uVJO3_QPN_jk"
      }
    },
    {
      "cell_type": "markdown",
      "source": [
        "# Importing Libraries"
      ],
      "metadata": {
        "id": "oFWn38SjBB6x"
      }
    },
    {
      "cell_type": "code",
      "execution_count": 1,
      "metadata": {
        "id": "VoQpkejlAI0m"
      },
      "outputs": [],
      "source": [
        "import pandas as pd\n",
        "import numpy as np\n",
        "import matplotlib.pyplot as plt\n",
        "import string\n",
        "import re\n",
        "import seaborn as sns\n",
        "import nltk\n",
        "from nltk.corpus import stopwords\n",
        "from sklearn.model_selection import train_test_split, GridSearchCV\n",
        "from sklearn.feature_extraction.text import TfidfVectorizer\n",
        "from sklearn.pipeline import make_pipeline\n",
        "from sklearn.linear_model import LogisticRegression\n",
        "from sklearn.ensemble import RandomForestClassifier\n",
        "from sklearn.naive_bayes import MultinomialNB\n",
        "from sklearn.svm import SVC\n",
        "from sklearn.metrics import confusion_matrix,accuracy_score, classification_report"
      ]
    },
    {
      "cell_type": "markdown",
      "source": [
        "# Downloading and previewing Dataset"
      ],
      "metadata": {
        "id": "ul6UwdeGBI2w"
      }
    },
    {
      "cell_type": "markdown",
      "source": [
        "The dataset is made up of 1800 tweets in Arabic and can be found here: https://github.com/komari6/Arabic-twitter-corpus-AJGT"
      ],
      "metadata": {
        "id": "iGq14W4nTXI1"
      }
    },
    {
      "cell_type": "code",
      "source": [
        "# Raw file URL (not the HTML preview)\n",
        "url = \"https://raw.githubusercontent.com/komari6/Arabic-twitter-corpus-AJGT/master/AJGT.xlsx\"\n",
        "\n",
        "# Read the Excel file using pandas\n",
        "df = pd.read_excel(url, engine='openpyxl')\n"
      ],
      "metadata": {
        "id": "VKIfiZNGBITu"
      },
      "execution_count": 2,
      "outputs": []
    },
    {
      "cell_type": "markdown",
      "source": [
        "# Data Exploration"
      ],
      "metadata": {
        "id": "Ap8P3ya9LKsD"
      }
    },
    {
      "cell_type": "markdown",
      "source": [
        "### Basic Dataframe Inspection"
      ],
      "metadata": {
        "id": "5or6ktVNPRDc"
      }
    },
    {
      "cell_type": "code",
      "source": [
        "print(df.head())\n",
        "print(df.sample(5))"
      ],
      "metadata": {
        "colab": {
          "base_uri": "https://localhost:8080/"
        },
        "id": "kfYtD4nvMlTV",
        "outputId": "e84136e3-6bbb-4cff-e21b-c5592a730e85"
      },
      "execution_count": 3,
      "outputs": [
        {
          "output_type": "stream",
          "name": "stdout",
          "text": [
            "   ID                                               Feed Sentiment\n",
            "0   1   اربد فيها جامعات اكثر من عمان ... وفيها قد عم...  Positive\n",
            "1   2   الحلو انكم بتحكوا على اساس انو الاردن ما فيه ...  Negative\n",
            "2   3                            كله رائع بجد ربنا يكرمك  Positive\n",
            "3   4                                 لسانك قذر يا قمامه  Negative\n",
            "4   5  ​انا داشره وغير متزوجه ولدي علاقات مشبوه واحشش...  Negative\n",
            "        ID                                               Feed Sentiment\n",
            "1021  1022           عليا النعمه ابدا لا هو ولا الخروف التاني  Negative\n",
            "1        2   الحلو انكم بتحكوا على اساس انو الاردن ما فيه ...  Negative\n",
            "1009  1010                                        عجل يا الله  Positive\n",
            "318    319  اللهم اجعلنا ممن تنظر اليهم بحب اشتياق اجعلنا ...  Positive\n",
            "1691  1692                    يا خساره عليكو يا شباب المستقبل  Negative\n"
          ]
        }
      ]
    },
    {
      "cell_type": "code",
      "source": [
        "print(df.info())"
      ],
      "metadata": {
        "colab": {
          "base_uri": "https://localhost:8080/"
        },
        "id": "72dEeFhGMsEB",
        "outputId": "21400147-ac02-4eaf-a498-c4c99b2a2650"
      },
      "execution_count": 4,
      "outputs": [
        {
          "output_type": "stream",
          "name": "stdout",
          "text": [
            "<class 'pandas.core.frame.DataFrame'>\n",
            "RangeIndex: 1800 entries, 0 to 1799\n",
            "Data columns (total 3 columns):\n",
            " #   Column     Non-Null Count  Dtype \n",
            "---  ------     --------------  ----- \n",
            " 0   ID         1800 non-null   int64 \n",
            " 1   Feed       1800 non-null   object\n",
            " 2   Sentiment  1800 non-null   object\n",
            "dtypes: int64(1), object(2)\n",
            "memory usage: 42.3+ KB\n",
            "None\n"
          ]
        }
      ]
    },
    {
      "cell_type": "code",
      "source": [
        "print(df.isnull().sum())"
      ],
      "metadata": {
        "colab": {
          "base_uri": "https://localhost:8080/"
        },
        "id": "Al8G_rMkMvt3",
        "outputId": "4546b54e-7bf6-44e3-c1d0-b1efc39e745d"
      },
      "execution_count": 5,
      "outputs": [
        {
          "output_type": "stream",
          "name": "stdout",
          "text": [
            "ID           0\n",
            "Feed         0\n",
            "Sentiment    0\n",
            "dtype: int64\n"
          ]
        }
      ]
    },
    {
      "cell_type": "code",
      "source": [
        "print(df.shape)"
      ],
      "metadata": {
        "colab": {
          "base_uri": "https://localhost:8080/"
        },
        "id": "9SyPbQ5XLQLy",
        "outputId": "d22c207e-176a-46a6-888e-ffdcbddf0028"
      },
      "execution_count": 6,
      "outputs": [
        {
          "output_type": "stream",
          "name": "stdout",
          "text": [
            "(1800, 3)\n"
          ]
        }
      ]
    },
    {
      "cell_type": "code",
      "source": [
        "print(df['Sentiment'].value_counts())"
      ],
      "metadata": {
        "colab": {
          "base_uri": "https://localhost:8080/"
        },
        "id": "AqgZLUteMGVI",
        "outputId": "71f56209-d69f-4700-8fb1-604e452411ed"
      },
      "execution_count": 7,
      "outputs": [
        {
          "output_type": "stream",
          "name": "stdout",
          "text": [
            "Sentiment\n",
            "Positive    900\n",
            "Negative    900\n",
            "Name: count, dtype: int64\n"
          ]
        }
      ]
    },
    {
      "cell_type": "markdown",
      "source": [
        "We have a perfectly even distrubution of class labels. No need for data augmentation techniques for the imbalance of classes"
      ],
      "metadata": {
        "id": "NAvL2b02Szj6"
      }
    },
    {
      "cell_type": "markdown",
      "source": [
        "### Text Length Analysis"
      ],
      "metadata": {
        "id": "drWoUuAsPejR"
      }
    },
    {
      "cell_type": "code",
      "source": [
        "# Add columns for text length\n",
        "df['char_count'] = df['Feed'].apply(len)\n",
        "df['word_count'] = df['Feed'].apply(lambda x: len(x.split()))\n",
        "\n",
        "# Summary stats\n",
        "print(df[['char_count', 'word_count']].describe())\n",
        "\n",
        "# Plot distributions\n",
        "plt.figure(figsize=(12, 5))\n",
        "sns.histplot(df['word_count'], bins=140, kde=True)\n",
        "plt.xlabel('Length of Text')\n",
        "plt.ylabel('Frequency')\n",
        "plt.title('Distribution of Word Counts')\n",
        "plt.show()"
      ],
      "metadata": {
        "colab": {
          "base_uri": "https://localhost:8080/",
          "height": 646
        },
        "id": "lSFECISGM3Hd",
        "outputId": "9a3fd974-a205-4514-93e3-9b92a7b82f32"
      },
      "execution_count": 8,
      "outputs": [
        {
          "output_type": "stream",
          "name": "stdout",
          "text": [
            "        char_count   word_count\n",
            "count  1800.000000  1800.000000\n",
            "mean     46.805000     9.002222\n",
            "std      46.054977     8.240547\n",
            "min       6.000000     1.000000\n",
            "25%      23.000000     4.000000\n",
            "50%      36.000000     7.000000\n",
            "75%      58.000000    11.000000\n",
            "max     864.000000   143.000000\n"
          ]
        },
        {
          "output_type": "display_data",
          "data": {
            "text/plain": [
              "<Figure size 1200x500 with 1 Axes>"
            ],
            "image/png": "[encoded data removed]"
          },
          "metadata": {}
        }
      ]
    },
    {
      "cell_type": "code",
      "source": [
        "len(df[df['word_count'] > 100])"
      ],
      "metadata": {
        "colab": {
          "base_uri": "https://localhost:8080/"
        },
        "id": "astHtkyBVrgh",
        "outputId": "3bbded61-5e3c-484f-ebb8-5154a54aad94"
      },
      "execution_count": 9,
      "outputs": [
        {
          "output_type": "execute_result",
          "data": {
            "text/plain": [
              "4"
            ]
          },
          "metadata": {},
          "execution_count": 9
        }
      ]
    },
    {
      "cell_type": "code",
      "source": [
        "len(df[df['char_count'] > 300])"
      ],
      "metadata": {
        "colab": {
          "base_uri": "https://localhost:8080/"
        },
        "id": "U9sRVXjdV4l-",
        "outputId": "a54712e4-b448-4588-96b7-40be5bdb8a48"
      },
      "execution_count": 10,
      "outputs": [
        {
          "output_type": "execute_result",
          "data": {
            "text/plain": [
              "7"
            ]
          },
          "metadata": {},
          "execution_count": 10
        }
      ]
    },
    {
      "cell_type": "code",
      "source": [
        "length_90 = df['char_count'].quantile(0.90)\n",
        "length_95 = df['char_count'].quantile(0.95)\n",
        "\n",
        "print(f\"90th percentile character length: {int(length_90)}\")\n",
        "print(f\"95th percentile character length: {int(length_95)}\")\n",
        "\n",
        "length_90 = df['word_count'].quantile(0.90)\n",
        "length_95 = df['word_count'].quantile(0.95)\n",
        "\n",
        "print(f\"90th percentile word length: {int(length_90)}\")\n",
        "print(f\"95th percentile word length: {int(length_95)}\")"
      ],
      "metadata": {
        "colab": {
          "base_uri": "https://localhost:8080/"
        },
        "id": "OLuI59HuYIO0",
        "outputId": "5e830c6c-8b64-45c6-ee7c-f9a607cfe3e7"
      },
      "execution_count": 11,
      "outputs": [
        {
          "output_type": "stream",
          "name": "stdout",
          "text": [
            "90th percentile character length: 92\n",
            "95th percentile character length: 113\n",
            "90th percentile word length: 17\n",
            "95th percentile word length: 22\n"
          ]
        }
      ]
    },
    {
      "cell_type": "markdown",
      "source": [
        "### Upon review of the histogram, we can conclude:\n",
        "\n",
        "1. **Most tweets are short:** There is a character limit on tweets that encourage people to keep their tweets short\n",
        "\n",
        "\n",
        "2. **Few tweets are long (outliers):** There is a right skew in the data that indicates a small amount of tweets are long\n",
        "\n",
        "\n",
        "---\n",
        "### Data pruning options:\n",
        "\n",
        "1. Delete short tweets that do not contribute much context.\n",
        "\n",
        "2. Truncate or split long tweets to ensure they fit within the model's tokenization limits\n",
        "\n",
        "3. Establishing a max length: It specifies the maximum number of words that the model will process for each review."
      ],
      "metadata": {
        "id": "bc5PXEBRStmz"
      }
    },
    {
      "cell_type": "markdown",
      "source": [
        "### Pros and Cons to Setting Max Token or Word Length:\n",
        "\n",
        "Setting a **maximum length** (max\\_len) for text inputs is a standard preprocessing step in NLP, especially when working with models like RNNs, LSTMs, Transformers, or BERT.\n",
        "\n",
        "Here’s a clear breakdown of the **pros and cons**:\n",
        "\n",
        "---\n",
        "\n",
        "## ✅ Pros of Setting a Maximum Text Length\n",
        "\n",
        "### 1. **Computational Efficiency**\n",
        "\n",
        "* Fixed-length input allows for **efficient batching** and **GPU acceleration**.\n",
        "* Reduces **training time** and **memory usage**.\n",
        "\n",
        "### 2. **Model Compatibility**\n",
        "\n",
        "* Required by models like BERT, GPT, or RNNs which expect **fixed-length inputs** (or paddable sequences).\n",
        "* Prevents runtime errors from variable-length inputs.\n",
        "\n",
        "### 3. **Control Over Noise**\n",
        "\n",
        "* Long texts often contain **irrelevant or redundant information**.\n",
        "* Truncating can help focus on the most **important part** of the text (e.g., beginning of a review or headline).\n",
        "\n",
        "### 4. **Avoid Overfitting**\n",
        "\n",
        "* Especially in small datasets, long sequences can lead to **memorization**, not generalization.\n",
        "* Shorter, normalized lengths reduce this risk.\n",
        "\n",
        "---\n",
        "\n",
        "## ❌ Cons of Setting a Maximum Text Length\n",
        "\n",
        "### 1. **Loss of Information**\n",
        "\n",
        "* Truncating longer texts **removes content**, possibly losing important context or conclusions.\n",
        "* Especially problematic for domains like **legal**, **medical**, or **scientific text** where key info may appear later.\n",
        "\n",
        "### 2. **Bias Toward Start of Text**\n",
        "\n",
        "* Most truncation keeps the **start (head)** and drops the end (tail).\n",
        "* If useful info is at the end, the model may **learn skewed patterns**.\n",
        "\n",
        "### 3. **Underutilization of Data**\n",
        "\n",
        "* If max\\_len is set **too small**, you waste valuable training data.\n",
        "* If set **too large**, you waste memory on padding shorter texts.\n",
        "\n",
        "---\n",
        "\n",
        "## Best Practices\n",
        "\n",
        "| Scenario                      | Suggested Strategy                                               |\n",
        "| ----------------------------- | ---------------------------------------------------------------- |\n",
        "| Classification tasks          | Truncate if needed, often start of text is enough                |       |          |\n",
        "| Fine-tuning transformers      | Use tokenizer’s `max_length`, `truncation=True`                  |\n",
        "\n",
        "---\n",
        "\n",
        "## How to Choose `max_len`\n",
        "\n",
        "  ```python\n",
        "  df['text'].str.len().describe()\n",
        "  ```\n",
        "* Pick a length that covers \\~90–95% of samples while balancing memory and compute.\n",
        "\n",
        "---\n",
        "\n"
      ],
      "metadata": {
        "id": "jI2Tt1DKXnK-"
      }
    },
    {
      "cell_type": "markdown",
      "source": [
        "# Preprocessing\n",
        "\n",
        "Although text preprocessing is a well-established research domain for English, Arabic NLP remains comparatively underdeveloped and has distinct linguistic complexities and unique computational challenges.\n",
        "\n",
        "I will cover some NLP preprocessing tasks in the scope of the Arabic Language.\n",
        "\n",
        "---\n",
        "\n",
        "### **1. Text Normalization**  \n",
        "#### **A. Script Standardization**  \n",
        "- **Unicode Normalization**: Convert Arabic characters to a consistent form (e.g., `ك` vs. `ک`).  \n",
        "  ```python\n",
        "  import unicodedata\n",
        "  text = unicodedata.normalize('NFKD', text)  # Decompose then recompose\n",
        "  ```\n",
        "- **Hamza Normalization**: Resolve variations of أ/إ/آ to أ (e.g., `إسلام` → `أسلام`).  \n",
        "- **Tatweel Removal**: Strip elongation characters (ـ) (e.g., `عــــــربي` → `عربي`).  \n",
        "\n",
        "#### **B. Diacritic Handling**  \n",
        "- **Strip Harakat**: Remove vowel marks (ـَـْـُـ) unless needed for tasks like Quranic analysis.  \n",
        "  ```python\n",
        "  text = re.sub(r'[\\u064B-\\u065F]', '', text)  # Removes all diacritics\n",
        "  ```\n",
        "- **Optional**: Preserve diacritics for poetry or ASR by using a whitelist.  \n",
        "\n",
        "#### **C. Number Normalization**  \n",
        "- Convert numerals to Arabic words (e.g., `٣` → `ثلاثة`) or replace with `[NUM]`.  \n",
        "- Address Hindu-Arabic (١٢٣) vs. Western digits (123).  \n",
        "\n",
        "---\n",
        "\n",
        "### **2. Noise Removal**  \n",
        "- **Remove Non-Arabic Scripts**: Keep only Arabic Unicode ranges (0600–06FF, 0750–077F, FB50–FDFF, FE70–FEFF).  \n",
        "  ```python\n",
        "  text = re.sub(r'[^\\u0600-\\u06FF\\u0750-\\u077F\\uFB50-\\uFDFF\\uFE70-\\uFEFF]', ' ', text)\n",
        "  ```\n",
        "- **Clean Social Media Noise**:  \n",
        "  - Remove hashtags, mentions, and URLs (or replace with `[URL]`).  \n",
        "  - Normalize repeated characters (e.g., `هههه` → `ههه`).  \n",
        "\n",
        "---\n",
        "\n",
        "### **3. Tokenization**  \n",
        "#### **A. Word-Level**  \n",
        "- **Challenges**: Clitic pronouns (ـكم, ـها) and conjunctions (ـو).  \n",
        "- **Tools**:  \n",
        "  - **Farasa Segmenter**: Splits attached pronouns (e.g., `كتابها` → `كتاب + ها`).  \n",
        "  - **CAMeL Tools**: Handles dialectal Arabic.  \n",
        "\n",
        "#### **B. Subword-Level**  \n",
        "- **Byte-Pair Encoding (BPE)**: Use pretrained Arabic tokenizers (e.g., `AraBERT`, `MARBERT`).  \n",
        "\n",
        "---\n",
        "\n",
        "### **4. Stopword Removal**  \n",
        "- **Curated Lists**: Use Arabic stopword lists from `NLTK` or build custom ones for dialects.  \n",
        "  ```python\n",
        "  from nltk.corpus import stopwords\n",
        "  stops = set(stopwords.words('arabic'))  # MSA-only\n",
        "  ```\n",
        "- **Caution**: Dialectal stopwords (e.g., Egyptian \"بس\" meaning \"only\") may differ.  \n",
        "\n",
        "---\n",
        "\n",
        "### **5. Stemming/Lemmatization**  \n",
        "#### **A. Light Stemming**  \n",
        "- Remove prefixes/suffixes while preserving the root:  \n",
        "  - **Farasa Stemmer**: `كتاباتنا` → `كتابة`.  \n",
        "  - **ISRI Stemmer**: Rule-based but aggressive.  \n",
        "\n",
        "#### **B. Root Extraction (Lemmatization)**  \n",
        "- **Farasa Lemmatizer**: Maps words to tri-literal roots (e.g., `يستلمون` → `سلم`).  \n",
        "- **Khoja Algorithm**: Classical Arabic root extraction.  \n",
        "\n",
        "---\n",
        "\n",
        "### **6. Dialect Handling**  \n",
        "- **Normalization to MSA**: Use tools like `CALIMA-star` for Levantine/Egyptian-to-MSA conversion.  \n",
        "- **Dialect Identification**: Classify text (e.g., Gulf vs. Maghrebi) before processing.  \n",
        "\n",
        "---\n",
        "\n",
        "### **7. Advanced Steps**  \n",
        "#### **A. Named Entity Recognition (NER)**  \n",
        "- Mask entities (e.g., `[LOC:القاهرة]`) to avoid splitting during tokenization.  \n",
        "\n",
        "#### **B. Spelling Correction**  \n",
        "- **Farasa Correct**: Fixes common errors (e.g., `اللغة العربيه` → `اللغة العربية`).  \n",
        "\n",
        "#### **C. Coreference Resolution**  \n",
        "- Replace pronouns with nouns (e.g., `هو` → `الرجل`) for coherence.  \n",
        "\n",
        "---\n",
        "\n",
        "### **Python Example (Full Pipeline)**  \n",
        "```python\n",
        "from farasa.segmenter import FarasaSegmenter\n",
        "from farasa.stemmer import FarasaStemmer\n",
        "import pyarabic.araby as araby  # For diacritic removal\n",
        "\n",
        "def preprocess_arabic(text):\n",
        "    # Normalize\n",
        "    text = araby.strip_tashkeel(text)  # Remove diacritics\n",
        "    text = araby.normalize_hamza(text)\n",
        "    \n",
        "    # Tokenize with Farasa\n",
        "    segmenter = FarasaSegmenter()\n",
        "    text = segmenter.segment(text)  # Splits attached pronouns\n",
        "    \n",
        "    # Stemming\n",
        "    stemmer = FarasaStemmer()\n",
        "    text = stemmer.stem(text)\n",
        "    \n",
        "    return text\n",
        "```\n",
        "\n",
        "---"
      ],
      "metadata": {
        "id": "XJ1ORLjh4SvK"
      }
    },
    {
      "cell_type": "markdown",
      "source": [
        "# Lemmatization/Stemming Models and Libraries\n",
        "\n",
        "There are different preprocessing steps that each language does differently, however lemmatization is one step that requires extensive altering and computational resources to perform.\n",
        "\n",
        "Below is a list of pros and cons of some popular lemmitization libraries.\n",
        "---\n",
        "\n",
        "### **1. Farasa Lemmatizer**  \n",
        "**Developed by:** Qatar Computing Research Institute (QCRI)  \n",
        "**Type:** Rule-based + Statistical  \n",
        "**Availability:** API, Python (`farasapy`), and standalone tool.  \n",
        "\n",
        "#### **Pros:**  \n",
        "✅ **Highly accurate** (one of the best for Arabic NLP tasks).  \n",
        "✅ **Fast processing** (optimized for large-scale text).  \n",
        "✅ **Handles complex morphology** (roots, prefixes, suffixes well).  \n",
        "✅ **Supports modern standard Arabic (MSA) and some dialects.**  \n",
        "\n",
        "#### **Cons:**  \n",
        "❌ **Not entirely free** (API has rate limits; full access may require a license).  \n",
        "❌ **No direct deep learning integration** (relies on traditional methods).  \n",
        "\n",
        "---\n",
        "\n",
        "### **2. CAMeL Tools Lemmatizer**  \n",
        "**Developed by:** CAMeL Lab (NYU Abu Dhabi)  \n",
        "**Type:** Rule-based + Machine Learning  \n",
        "**Availability:** Python library (`camel_tools`).  \n",
        "\n",
        "#### **Pros:**  \n",
        "✅ **Open-source and free** (no API restrictions).  \n",
        "✅ **Good for MSA and some dialectal variations.**  \n",
        "✅ **Works well with other Arabic NLP tools (tokenization, POS tagging).**  \n",
        "\n",
        "#### **Cons:**  \n",
        "❌ **Slightly slower than Farasa for large datasets.**  \n",
        "❌ **Less accurate on highly dialectal or noisy text.**  \n",
        "\n",
        "---\n",
        "\n",
        "### **3. Stanza (Stanford NLP) Arabic Lemmatizer**  \n",
        "**Type:** Neural (Transformer-based)  \n",
        "**Availability:** Python (`stanza`).  \n",
        "\n",
        "#### **Pros:**  \n",
        "✅ **Deep learning-based** (better for context-aware lemmatization).  \n",
        "✅ **Part of a full NLP pipeline** (tokenization, POS, dependency parsing).  \n",
        "✅ **Decent accuracy on MSA.**  \n",
        "\n",
        "#### **Cons:**  \n",
        "❌ **Slower than rule-based systems (GPU helps).**  \n",
        "❌ **Struggles with dialects and informal Arabic.**  \n",
        "\n",
        "---\n",
        "\n",
        "### **4. ISRI Arabic Stemmer (NLTK-Compatible)**  \n",
        "**Type:** Rule-based (Light Stemming)  \n",
        "**Availability:** Python (`nltk.stem.isri`).  \n",
        "\n",
        "#### **Pros:**  \n",
        "✅ **Simple and fast** (good for basic stemming, not full lemmatization).  \n",
        "✅ **Works with NLTK.**  \n",
        "\n",
        "#### **Cons:**  \n",
        "❌ **Only does stemming (not true lemmatization).**  \n",
        "❌ **Low accuracy for nuanced text.**  \n",
        "\n",
        "---\n",
        "\n",
        "### **5. MADAMIRA (Java-Based)**  \n",
        "**Developed by:** Columbia University  \n",
        "**Type:** Rule-based  \n",
        "**Availability:** Java/Python (via wrappers).  \n",
        "\n",
        "#### **Pros:**  \n",
        "✅ **Very precise for MSA.**  \n",
        "✅ **Handles morphology rigorously.**  \n",
        "\n",
        "#### **Cons:**  \n",
        "❌ **Outdated (no active development).**  \n",
        "❌ **Complex setup (Java dependency).**  \n",
        "\n",
        "---\n",
        "\n",
        "### **6. AraBERT Lemmatization (Transformers)**  \n",
        "**Type:** BERT-based (Contextual)  \n",
        "**Availability:** HuggingFace (`AraBERT`).  \n",
        "\n",
        "#### **Pros:**  \n",
        "✅ **State-of-the-art for context-aware lemmatization.**  \n",
        "✅ **Works well with noisy text (social media, dialects).**  \n",
        "\n",
        "#### **Cons:**  \n",
        "❌ **Heavy resource usage (needs GPU for speed).**  \n",
        "❌ **Overkill if you only need lemmatization.**  \n",
        "\n",
        "---\n",
        "\n",
        "### **Comparison Summary**\n",
        "| Tool          | Accuracy | Speed  | Dialects | Ease of Use | Best For |\n",
        "|--------------|----------|--------|----------|-------------|----------|\n",
        "| **Farasa**   | ⭐⭐⭐⭐⭐ | ⭐⭐⭐⭐ | Limited  | Medium      | Production systems |\n",
        "| **CAMeL**    | ⭐⭐⭐⭐   | ⭐⭐⭐  | Limited  | Easy        | Research, MSA |\n",
        "| **Stanza**   | ⭐⭐⭐⭐   | ⭐⭐    | No       | Easy        | Full NLP pipeline |\n",
        "| **ISRI**     | ⭐⭐      | ⭐⭐⭐⭐⭐ | No       | Very Easy   | Quick stemming |\n",
        "| **MADAMIRA** | ⭐⭐⭐⭐   | ⭐⭐    | No       | Hard        | Legacy systems |\n",
        "| **AraBERT**  | ⭐⭐⭐⭐⭐ | ⭐     | Yes      | Medium      | Advanced NLP |\n",
        "\n",
        "---"
      ],
      "metadata": {
        "id": "l85p-6rq1wHQ"
      }
    },
    {
      "cell_type": "markdown",
      "source": [
        "I want to focus on lemmatization since I have noticed some preprocessing for the arabic language skip this step and I want to see how models perform with and without lemmitization. Below will be very simple models to demonstrate the power of lemmitization. For lemmitization libraries we will try out CAMeL and Stanza due to their free usage and perforamce vs overhead costs for our needs."
      ],
      "metadata": {
        "id": "585qkN-S6qTi"
      }
    },
    {
      "cell_type": "markdown",
      "source": [
        "### Word Frequency Analysis"
      ],
      "metadata": {
        "id": "-ahH6K3FPk73"
      }
    },
    {
      "cell_type": "code",
      "source": [
        "!pip install stanza"
      ],
      "metadata": {
        "colab": {
          "base_uri": "https://localhost:8080/"
        },
        "id": "ZJlPXw4fehAY",
        "outputId": "20ff2bef-da48-47fa-acd4-200240e924ff"
      },
      "execution_count": 12,
      "outputs": [
        {
          "output_type": "stream",
          "name": "stdout",
          "text": [
            "Collecting stanza\n",
            "  Downloading stanza-1.10.1-py3-none-any.whl.metadata (13 kB)\n",
            "Collecting emoji (from stanza)\n",
            "  Downloading emoji-2.14.1-py3-none-any.whl.metadata (5.7 kB)\n",
            "Requirement already satisfied: numpy in /usr/local/lib/python3.11/dist-packages (from stanza) (2.0.2)\n",
            "Requirement already satisfied: protobuf>=3.15.0 in /usr/local/lib/python3.11/dist-packages (from stanza) (5.29.4)\n",
            "Requirement already satisfied: requests in /usr/local/lib/python3.11/dist-packages (from stanza) (2.32.3)\n",
            "Requirement already satisfied: networkx in /usr/local/lib/python3.11/dist-packages (from stanza) (3.4.2)\n",
            "Requirement already satisfied: torch>=1.3.0 in /usr/local/lib/python3.11/dist-packages (from stanza) (2.6.0+cu124)\n",
            "Requirement already satisfied: tqdm in /usr/local/lib/python3.11/dist-packages (from stanza) (4.67.1)\n",
            "Requirement already satisfied: filelock in /usr/local/lib/python3.11/dist-packages (from torch>=1.3.0->stanza) (3.18.0)\n",
            "Requirement already satisfied: typing-extensions>=4.10.0 in /usr/local/lib/python3.11/dist-packages (from torch>=1.3.0->stanza) (4.13.2)\n",
            "Requirement already satisfied: jinja2 in /usr/local/lib/python3.11/dist-packages (from torch>=1.3.0->stanza) (3.1.6)\n",
            "Requirement already satisfied: fsspec in /usr/local/lib/python3.11/dist-packages (from torch>=1.3.0->stanza) (2025.3.2)\n",
            "Collecting nvidia-cuda-nvrtc-cu12==12.4.127 (from torch>=1.3.0->stanza)\n",
            "  Downloading nvidia_cuda_nvrtc_cu12-12.4.127-py3-none-manylinux2014_x86_64.whl.metadata (1.5 kB)\n",
            "Collecting nvidia-cuda-runtime-cu12==12.4.127 (from torch>=1.3.0->stanza)\n",
            "  Downloading nvidia_cuda_runtime_cu12-12.4.127-py3-none-manylinux2014_x86_64.whl.metadata (1.5 kB)\n",
            "Collecting nvidia-cuda-cupti-cu12==12.4.127 (from torch>=1.3.0->stanza)\n",
            "  Downloading nvidia_cuda_cupti_cu12-12.4.127-py3-none-manylinux2014_x86_64.whl.metadata (1.6 kB)\n",
            "Collecting nvidia-cudnn-cu12==9.1.0.70 (from torch>=1.3.0->stanza)\n",
            "  Downloading nvidia_cudnn_cu12-9.1.0.70-py3-none-manylinux2014_x86_64.whl.metadata (1.6 kB)\n",
            "Collecting nvidia-cublas-cu12==12.4.5.8 (from torch>=1.3.0->stanza)\n",
            "  Downloading nvidia_cublas_cu12-12.4.5.8-py3-none-manylinux2014_x86_64.whl.metadata (1.5 kB)\n",
            "Collecting nvidia-cufft-cu12==11.2.1.3 (from torch>=1.3.0->stanza)\n",
            "  Downloading nvidia_cufft_cu12-11.2.1.3-py3-none-manylinux2014_x86_64.whl.metadata (1.5 kB)\n",
            "Collecting nvidia-curand-cu12==10.3.5.147 (from torch>=1.3.0->stanza)\n",
            "  Downloading nvidia_curand_cu12-10.3.5.147-py3-none-manylinux2014_x86_64.whl.metadata (1.5 kB)\n",
            "Collecting nvidia-cusolver-cu12==11.6.1.9 (from torch>=1.3.0->stanza)\n",
            "  Downloading nvidia_cusolver_cu12-11.6.1.9-py3-none-manylinux2014_x86_64.whl.metadata (1.6 kB)\n",
            "Collecting nvidia-cusparse-cu12==12.3.1.170 (from torch>=1.3.0->stanza)\n",
            "  Downloading nvidia_cusparse_cu12-12.3.1.170-py3-none-manylinux2014_x86_64.whl.metadata (1.6 kB)\n",
            "Requirement already satisfied: nvidia-cusparselt-cu12==0.6.2 in /usr/local/lib/python3.11/dist-packages (from torch>=1.3.0->stanza) (0.6.2)\n",
            "Requirement already satisfied: nvidia-nccl-cu12==2.21.5 in /usr/local/lib/python3.11/dist-packages (from torch>=1.3.0->stanza) (2.21.5)\n",
            "Requirement already satisfied: nvidia-nvtx-cu12==12.4.127 in /usr/local/lib/python3.11/dist-packages (from torch>=1.3.0->stanza) (12.4.127)\n",
            "Collecting nvidia-nvjitlink-cu12==12.4.127 (from torch>=1.3.0->stanza)\n",
            "  Downloading nvidia_nvjitlink_cu12-12.4.127-py3-none-manylinux2014_x86_64.whl.metadata (1.5 kB)\n",
            "Requirement already satisfied: triton==3.2.0 in /usr/local/lib/python3.11/dist-packages (from torch>=1.3.0->stanza) (3.2.0)\n",
            "Requirement already satisfied: sympy==1.13.1 in /usr/local/lib/python3.11/dist-packages (from torch>=1.3.0->stanza) (1.13.1)\n",
            "Requirement already satisfied: mpmath<1.4,>=1.1.0 in /usr/local/lib/python3.11/dist-packages (from sympy==1.13.1->torch>=1.3.0->stanza) (1.3.0)\n",
            "Requirement already satisfied: charset-normalizer<4,>=2 in /usr/local/lib/python3.11/dist-packages (from requests->stanza) (3.4.2)\n",
            "Requirement already satisfied: idna<4,>=2.5 in /usr/local/lib/python3.11/dist-packages (from requests->stanza) (3.10)\n",
            "Requirement already satisfied: urllib3<3,>=1.21.1 in /usr/local/lib/python3.11/dist-packages (from requests->stanza) (2.4.0)\n",
            "Requirement already satisfied: certifi>=2017.4.17 in /usr/local/lib/python3.11/dist-packages (from requests->stanza) (2025.4.26)\n",
            "Requirement already satisfied: MarkupSafe>=2.0 in /usr/local/lib/python3.11/dist-packages (from jinja2->torch>=1.3.0->stanza) (3.0.2)\n",
            "Downloading stanza-1.10.1-py3-none-any.whl (1.1 MB)\n",
            "\u001b[2K   \u001b[90m━━━━━━━━━━━━━━━━━━━━━━━━━━━━━━━━━━━━━━━━\u001b[0m \u001b[32m1.1/1.1 MB\u001b[0m \u001b[31m16.8 MB/s\u001b[0m eta \u001b[36m0:00:00\u001b[0m\n",
            "\u001b[?25hDownloading nvidia_cublas_cu12-12.4.5.8-py3-none-manylinux2014_x86_64.whl (363.4 MB)\n",
            "\u001b[2K   \u001b[90m━━━━━━━━━━━━━━━━━━━━━━━━━━━━━━━━━━━━━━━━\u001b[0m \u001b[32m363.4/363.4 MB\u001b[0m \u001b[31m4.4 MB/s\u001b[0m eta \u001b[36m0:00:00\u001b[0m\n",
            "\u001b[?25hDownloading nvidia_cuda_cupti_cu12-12.4.127-py3-none-manylinux2014_x86_64.whl (13.8 MB)\n",
            "\u001b[2K   \u001b[90m━━━━━━━━━━━━━━━━━━━━━━━━━━━━━━━━━━━━━━━━\u001b[0m \u001b[32m13.8/13.8 MB\u001b[0m \u001b[31m62.6 MB/s\u001b[0m eta \u001b[36m0:00:00\u001b[0m\n",
            "\u001b[?25hDownloading nvidia_cuda_nvrtc_cu12-12.4.127-py3-none-manylinux2014_x86_64.whl (24.6 MB)\n",
            "\u001b[2K   \u001b[90m━━━━━━━━━━━━━━━━━━━━━━━━━━━━━━━━━━━━━━━━\u001b[0m \u001b[32m24.6/24.6 MB\u001b[0m \u001b[31m34.8 MB/s\u001b[0m eta \u001b[36m0:00:00\u001b[0m\n",
            "\u001b[?25hDownloading nvidia_cuda_runtime_cu12-12.4.127-py3-none-manylinux2014_x86_64.whl (883 kB)\n",
            "\u001b[2K   \u001b[90m━━━━━━━━━━━━━━━━━━━━━━━━━━━━━━━━━━━━━━━━\u001b[0m \u001b[32m883.7/883.7 kB\u001b[0m \u001b[31m45.4 MB/s\u001b[0m eta \u001b[36m0:00:00\u001b[0m\n",
            "\u001b[?25hDownloading nvidia_cudnn_cu12-9.1.0.70-py3-none-manylinux2014_x86_64.whl (664.8 MB)\n",
            "\u001b[2K   \u001b[90m━━━━━━━━━━━━━━━━━━━━━━━━━━━━━━━━━━━━━━━━\u001b[0m \u001b[32m664.8/664.8 MB\u001b[0m \u001b[31m3.1 MB/s\u001b[0m eta \u001b[36m0:00:00\u001b[0m\n",
            "\u001b[?25hDownloading nvidia_cufft_cu12-11.2.1.3-py3-none-manylinux2014_x86_64.whl (211.5 MB)\n",
            "\u001b[2K   \u001b[90m━━━━━━━━━━━━━━━━━━━━━━━━━━━━━━━━━━━━━━━━\u001b[0m \u001b[32m211.5/211.5 MB\u001b[0m \u001b[31m6.5 MB/s\u001b[0m eta \u001b[36m0:00:00\u001b[0m\n",
            "\u001b[?25hDownloading nvidia_curand_cu12-10.3.5.147-py3-none-manylinux2014_x86_64.whl (56.3 MB)\n",
            "\u001b[2K   \u001b[90m━━━━━━━━━━━━━━━━━━━━━━━━━━━━━━━━━━━━━━━━\u001b[0m \u001b[32m56.3/56.3 MB\u001b[0m \u001b[31m12.0 MB/s\u001b[0m eta \u001b[36m0:00:00\u001b[0m\n",
            "\u001b[?25hDownloading nvidia_cusolver_cu12-11.6.1.9-py3-none-manylinux2014_x86_64.whl (127.9 MB)\n",
            "\u001b[2K   \u001b[90m━━━━━━━━━━━━━━━━━━━━━━━━━━━━━━━━━━━━━━━━\u001b[0m \u001b[32m127.9/127.9 MB\u001b[0m \u001b[31m8.2 MB/s\u001b[0m eta \u001b[36m0:00:00\u001b[0m\n",
            "\u001b[?25hDownloading nvidia_cusparse_cu12-12.3.1.170-py3-none-manylinux2014_x86_64.whl (207.5 MB)\n",
            "\u001b[2K   \u001b[90m━━━━━━━━━━━━━━━━━━━━━━━━━━━━━━━━━━━━━━━━\u001b[0m \u001b[32m207.5/207.5 MB\u001b[0m \u001b[31m6.9 MB/s\u001b[0m eta \u001b[36m0:00:00\u001b[0m\n",
            "\u001b[?25hDownloading nvidia_nvjitlink_cu12-12.4.127-py3-none-manylinux2014_x86_64.whl (21.1 MB)\n",
            "\u001b[2K   \u001b[90m━━━━━━━━━━━━━━━━━━━━━━━━━━━━━━━━━━━━━━━━\u001b[0m \u001b[32m21.1/21.1 MB\u001b[0m \u001b[31m38.4 MB/s\u001b[0m eta \u001b[36m0:00:00\u001b[0m\n",
            "\u001b[?25hDownloading emoji-2.14.1-py3-none-any.whl (590 kB)\n",
            "\u001b[2K   \u001b[90m━━━━━━━━━━━━━━━━━━━━━━━━━━━━━━━━━━━━━━━━\u001b[0m \u001b[32m590.6/590.6 kB\u001b[0m \u001b[31m44.4 MB/s\u001b[0m eta \u001b[36m0:00:00\u001b[0m\n",
            "\u001b[?25hInstalling collected packages: nvidia-nvjitlink-cu12, nvidia-curand-cu12, nvidia-cufft-cu12, nvidia-cuda-runtime-cu12, nvidia-cuda-nvrtc-cu12, nvidia-cuda-cupti-cu12, nvidia-cublas-cu12, emoji, nvidia-cusparse-cu12, nvidia-cudnn-cu12, nvidia-cusolver-cu12, stanza\n",
            "  Attempting uninstall: nvidia-nvjitlink-cu12\n",
            "    Found existing installation: nvidia-nvjitlink-cu12 12.5.82\n",
            "    Uninstalling nvidia-nvjitlink-cu12-12.5.82:\n",
            "      Successfully uninstalled nvidia-nvjitlink-cu12-12.5.82\n",
            "  Attempting uninstall: nvidia-curand-cu12\n",
            "    Found existing installation: nvidia-curand-cu12 10.3.6.82\n",
            "    Uninstalling nvidia-curand-cu12-10.3.6.82:\n",
            "      Successfully uninstalled nvidia-curand-cu12-10.3.6.82\n",
            "  Attempting uninstall: nvidia-cufft-cu12\n",
            "    Found existing installation: nvidia-cufft-cu12 11.2.3.61\n",
            "    Uninstalling nvidia-cufft-cu12-11.2.3.61:\n",
            "      Successfully uninstalled nvidia-cufft-cu12-11.2.3.61\n",
            "  Attempting uninstall: nvidia-cuda-runtime-cu12\n",
            "    Found existing installation: nvidia-cuda-runtime-cu12 12.5.82\n",
            "    Uninstalling nvidia-cuda-runtime-cu12-12.5.82:\n",
            "      Successfully uninstalled nvidia-cuda-runtime-cu12-12.5.82\n",
            "  Attempting uninstall: nvidia-cuda-nvrtc-cu12\n",
            "    Found existing installation: nvidia-cuda-nvrtc-cu12 12.5.82\n",
            "    Uninstalling nvidia-cuda-nvrtc-cu12-12.5.82:\n",
            "      Successfully uninstalled nvidia-cuda-nvrtc-cu12-12.5.82\n",
            "  Attempting uninstall: nvidia-cuda-cupti-cu12\n",
            "    Found existing installation: nvidia-cuda-cupti-cu12 12.5.82\n",
            "    Uninstalling nvidia-cuda-cupti-cu12-12.5.82:\n",
            "      Successfully uninstalled nvidia-cuda-cupti-cu12-12.5.82\n",
            "  Attempting uninstall: nvidia-cublas-cu12\n",
            "    Found existing installation: nvidia-cublas-cu12 12.5.3.2\n",
            "    Uninstalling nvidia-cublas-cu12-12.5.3.2:\n",
            "      Successfully uninstalled nvidia-cublas-cu12-12.5.3.2\n",
            "  Attempting uninstall: nvidia-cusparse-cu12\n",
            "    Found existing installation: nvidia-cusparse-cu12 12.5.1.3\n",
            "    Uninstalling nvidia-cusparse-cu12-12.5.1.3:\n",
            "      Successfully uninstalled nvidia-cusparse-cu12-12.5.1.3\n",
            "  Attempting uninstall: nvidia-cudnn-cu12\n",
            "    Found existing installation: nvidia-cudnn-cu12 9.3.0.75\n",
            "    Uninstalling nvidia-cudnn-cu12-9.3.0.75:\n",
            "      Successfully uninstalled nvidia-cudnn-cu12-9.3.0.75\n",
            "  Attempting uninstall: nvidia-cusolver-cu12\n",
            "    Found existing installation: nvidia-cusolver-cu12 11.6.3.83\n",
            "    Uninstalling nvidia-cusolver-cu12-11.6.3.83:\n",
            "      Successfully uninstalled nvidia-cusolver-cu12-11.6.3.83\n",
            "Successfully installed emoji-2.14.1 nvidia-cublas-cu12-12.4.5.8 nvidia-cuda-cupti-cu12-12.4.127 nvidia-cuda-nvrtc-cu12-12.4.127 nvidia-cuda-runtime-cu12-12.4.127 nvidia-cudnn-cu12-9.1.0.70 nvidia-cufft-cu12-11.2.1.3 nvidia-curand-cu12-10.3.5.147 nvidia-cusolver-cu12-11.6.1.9 nvidia-cusparse-cu12-12.3.1.170 nvidia-nvjitlink-cu12-12.4.127 stanza-1.10.1\n"
          ]
        }
      ]
    },
    {
      "cell_type": "code",
      "source": [
        "import stanza\n",
        "print(stanza.__version__)"
      ],
      "metadata": {
        "colab": {
          "base_uri": "https://localhost:8080/"
        },
        "id": "qFycFvQrfVTP",
        "outputId": "05c2aef0-07fb-4cd1-d9aa-69c819873b75"
      },
      "execution_count": 13,
      "outputs": [
        {
          "output_type": "stream",
          "name": "stdout",
          "text": [
            "1.10.1\n"
          ]
        }
      ]
    },
    {
      "cell_type": "code",
      "source": [
        "from collections import Counter\n",
        "\n",
        "# Initialize pipeline\n",
        "stanza.download('ar')\n",
        "# nlp = stanza.Pipeline('ar')\n",
        "nlp = stanza.Pipeline('ar', processors='tokenize,pos,lemma,ner', use_gpu=True) # If connected to GPU\n",
        "\n",
        "\n"
      ],
      "metadata": {
        "id": "mp60qjBfPno6",
        "colab": {
          "base_uri": "https://localhost:8080/",
          "height": 575,
          "referenced_widgets": [
            "e65bd44ac8834715aa474586e685de5f",
            "18314f1bf88d43b8a18cc63873be2962",
            "7f91512b4060444fa3e5e30a0015cfca",
            "9ddde9d863374c9ab14aba25804acd4c",
            "5ad7e8ad648344a7b2981be7a8a90b34",
            "e42ab2688b024721bcd236d5c8a6de3f",
            "b07f974a28cb4b689e2ce29e97aa3a86",
            "19593d01c4e044178358a2b410f04e43",
            "3846200007d34159b374d75f76a7eed6",
            "afd02683a3f547c7a49bafa9f3a72604",
            "bc1c8867d5f44d0da1c0d198b2cfda32",
            "e11b395d17034caa95d771a672833684",
            "a0fee71d114d40c4bc1cd073843576dc",
            "764ff02b24554449abc7c2526b385df6",
            "def19417d8e7466d9f142a6710e051fc",
            "b0c213a987f44e72a4f751fbce8c51da",
            "69a3e6a2ba294aeca39ebceefeeb6128",
            "387b5bde7fdf437c84f36eeeda776b02",
            "fd634cb4ffd8411598b0aab86af475b7",
            "8d8777d2d4344fb087278c952bd63d2c",
            "4b80aaa2db5048f28dc5170393651cda",
            "bdf27c970cef4ff5926dabf33cf3f4a0",
            "c5167f7f7ffa42c19f3d76a0811a459b",
            "7c2dc8f9ff2243b3a7ed68f23fcc92f2",
            "882a4014a00545c0a4e544426e40785d",
            "3010698e5d5e444ba1dc32f1bf02e155",
            "48bea750a16a4fc180c96c9d9b78311d",
            "32142eb0691f4d1781b1101fa62e28c3",
            "aa5419c0d654422ca93a66c9bbc7abf6",
            "c6510c1c54124ed9bd26448fc2cf516f",
            "7c6e40b368b74e9cb243666b76c00153",
            "14524b38c03643ee87d92e5bab497ab4",
            "86d6e284b0cf4c23beb169c40db9df06"
          ]
        },
        "outputId": "8a9bbd34-2524-40ad-8e34-33e7ffd5f05e"
      },
      "execution_count": 14,
      "outputs": [
        {
          "output_type": "display_data",
          "data": {
            "text/plain": [
              "Downloading https://raw.githubusercontent.com/stanfordnlp/stanza-resources/main/resources_1.10.0.json:   0%|  …"
            ],
            "application/vnd.jupyter.widget-view+json": {
              "version_major": 2,
              "version_minor": 0,
              "model_id": "e65bd44ac8834715aa474586e685de5f"
            }
          },
          "metadata": {}
        },
        {
          "output_type": "stream",
          "name": "stderr",
          "text": [
            "INFO:stanza:Downloaded file to /root/stanza_resources/resources.json\n",
            "INFO:stanza:Downloading default packages for language: ar (Arabic) ...\n"
          ]
        },
        {
          "output_type": "display_data",
          "data": {
            "text/plain": [
              "Downloading https://huggingface.co/stanfordnlp/stanza-ar/resolve/v1.10.0/models/default.zip:   0%|          | …"
            ],
            "application/vnd.jupyter.widget-view+json": {
              "version_major": 2,
              "version_minor": 0,
              "model_id": "e11b395d17034caa95d771a672833684"
            }
          },
          "metadata": {}
        },
        {
          "output_type": "stream",
          "name": "stderr",
          "text": [
            "INFO:stanza:Downloaded file to /root/stanza_resources/ar/default.zip\n",
            "INFO:stanza:Finished downloading models and saved to /root/stanza_resources\n",
            "INFO:stanza:Checking for updates to resources.json in case models have been updated.  Note: this behavior can be turned off with download_method=None or download_method=DownloadMethod.REUSE_RESOURCES\n"
          ]
        },
        {
          "output_type": "display_data",
          "data": {
            "text/plain": [
              "Downloading https://raw.githubusercontent.com/stanfordnlp/stanza-resources/main/resources_1.10.0.json:   0%|  …"
            ],
            "application/vnd.jupyter.widget-view+json": {
              "version_major": 2,
              "version_minor": 0,
              "model_id": "c5167f7f7ffa42c19f3d76a0811a459b"
            }
          },
          "metadata": {}
        },
        {
          "output_type": "stream",
          "name": "stderr",
          "text": [
            "INFO:stanza:Downloaded file to /root/stanza_resources/resources.json\n",
            "WARNING:stanza:Language ar package default expects mwt, which has been added\n",
            "INFO:stanza:Loading these models for language: ar (Arabic):\n",
            "=============================\n",
            "| Processor | Package       |\n",
            "-----------------------------\n",
            "| tokenize  | padt          |\n",
            "| mwt       | padt          |\n",
            "| pos       | padt_charlm   |\n",
            "| lemma     | padt_nocharlm |\n",
            "| ner       | aqmar_charlm  |\n",
            "=============================\n",
            "\n",
            "INFO:stanza:Using device: cuda\n",
            "INFO:stanza:Loading: tokenize\n",
            "INFO:stanza:Loading: mwt\n",
            "INFO:stanza:Loading: pos\n",
            "INFO:stanza:Loading: lemma\n",
            "INFO:stanza:Loading: ner\n",
            "INFO:stanza:Done loading processors!\n"
          ]
        }
      ]
    },
    {
      "cell_type": "code",
      "source": [
        "# Analyze all texts\n",
        "for text in df['Feed'].head():\n",
        "    # docs = [nlp(text) for text in df['text'].head(100)]  # Limit batch size\n",
        "    doc = nlp(text)\n",
        "    print(f\"Original: {text}\")\n",
        "    print(\"Tokens:\", [word.text for sent in doc.sentences for word in sent.words])\n",
        "    print(\"Lemmas:\", [word.lemma for sent in doc.sentences for word in sent.words])\n",
        "    print(\"---\")"
      ],
      "metadata": {
        "id": "CiidY7aa6v1Y",
        "colab": {
          "base_uri": "https://localhost:8080/"
        },
        "outputId": "2dfe417e-6ddc-4cdc-b660-ff1d133c957e"
      },
      "execution_count": 15,
      "outputs": [
        {
          "output_type": "stream",
          "name": "stdout",
          "text": [
            "Original:  اربد فيها جامعات اكثر من عمان ... وفيها قد عمان ونص لعيبه المنتخب منها ... و 80 % من مطربين الاردن منها\n",
            "Tokens: ['اربد', 'في', 'ها', 'جامعات', 'اكثر', 'من', 'عمان', '.', '.', '.', 'و', 'في', 'ها', 'قد', 'عمان', 'ونص', 'ل', 'عيب', 'ه', 'المنتخب', 'من', 'ها', '.', '.', '.', 'و', '80', '%', 'من', 'مطربين', 'الاردن', 'من', 'ها']\n",
            "Lemmas: ['اربد', 'فِي', 'هُوَ', 'جَامِعَة', 'أَكثَر', 'مِن', 'عَمَّان', '.', '.', '.', 'وَ', 'فِي', 'هُوَ', 'قَد', 'عَمَّان', 'ونص', 'لِ', 'عَيب', 'هُوَ', 'مُنتَخَب', 'مِن', 'هُوَ', '.', '.', '.', 'وَ', '80', '%', 'مِن', 'مُطَرَّب', 'أُردُنّ', 'مِن', 'هُوَ']\n",
            "---\n",
            "Original:  الحلو انكم بتحكوا على اساس انو الاردن ما فيه فساد سرقات\n",
            "Tokens: ['الحلو', 'انكم', 'ب', 'تحكوا', 'على', 'اساس', 'انو', 'الاردن', 'ما', 'في', 'ه', 'فساد', 'سرقات']\n",
            "Lemmas: ['الحلو', 'هُوَ', 'بِ', 'تَحَكَّى', 'عَلَى', 'أَسَاس', 'انو', 'أُردُنّ', 'مَا', 'فِي', 'هُوَ', 'فَسَاد', 'سَرِيق']\n",
            "---\n",
            "Original:  كله رائع بجد ربنا يكرمك\n",
            "Tokens: ['كل', 'ه', 'رائع', 'بجد', 'ربنا', 'يكرمك']\n",
            "Lemmas: ['كُلّ', 'هُوَ', 'رَائِع', 'بجد', 'ربنا', 'كَرَّم']\n",
            "---\n",
            "Original:  لسانك قذر يا قمامه\n",
            "Tokens: ['ل', 'سانك', 'قذر', 'يا', 'قمامه']\n",
            "Lemmas: ['لَ', 'سانك', 'قَذر', 'يَا', 'هُوَ']\n",
            "---\n",
            "Original: ​انا داشره وغير متزوجه ولدي علاقات مشبوه واحشش واحيانا اهرب مخدرات و اجيد التسليك احب ان انكب نفسي وعلاقتي بالمنزل متوتره جد\n",
            "Tokens: ['\\u200bن', 'نا', 'داشر', 'ه', 'وغير', 'متزوج', 'ه', 'و', 'لدي', 'علاقات', 'مشبوه', 'و', 'أحشش', 'و', 'إحيانا', 'اهرب', 'مخدرات', 'و', 'اجيد', 'التسليك', 'احب', 'ان', 'انكب', 'نفسي', 'و', 'علاقتي', 'ب', 'المنزل', 'متوتر', 'ه', 'جد']\n",
            "Lemmas: ['أَنّ', 'هُوَ', 'دَاشِر', 'هُوَ', 'وَغِير', 'مُتَزَوِّج', 'هُوَ', 'وَ', 'لَدَى', 'عَلَاقَة', 'مَشبُوه', 'وَ', 'حَشِش', 'وَ', 'إِحَانَا', 'أَهرَب', 'مُخَدِّر', 'وَ', 'أَجَاد', 'التسليك', 'أَحَبّ', 'أَنَّ', 'أَنكَب', 'نَفسِيّ', 'وَ', 'عَلَاقَة', 'بِ', 'مَنزِل', 'مُتَوَتِّر', 'هُوَ', 'جَدّ']\n",
            "---\n"
          ]
        }
      ]
    },
    {
      "cell_type": "code",
      "source": [
        "text = df.at[df.index[0], 'Feed']\n",
        "doc = nlp(text)\n",
        "print(text)\n",
        "\n",
        "for sentence in doc.sentences:\n",
        "    # print(\"🔹 Sentence:\", sentence)\n",
        "    for word in sentence.words:\n",
        "        print(f\"  Text: {word.text}, Lemma: {word.lemma}, POS: {word.upos}, Morph: {word.feats}\")\n"
      ],
      "metadata": {
        "id": "7A1qhn1f6xXs",
        "colab": {
          "base_uri": "https://localhost:8080/"
        },
        "outputId": "26e60c5d-e520-41f7-e8da-522c9333b824"
      },
      "execution_count": 16,
      "outputs": [
        {
          "output_type": "stream",
          "name": "stdout",
          "text": [
            " اربد فيها جامعات اكثر من عمان ... وفيها قد عمان ونص لعيبه المنتخب منها ... و 80 % من مطربين الاردن منها\n",
            "  Text: اربد, Lemma: اربد, POS: X, Morph: None\n",
            "  Text: في, Lemma: فِي, POS: ADP, Morph: AdpType=Prep\n",
            "  Text: ها, Lemma: هُوَ, POS: PRON, Morph: Case=Gen|Gender=Fem|Number=Sing|Person=3|PronType=Prs\n",
            "  Text: جامعات, Lemma: جَامِعَة, POS: NOUN, Morph: Case=Nom|Definite=Cons|Number=Plur\n",
            "  Text: اكثر, Lemma: أَكثَر, POS: ADJ, Morph: Case=Nom|Definite=Ind|Gender=Masc|Number=Sing\n",
            "  Text: من, Lemma: مِن, POS: ADP, Morph: AdpType=Prep\n",
            "  Text: عمان, Lemma: عَمَّان, POS: NOUN, Morph: Case=Gen|Definite=Ind|Number=Sing\n",
            "  Text: ., Lemma: ., POS: PUNCT, Morph: None\n",
            "  Text: ., Lemma: ., POS: PUNCT, Morph: None\n",
            "  Text: ., Lemma: ., POS: PUNCT, Morph: None\n",
            "  Text: و, Lemma: وَ, POS: CCONJ, Morph: None\n",
            "  Text: في, Lemma: فِي, POS: ADP, Morph: AdpType=Prep\n",
            "  Text: ها, Lemma: هُوَ, POS: PRON, Morph: Case=Gen|Gender=Fem|Number=Sing|Person=3|PronType=Prs\n",
            "  Text: قد, Lemma: قَد, POS: AUX, Morph: None\n",
            "  Text: عمان, Lemma: عَمَّان, POS: NOUN, Morph: Case=Nom|Definite=Ind|Number=Sing\n",
            "  Text: ونص, Lemma: ونص, POS: X, Morph: None\n",
            "  Text: ل, Lemma: لِ, POS: ADP, Morph: AdpType=Prep\n",
            "  Text: عيب, Lemma: عَيب, POS: NOUN, Morph: Case=Gen|Definite=Cons|Number=Sing\n",
            "  Text: ه, Lemma: هُوَ, POS: PRON, Morph: Case=Gen|Gender=Masc|Number=Sing|Person=3|PronType=Prs\n",
            "  Text: المنتخب, Lemma: مُنتَخَب, POS: NOUN, Morph: Case=Nom|Definite=Def|Number=Sing\n",
            "  Text: من, Lemma: مِن, POS: ADP, Morph: AdpType=Prep\n",
            "  Text: ها, Lemma: هُوَ, POS: PRON, Morph: Case=Gen|Gender=Fem|Number=Sing|Person=3|PronType=Prs\n",
            "  Text: ., Lemma: ., POS: PUNCT, Morph: None\n",
            "  Text: ., Lemma: ., POS: PUNCT, Morph: None\n",
            "  Text: ., Lemma: ., POS: PUNCT, Morph: None\n",
            "  Text: و, Lemma: وَ, POS: CCONJ, Morph: None\n",
            "  Text: 80, Lemma: 80, POS: NUM, Morph: NumForm=Digit\n",
            "  Text: %, Lemma: %, POS: SYM, Morph: None\n",
            "  Text: من, Lemma: مِن, POS: ADP, Morph: AdpType=Prep\n",
            "  Text: مطربين, Lemma: مُطَرَّب, POS: NOUN, Morph: Case=Gen|Definite=Ind|Number=Plur\n",
            "  Text: الاردن, Lemma: أُردُنّ, POS: NOUN, Morph: Case=Gen|Definite=Def|Number=Sing\n",
            "  Text: من, Lemma: مِن, POS: ADP, Morph: AdpType=Prep\n",
            "  Text: ها, Lemma: هُوَ, POS: PRON, Morph: Case=Gen|Gender=Fem|Number=Sing|Person=3|PronType=Prs\n"
          ]
        }
      ]
    },
    {
      "cell_type": "code",
      "source": [
        "print(\"Named Entities:\")\n",
        "for text in df['Feed'].head():\n",
        "    doc = nlp(text)\n",
        "    for ent in doc.ents:\n",
        "        print(f\"  Entity: {ent.text}, Type: {ent.type}\")"
      ],
      "metadata": {
        "id": "Clbhssax6zvx",
        "colab": {
          "base_uri": "https://localhost:8080/"
        },
        "outputId": "b26a863f-646c-4d5f-cdb8-17e1f92967e9"
      },
      "execution_count": 17,
      "outputs": [
        {
          "output_type": "stream",
          "name": "stdout",
          "text": [
            "Named Entities:\n",
            "  Entity: عمان, Type: LOC\n",
            "  Entity: عمان, Type: LOC\n",
            "  Entity: الاردن, Type: LOC\n"
          ]
        }
      ]
    },
    {
      "cell_type": "code",
      "source": [
        "from collections import Counter\n",
        "\n",
        "pos_counter = Counter()\n",
        "\n",
        "for text in df['Feed'].head():\n",
        "    doc = nlp(text)\n",
        "    for sent in doc.sentences:\n",
        "        for word in sent.words:\n",
        "            pos_counter[word.upos] += 1\n",
        "\n",
        "print(\"\\n📈 POS Tag Frequency:\", pos_counter.most_common())\n"
      ],
      "metadata": {
        "id": "pf-j-ddk7Omn",
        "colab": {
          "base_uri": "https://localhost:8080/"
        },
        "outputId": "c144a6b1-722e-4d1a-9f7b-38c6a5eb238f"
      },
      "execution_count": 18,
      "outputs": [
        {
          "output_type": "stream",
          "name": "stdout",
          "text": [
            "\n",
            "📈 POS Tag Frequency: [('NOUN', 20), ('PRON', 13), ('ADP', 12), ('X', 8), ('CCONJ', 8), ('VERB', 8), ('ADJ', 6), ('PUNCT', 6), ('PART', 2), ('AUX', 1), ('NUM', 1), ('SYM', 1), ('DET', 1), ('SCONJ', 1)]\n"
          ]
        }
      ]
    },
    {
      "cell_type": "code",
      "source": [
        "entity_counter = Counter()\n",
        "\n",
        "for text in df['Feed'].head():\n",
        "    doc = nlp(text)\n",
        "    for ent in doc.ents:\n",
        "        entity_counter[ent.type] += 1\n",
        "\n",
        "print(\"\\n📌 Entity Type Frequency:\", entity_counter)"
      ],
      "metadata": {
        "id": "1Hf1XuWb7ROQ",
        "colab": {
          "base_uri": "https://localhost:8080/"
        },
        "outputId": "392caff3-3beb-47c9-ae21-11b54340c248"
      },
      "execution_count": 19,
      "outputs": [
        {
          "output_type": "stream",
          "name": "stdout",
          "text": [
            "\n",
            "📌 Entity Type Frequency: Counter({'LOC': 3})\n"
          ]
        }
      ]
    },
    {
      "cell_type": "code",
      "source": [
        "# create doc for whole text once here then you can add if statements to check if doc exists in all the loops\n",
        "# actually I think they look over the text line by line so I'd need to combine all the logic. It's nice for cells\n",
        "# to be somewhat independent but I could combine logic if computation takes too long."
      ],
      "metadata": {
        "id": "oTK5txCU0qcH"
      },
      "execution_count": 20,
      "outputs": []
    },
    {
      "cell_type": "code",
      "source": [
        "# Add word/token counts\n",
        "def count_words(text):\n",
        "    doc = nlp(text)\n",
        "    return sum(len(sent.words) for sent in doc.sentences)\n",
        "\n",
        "df['word_count'] = df['Feed'].apply(count_words)\n",
        "df['char_count'] = df['Feed'].apply(len)"
      ],
      "metadata": {
        "id": "J6PtAfmQ8hGZ"
      },
      "execution_count": 21,
      "outputs": []
    },
    {
      "cell_type": "code",
      "source": [
        "# Plot\n",
        "import matplotlib.pyplot as plt\n",
        "df['word_count'].hist(bins=30)\n",
        "plt.title('توزيع عدد الكلمات')\n",
        "plt.show()"
      ],
      "metadata": {
        "colab": {
          "base_uri": "https://localhost:8080/",
          "height": 452
        },
        "id": "U6YEoke4-64V",
        "outputId": "0c6410f0-042b-483e-a245-bed5f7ae747e"
      },
      "execution_count": 22,
      "outputs": [
        {
          "output_type": "display_data",
          "data": {
            "text/plain": [
              "<Figure size 640x480 with 1 Axes>"
            ],
            "image/png": "[encoded data removed]"
          },
          "metadata": {}
        }
      ]
    },
    {
      "cell_type": "code",
      "source": [
        "# Plot\n",
        "plt.figure(figsize=(12, 5))\n",
        "sns.histplot(df['word_count'], bins=140, kde=True)\n",
        "plt.xlabel('Length of Text')\n",
        "plt.ylabel('Frequency')\n",
        "plt.title('Distribution of Word Counts')\n",
        "plt.show()"
      ],
      "metadata": {
        "colab": {
          "base_uri": "https://localhost:8080/",
          "height": 487
        },
        "id": "Krek1Lkb-DyL",
        "outputId": "2f125f12-7216-4a56-b2ec-15d04a0f6b10"
      },
      "execution_count": 23,
      "outputs": [
        {
          "output_type": "display_data",
          "data": {
            "text/plain": [
              "<Figure size 1200x500 with 1 Axes>"
            ],
            "image/png": "[encoded data removed]"
          },
          "metadata": {}
        }
      ]
    },
    {
      "cell_type": "code",
      "source": [
        "word_counter = Counter()\n",
        "\n",
        "for text in df['Feed']:\n",
        "    doc = nlp(text)\n",
        "    for sentence in doc.sentences:\n",
        "        for word in sentence.words:\n",
        "            word_counter[word.text] += 1  # Use word.lemma for root forms\n"
      ],
      "metadata": {
        "id": "AWBfHnWQ-gM5"
      },
      "execution_count": 24,
      "outputs": []
    },
    {
      "cell_type": "code",
      "source": [
        "# Convert to DataFrame\n",
        "word_freq_df = pd.DataFrame(word_counter.items(), columns=['word', 'count'])\n",
        "\n",
        "# Sort by frequency\n",
        "top_words = word_freq_df.sort_values(by='count', ascending=False).head(10)\n",
        "\n",
        "# Plot\n",
        "plt.figure(figsize=(10, 6))\n",
        "sns.barplot(data=top_words, x='count', y='word', palette='mako')\n",
        "plt.title(\"Top 10 Most Frequent Words\")\n",
        "plt.xlabel(\"Frequency\")\n",
        "plt.ylabel(\"Word\")\n",
        "plt.grid(axis='x')\n",
        "plt.show()\n"
      ],
      "metadata": {
        "colab": {
          "base_uri": "https://localhost:8080/",
          "height": 652
        },
        "id": "tMzoHj8f_aAJ",
        "outputId": "b54d05a6-0344-475f-c8f3-ba265b3b3278"
      },
      "execution_count": 25,
      "outputs": [
        {
          "output_type": "stream",
          "name": "stderr",
          "text": [
            "<ipython-input-25-e3a7ffc2209e>:9: FutureWarning: \n",
            "\n",
            "Passing `palette` without assigning `hue` is deprecated and will be removed in v0.14.0. Assign the `y` variable to `hue` and set `legend=False` for the same effect.\n",
            "\n",
            "  sns.barplot(data=top_words, x='count', y='word', palette='mako')\n"
          ]
        },
        {
          "output_type": "display_data",
          "data": {
            "text/plain": [
              "<Figure size 1000x600 with 1 Axes>"
            ],
            "image/png": "[encoded data removed]"
          },
          "metadata": {}
        }
      ]
    },
    {
      "cell_type": "code",
      "source": [
        "# Arabic stopwords (example list - replace with your own)\n",
        "# arabic_stopwords = set([\"في\", \"من\", \"إلى\", \"على\", \"أن\", \"هو\", \"هي\", \"ال\", \"و\", \"لا\"])\n",
        "from nltk.corpus import stopwords\n",
        "nltk.download('stopwords')\n",
        "arabic_stopwords = set(stopwords.words('arabic'))\n",
        "\n",
        "def get_words(text):\n",
        "    \"\"\"Extract and filter words using Stanza\"\"\"\n",
        "    doc = nlp(text)\n",
        "    words = []\n",
        "    for sentence in doc.sentences:\n",
        "        for word in sentence.words:\n",
        "            # Filter out stopwords and punctuation\n",
        "            if (word.text.lower() not in arabic_stopwords and\n",
        "                word.pos not in [\"PUNCT\", \"NUM\"]):  # Exclude numbers/punctuation\n",
        "                words.append(word.text)\n",
        "    return words\n",
        "\n",
        "# Process all texts\n",
        "all_words = []\n",
        "for text in df['Feed']:\n",
        "    all_words.extend(get_words(text))\n",
        "\n",
        "# Get top 20 frequent words\n",
        "word_freq = Counter(all_words).most_common(20)\n",
        "\n",
        "# Plot\n",
        "pd.DataFrame(word_freq, columns=['Word', 'Count']).plot.bar(x='Word', y='Count')\n",
        "plt.title('أكثر 20 كلمة تكراراً (باستخدام ستانزا)')\n",
        "plt.xticks(rotation=45)\n",
        "plt.tight_layout()\n",
        "plt.show()"
      ],
      "metadata": {
        "colab": {
          "base_uri": "https://localhost:8080/",
          "height": 522
        },
        "id": "pHOaFIO4_z4Z",
        "outputId": "ff6b815e-3126-48a4-94c6-0408b70d358a"
      },
      "execution_count": 26,
      "outputs": [
        {
          "output_type": "stream",
          "name": "stderr",
          "text": [
            "[nltk_data] Downloading package stopwords to /root/nltk_data...\n",
            "[nltk_data]   Unzipping corpora/stopwords.zip.\n"
          ]
        },
        {
          "output_type": "display_data",
          "data": {
            "text/plain": [
              "<Figure size 640x480 with 1 Axes>"
            ],
            "image/png": "[encoded data removed]"
          },
          "metadata": {}
        }
      ]
    },
    {
      "cell_type": "markdown",
      "source": [
        "# Sentinment Analysis using various Models"
      ],
      "metadata": {
        "id": "jrfCKWF12nwH"
      }
    },
    {
      "cell_type": "markdown",
      "source": [
        "Logistic Regression is commonly used to initially evaluate datasets. Implementation and runtime is quick and easy and can serve as a baseline model for classification tasks. Many other models can outperfom logistic regression with the proper training so models try to aim to beat the performance of logistic regressions in the early stages of development. Gridsearch is used to train the model with various hyperparameters and pick the most performant one."
      ],
      "metadata": {
        "id": "gUtkufex3aKl"
      }
    },
    {
      "cell_type": "markdown",
      "source": [
        "This model below is also run without any preprocessing. Any preprocessing we do below should aim to outperfrom the results of this model."
      ],
      "metadata": {
        "id": "90DsbwXC4WGL"
      }
    },
    {
      "cell_type": "code",
      "source": [
        "feature = df['Feed']\n",
        "target = df['Sentiment']\n",
        "# splitting into train and tests\n",
        "X_train, X_test, Y_train, Y_test = train_test_split(feature, target, test_size =.2, random_state=100)\n",
        "\n",
        "# make pipeline\n",
        "pipe = make_pipeline(TfidfVectorizer(),\n",
        "                    LogisticRegression())\n",
        "# make param grid\n",
        "param_grid = {'logisticregression__C': [0.01, 0.1, 1, 10, 100]}\n",
        "\n",
        "# create and fit the model\n",
        "model = GridSearchCV(pipe, param_grid, cv=5)\n",
        "model.fit(X_train,Y_train)\n",
        "\n",
        "# make prediction and print accuracy\n",
        "prediction = model.predict(X_test)\n",
        "print(f\"Accuracy score is {accuracy_score(Y_test, prediction):.2f}\")\n",
        "print(classification_report(Y_test, prediction))"
      ],
      "metadata": {
        "colab": {
          "base_uri": "https://localhost:8080/"
        },
        "id": "89BWfeKK2OZB",
        "outputId": "8de32ba3-a1ad-47c4-8216-6a47217f224c"
      },
      "execution_count": 27,
      "outputs": [
        {
          "output_type": "stream",
          "name": "stdout",
          "text": [
            "Accuracy score is 0.83\n",
            "              precision    recall  f1-score   support\n",
            "\n",
            "    Negative       0.86      0.78      0.82       176\n",
            "    Positive       0.81      0.88      0.84       184\n",
            "\n",
            "    accuracy                           0.83       360\n",
            "   macro avg       0.83      0.83      0.83       360\n",
            "weighted avg       0.83      0.83      0.83       360\n",
            "\n"
          ]
        }
      ]
    },
    {
      "cell_type": "markdown",
      "source": [
        "In order to demonstrate the power of all the preprocessing techniques shown above I'll demonstrate the results of just removing punctuation, Arabic diacritics, elongation, and stopwords (which is available in NLTK corpus)."
      ],
      "metadata": {
        "id": "aXOR4wh44m7T"
      }
    },
    {
      "cell_type": "code",
      "source": [
        "# first we define a list of arabic and english punctiations that we want to get rid of in our text\n",
        "\n",
        "punctuations = '''`÷×؛<>_()*&^%][ـ،/:\"؟.,'{}~¦+|!”…“–ـ''' + string.punctuation\n",
        "\n",
        "# Arabic stop words with nltk\n",
        "from nltk.corpus import stopwords\n",
        "nltk.download('stopwords')\n",
        "arabic_stopwords = set(stopwords.words('arabic'))\n",
        "\n",
        "arabic_diacritics = re.compile(\"\"\"\n",
        "                             ّ    | # Shadda\n",
        "                             َ    | # Fatha\n",
        "                             ً    | # Tanwin Fath\n",
        "                             ُ    | # Damma\n",
        "                             ٌ    | # Tanwin Damm\n",
        "                             ِ    | # Kasra\n",
        "                             ٍ    | # Tanwin Kasr\n",
        "                             ْ    | # Sukun\n",
        "                             ـ     # Tatwil/Kashida\n",
        "                         \"\"\", re.VERBOSE)\n",
        "\n",
        "def preprocess(text):\n",
        "\n",
        "    '''\n",
        "    text is an arabic string input\n",
        "\n",
        "    the preprocessed text is returned\n",
        "    '''\n",
        "\n",
        "    #remove punctuations\n",
        "    translator = str.maketrans('', '', punctuations)\n",
        "    text = text.translate(translator)\n",
        "\n",
        "    # remove Tashkeel\n",
        "    text = re.sub(arabic_diacritics, '', text)\n",
        "\n",
        "    #remove longation\n",
        "    text = re.sub(\"[إأآا]\", \"ا\", text)\n",
        "    text = re.sub(\"ى\", \"ي\", text)\n",
        "    text = re.sub(\"ؤ\", \"ء\", text)\n",
        "    text = re.sub(\"ئ\", \"ء\", text)\n",
        "    text = re.sub(\"ة\", \"ه\", text)\n",
        "    text = re.sub(\"گ\", \"ك\", text)\n",
        "\n",
        "    text = ' '.join(word for word in text.split() if word not in arabic_stopwords)\n",
        "\n",
        "    return text\n",
        "\n",
        "df_simple = df.copy()\n",
        "df_simple['Feed'] = df_simple['Feed'].apply(preprocess)\n",
        "print(df_simple.head(5))"
      ],
      "metadata": {
        "colab": {
          "base_uri": "https://localhost:8080/"
        },
        "id": "aOpcrRs45Lqj",
        "outputId": "240ae5dc-1a04-4b43-8a74-7ec38e303b43"
      },
      "execution_count": 28,
      "outputs": [
        {
          "output_type": "stream",
          "name": "stdout",
          "text": [
            "   ID                                               Feed Sentiment  \\\n",
            "0   1  اربد جامعات اكثر عمان وفيها عمان ونص لعيبه الم...  Positive   \n",
            "1   2   الحلو انكم بتحكوا علي اساس انو الاردن فساد سرقات  Negative   \n",
            "2   3                            كله راءع بجد ربنا يكرمك  Positive   \n",
            "3   4                                    لسانك قذر قمامه  Negative   \n",
            "4   5  ​انا داشره وغير متزوجه ولدي علاقات مشبوه واحشش...  Negative   \n",
            "\n",
            "   char_count  word_count  \n",
            "0         104          33  \n",
            "1          56          13  \n",
            "2          24           6  \n",
            "3          19           5  \n",
            "4         124          31  \n"
          ]
        },
        {
          "output_type": "stream",
          "name": "stderr",
          "text": [
            "[nltk_data] Downloading package stopwords to /root/nltk_data...\n",
            "[nltk_data]   Package stopwords is already up-to-date!\n"
          ]
        }
      ]
    },
    {
      "cell_type": "code",
      "source": [
        "df_simple.head()"
      ],
      "metadata": {
        "colab": {
          "base_uri": "https://localhost:8080/",
          "height": 206
        },
        "id": "p0FIRJms6UA2",
        "outputId": "95863eea-5b45-4c49-f40c-00cbedcb27e4"
      },
      "execution_count": 29,
      "outputs": [
        {
          "output_type": "execute_result",
          "data": {
            "text/plain": [
              "   ID                                               Feed Sentiment  \\\n",
              "0   1  اربد جامعات اكثر عمان وفيها عمان ونص لعيبه الم...  Positive   \n",
              "1   2   الحلو انكم بتحكوا علي اساس انو الاردن فساد سرقات  Negative   \n",
              "2   3                            كله راءع بجد ربنا يكرمك  Positive   \n",
              "3   4                                    لسانك قذر قمامه  Negative   \n",
              "4   5  ​انا داشره وغير متزوجه ولدي علاقات مشبوه واحشش...  Negative   \n",
              "\n",
              "   char_count  word_count  \n",
              "0         104          33  \n",
              "1          56          13  \n",
              "2          24           6  \n",
              "3          19           5  \n",
              "4         124          31  "
            ],
            "text/html": [
              "\n",
              "  <div id=\"df-1f04b4c2-79a2-479a-a32d-2301fb4dbd2c\" class=\"colab-df-container\">\n",
              "    <div>\n",
              "<style scoped>\n",
              "    .dataframe tbody tr th:only-of-type {\n",
              "        vertical-align: middle;\n",
              "    }\n",
              "\n",
              "    .dataframe tbody tr th {\n",
              "        vertical-align: top;\n",
              "    }\n",
              "\n",
              "    .dataframe thead th {\n",
              "        text-align: right;\n",
              "    }\n",
              "</style>\n",
              "<table border=\"1\" class=\"dataframe\">\n",
              "  <thead>\n",
              "    <tr style=\"text-align: right;\">\n",
              "      <th></th>\n",
              "      <th>ID</th>\n",
              "      <th>Feed</th>\n",
              "      <th>Sentiment</th>\n",
              "      <th>char_count</th>\n",
              "      <th>word_count</th>\n",
              "    </tr>\n",
              "  </thead>\n",
              "  <tbody>\n",
              "    <tr>\n",
              "      <th>0</th>\n",
              "      <td>1</td>\n",
              "      <td>اربد جامعات اكثر عمان وفيها عمان ونص لعيبه الم...</td>\n",
              "      <td>Positive</td>\n",
              "      <td>104</td>\n",
              "      <td>33</td>\n",
              "    </tr>\n",
              "    <tr>\n",
              "      <th>1</th>\n",
              "      <td>2</td>\n",
              "      <td>الحلو انكم بتحكوا علي اساس انو الاردن فساد سرقات</td>\n",
              "      <td>Negative</td>\n",
              "      <td>56</td>\n",
              "      <td>13</td>\n",
              "    </tr>\n",
              "    <tr>\n",
              "      <th>2</th>\n",
              "      <td>3</td>\n",
              "      <td>كله راءع بجد ربنا يكرمك</td>\n",
              "      <td>Positive</td>\n",
              "      <td>24</td>\n",
              "      <td>6</td>\n",
              "    </tr>\n",
              "    <tr>\n",
              "      <th>3</th>\n",
              "      <td>4</td>\n",
              "      <td>لسانك قذر قمامه</td>\n",
              "      <td>Negative</td>\n",
              "      <td>19</td>\n",
              "      <td>5</td>\n",
              "    </tr>\n",
              "    <tr>\n",
              "      <th>4</th>\n",
              "      <td>5</td>\n",
              "      <td>​انا داشره وغير متزوجه ولدي علاقات مشبوه واحشش...</td>\n",
              "      <td>Negative</td>\n",
              "      <td>124</td>\n",
              "      <td>31</td>\n",
              "    </tr>\n",
              "  </tbody>\n",
              "</table>\n",
              "</div>\n",
              "    <div class=\"colab-df-buttons\">\n",
              "\n",
              "  <div class=\"colab-df-container\">\n",
              "    <button class=\"colab-df-convert\" onclick=\"convertToInteractive('df-1f04b4c2-79a2-479a-a32d-2301fb4dbd2c')\"\n",
              "            title=\"Convert this dataframe to an interactive table.\"\n",
              "            style=\"display:none;\">\n",
              "\n",
              "  <svg xmlns=\"http://www.w3.org/2000/svg\" height=\"24px\" viewBox=\"0 -960 960 960\">\n",
              "    <path d=\"M120-120v-720h720v720H120Zm60-500h600v-160H180v160Zm220 220h160v-160H400v160Zm0 220h160v-160H400v160ZM180-400h160v-160H180v160Zm440 0h160v-160H620v160ZM180-180h160v-160H180v160Zm440 0h160v-160H620v160Z\"/>\n",
              "  </svg>\n",
              "    </button>\n",
              "\n",
              "  <style>\n",
              "    .colab-df-container {\n",
              "      display:flex;\n",
              "      gap: 12px;\n",
              "    }\n",
              "\n",
              "    .colab-df-convert {\n",
              "      background-color: #E8F0FE;\n",
              "      border: none;\n",
              "      border-radius: 50%;\n",
              "      cursor: pointer;\n",
              "      display: none;\n",
              "      fill: #1967D2;\n",
              "      height: 32px;\n",
              "      padding: 0 0 0 0;\n",
              "      width: 32px;\n",
              "    }\n",
              "\n",
              "    .colab-df-convert:hover {\n",
              "      background-color: #E2EBFA;\n",
              "      box-shadow: 0px 1px 2px rgba(60, 64, 67, 0.3), 0px 1px 3px 1px rgba(60, 64, 67, 0.15);\n",
              "      fill: #174EA6;\n",
              "    }\n",
              "\n",
              "    .colab-df-buttons div {\n",
              "      margin-bottom: 4px;\n",
              "    }\n",
              "\n",
              "    [theme=dark] .colab-df-convert {\n",
              "      background-color: #3B4455;\n",
              "      fill: #D2E3FC;\n",
              "    }\n",
              "\n",
              "    [theme=dark] .colab-df-convert:hover {\n",
              "      background-color: #434B5C;\n",
              "      box-shadow: 0px 1px 3px 1px rgba(0, 0, 0, 0.15);\n",
              "      filter: drop-shadow(0px 1px 2px rgba(0, 0, 0, 0.3));\n",
              "      fill: #FFFFFF;\n",
              "    }\n",
              "  </style>\n",
              "\n",
              "    <script>\n",
              "      const buttonEl =\n",
              "        document.querySelector('#df-1f04b4c2-79a2-479a-a32d-2301fb4dbd2c button.colab-df-convert');\n",
              "      buttonEl.style.display =\n",
              "        google.colab.kernel.accessAllowed ? 'block' : 'none';\n",
              "\n",
              "      async function convertToInteractive(key) {\n",
              "        const element = document.querySelector('#df-1f04b4c2-79a2-479a-a32d-2301fb4dbd2c');\n",
              "        const dataTable =\n",
              "          await google.colab.kernel.invokeFunction('convertToInteractive',\n",
              "                                                    [key], {});\n",
              "        if (!dataTable) return;\n",
              "\n",
              "        const docLinkHtml = 'Like what you see? Visit the ' +\n",
              "          '<a target=\"_blank\" href=https://colab.research.google.com/notebooks/data_table.ipynb>data table notebook</a>'\n",
              "          + ' to learn more about interactive tables.';\n",
              "        element.innerHTML = '';\n",
              "        dataTable['output_type'] = 'display_data';\n",
              "        await google.colab.output.renderOutput(dataTable, element);\n",
              "        const docLink = document.createElement('div');\n",
              "        docLink.innerHTML = docLinkHtml;\n",
              "        element.appendChild(docLink);\n",
              "      }\n",
              "    </script>\n",
              "  </div>\n",
              "\n",
              "\n",
              "    <div id=\"df-7f836111-87aa-4a09-9eed-f0614abdc1a7\">\n",
              "      <button class=\"colab-df-quickchart\" onclick=\"quickchart('df-7f836111-87aa-4a09-9eed-f0614abdc1a7')\"\n",
              "                title=\"Suggest charts\"\n",
              "                style=\"display:none;\">\n",
              "\n",
              "<svg xmlns=\"http://www.w3.org/2000/svg\" height=\"24px\"viewBox=\"0 0 24 24\"\n",
              "     width=\"24px\">\n",
              "    <g>\n",
              "        <path d=\"M19 3H5c-1.1 0-2 .9-2 2v14c0 1.1.9 2 2 2h14c1.1 0 2-.9 2-2V5c0-1.1-.9-2-2-2zM9 17H7v-7h2v7zm4 0h-2V7h2v10zm4 0h-2v-4h2v4z\"/>\n",
              "    </g>\n",
              "</svg>\n",
              "      </button>\n",
              "\n",
              "<style>\n",
              "  .colab-df-quickchart {\n",
              "      --bg-color: #E8F0FE;\n",
              "      --fill-color: #1967D2;\n",
              "      --hover-bg-color: #E2EBFA;\n",
              "      --hover-fill-color: #174EA6;\n",
              "      --disabled-fill-color: #AAA;\n",
              "      --disabled-bg-color: #DDD;\n",
              "  }\n",
              "\n",
              "  [theme=dark] .colab-df-quickchart {\n",
              "      --bg-color: #3B4455;\n",
              "      --fill-color: #D2E3FC;\n",
              "      --hover-bg-color: #434B5C;\n",
              "      --hover-fill-color: #FFFFFF;\n",
              "      --disabled-bg-color: #3B4455;\n",
              "      --disabled-fill-color: #666;\n",
              "  }\n",
              "\n",
              "  .colab-df-quickchart {\n",
              "    background-color: var(--bg-color);\n",
              "    border: none;\n",
              "    border-radius: 50%;\n",
              "    cursor: pointer;\n",
              "    display: none;\n",
              "    fill: var(--fill-color);\n",
              "    height: 32px;\n",
              "    padding: 0;\n",
              "    width: 32px;\n",
              "  }\n",
              "\n",
              "  .colab-df-quickchart:hover {\n",
              "    background-color: var(--hover-bg-color);\n",
              "    box-shadow: 0 1px 2px rgba(60, 64, 67, 0.3), 0 1px 3px 1px rgba(60, 64, 67, 0.15);\n",
              "    fill: var(--button-hover-fill-color);\n",
              "  }\n",
              "\n",
              "  .colab-df-quickchart-complete:disabled,\n",
              "  .colab-df-quickchart-complete:disabled:hover {\n",
              "    background-color: var(--disabled-bg-color);\n",
              "    fill: var(--disabled-fill-color);\n",
              "    box-shadow: none;\n",
              "  }\n",
              "\n",
              "  .colab-df-spinner {\n",
              "    border: 2px solid var(--fill-color);\n",
              "    border-color: transparent;\n",
              "    border-bottom-color: var(--fill-color);\n",
              "    animation:\n",
              "      spin 1s steps(1) infinite;\n",
              "  }\n",
              "\n",
              "  @keyframes spin {\n",
              "    0% {\n",
              "      border-color: transparent;\n",
              "      border-bottom-color: var(--fill-color);\n",
              "      border-left-color: var(--fill-color);\n",
              "    }\n",
              "    20% {\n",
              "      border-color: transparent;\n",
              "      border-left-color: var(--fill-color);\n",
              "      border-top-color: var(--fill-color);\n",
              "    }\n",
              "    30% {\n",
              "      border-color: transparent;\n",
              "      border-left-color: var(--fill-color);\n",
              "      border-top-color: var(--fill-color);\n",
              "      border-right-color: var(--fill-color);\n",
              "    }\n",
              "    40% {\n",
              "      border-color: transparent;\n",
              "      border-right-color: var(--fill-color);\n",
              "      border-top-color: var(--fill-color);\n",
              "    }\n",
              "    60% {\n",
              "      border-color: transparent;\n",
              "      border-right-color: var(--fill-color);\n",
              "    }\n",
              "    80% {\n",
              "      border-color: transparent;\n",
              "      border-right-color: var(--fill-color);\n",
              "      border-bottom-color: var(--fill-color);\n",
              "    }\n",
              "    90% {\n",
              "      border-color: transparent;\n",
              "      border-bottom-color: var(--fill-color);\n",
              "    }\n",
              "  }\n",
              "</style>\n",
              "\n",
              "      <script>\n",
              "        async function quickchart(key) {\n",
              "          const quickchartButtonEl =\n",
              "            document.querySelector('#' + key + ' button');\n",
              "          quickchartButtonEl.disabled = true;  // To prevent multiple clicks.\n",
              "          quickchartButtonEl.classList.add('colab-df-spinner');\n",
              "          try {\n",
              "            const charts = await google.colab.kernel.invokeFunction(\n",
              "                'suggestCharts', [key], {});\n",
              "          } catch (error) {\n",
              "            console.error('Error during call to suggestCharts:', error);\n",
              "          }\n",
              "          quickchartButtonEl.classList.remove('colab-df-spinner');\n",
              "          quickchartButtonEl.classList.add('colab-df-quickchart-complete');\n",
              "        }\n",
              "        (() => {\n",
              "          let quickchartButtonEl =\n",
              "            document.querySelector('#df-7f836111-87aa-4a09-9eed-f0614abdc1a7 button');\n",
              "          quickchartButtonEl.style.display =\n",
              "            google.colab.kernel.accessAllowed ? 'block' : 'none';\n",
              "        })();\n",
              "      </script>\n",
              "    </div>\n",
              "\n",
              "    </div>\n",
              "  </div>\n"
            ],
            "application/vnd.google.colaboratory.intrinsic+json": {
              "type": "dataframe",
              "variable_name": "df_simple",
              "summary": "{\n  \"name\": \"df_simple\",\n  \"rows\": 1800,\n  \"fields\": [\n    {\n      \"column\": \"ID\",\n      \"properties\": {\n        \"dtype\": \"number\",\n        \"std\": 519,\n        \"min\": 1,\n        \"max\": 1800,\n        \"num_unique_values\": 1800,\n        \"samples\": [\n          1592,\n          944,\n          870\n        ],\n        \"semantic_type\": \"\",\n        \"description\": \"\"\n      }\n    },\n    {\n      \"column\": \"Feed\",\n      \"properties\": {\n        \"dtype\": \"string\",\n        \"num_unique_values\": 1800,\n        \"samples\": [\n          \"\\u0648\\u0627\\u0644\\u0644\\u0647 \\u062d\\u0631\\u0627\\u0645 \\u0648\\u0627\\u0644\\u0644\\u0647 \\u0645\\u0648\\u062a\\u0648\\u0647 \\u0644\\u0634\\u0639\\u0628 \\u0627\\u0644\\u0627\\u0631\\u062f\\u0646\\u064a \\u0648\\u064a\\u0646 \\u0628\\u062f\\u0646\\u0627 \\u0646\\u062c\\u064a\\u0628 \\u0627\\u0644\\u0643\\u0648 \\u0648\\u064a\\u0646 \\u0627\\u0644\\u0644\\u0647 \\u0627\\u0631\\u062d\\u0645\\u0648 \\u0627\\u0644\\u0627\\u0631\\u0636 \\u064a\\u0631\\u062d\\u0645\\u0643\\u0645 \\u0627\\u0644\\u0633\\u0645\\u0627\\u0621 \\u0627\\u0644\\u0644\\u0647 \\u062d\\u0631\\u0627\\u0645\",\n          \"\\u0635\\u0628\\u0627\\u062d\\u0643 \\u0633\\u0639\\u064a\\u062f\",\n          \"\\u0634\\u062e\\u0635\\u064a\\u0647 \\u062a\\u0627\\u0641\\u0647\"\n        ],\n        \"semantic_type\": \"\",\n        \"description\": \"\"\n      }\n    },\n    {\n      \"column\": \"Sentiment\",\n      \"properties\": {\n        \"dtype\": \"category\",\n        \"num_unique_values\": 2,\n        \"samples\": [\n          \"Negative\",\n          \"Positive\"\n        ],\n        \"semantic_type\": \"\",\n        \"description\": \"\"\n      }\n    },\n    {\n      \"column\": \"char_count\",\n      \"properties\": {\n        \"dtype\": \"number\",\n        \"std\": 46,\n        \"min\": 6,\n        \"max\": 864,\n        \"num_unique_values\": 153,\n        \"samples\": [\n          93,\n          76\n        ],\n        \"semantic_type\": \"\",\n        \"description\": \"\"\n      }\n    },\n    {\n      \"column\": \"word_count\",\n      \"properties\": {\n        \"dtype\": \"number\",\n        \"std\": 10,\n        \"min\": 1,\n        \"max\": 185,\n        \"num_unique_values\": 54,\n        \"samples\": [\n          26,\n          185\n        ],\n        \"semantic_type\": \"\",\n        \"description\": \"\"\n      }\n    }\n  ]\n}"
            }
          },
          "metadata": {},
          "execution_count": 29
        }
      ]
    },
    {
      "cell_type": "markdown",
      "source": [],
      "metadata": {
        "id": "m-pZXWITcF-h"
      }
    },
    {
      "cell_type": "code",
      "source": [
        "feature = df_simple['Feed']\n",
        "target = df_simple['Sentiment']\n",
        "# splitting into train and tests\n",
        "X_train, X_test, Y_train, Y_test = train_test_split(feature, target, test_size =.2, random_state=100)\n",
        "\n",
        "# make pipeline\n",
        "pipe = make_pipeline(TfidfVectorizer(),\n",
        "                    LogisticRegression())\n",
        "# make param grid\n",
        "param_grid = {'logisticregression__C': [0.01, 0.1, 1, 10, 100]}\n",
        "\n",
        "# create and fit the model\n",
        "model = GridSearchCV(pipe, param_grid, cv=5)\n",
        "model.fit(X_train,Y_train)\n",
        "\n",
        "# make prediction and print accuracy\n",
        "prediction = model.predict(X_test)\n",
        "print(f\"Accuracy score is {accuracy_score(Y_test, prediction):.2f}\")\n",
        "print(classification_report(Y_test, prediction))"
      ],
      "metadata": {
        "colab": {
          "base_uri": "https://localhost:8080/"
        },
        "id": "M05xk3B06zYy",
        "outputId": "24c4da3e-296c-468d-d3ee-b7dd516a54d5"
      },
      "execution_count": 30,
      "outputs": [
        {
          "output_type": "stream",
          "name": "stdout",
          "text": [
            "Accuracy score is 0.82\n",
            "              precision    recall  f1-score   support\n",
            "\n",
            "    Negative       0.85      0.78      0.81       176\n",
            "    Positive       0.81      0.86      0.83       184\n",
            "\n",
            "    accuracy                           0.82       360\n",
            "   macro avg       0.83      0.82      0.82       360\n",
            "weighted avg       0.83      0.82      0.82       360\n",
            "\n"
          ]
        }
      ]
    },
    {
      "cell_type": "markdown",
      "source": [
        "This simple preprocessing step barely changes the results and this implies that the dataset is already very clean. Let us try more transformative text preprocessing."
      ],
      "metadata": {
        "id": "gXI0O3Ha8vaI"
      }
    },
    {
      "cell_type": "code",
      "source": [
        "nlp = stanza.Pipeline(lang='ar', processors='tokenize,lemma')"
      ],
      "metadata": {
        "colab": {
          "base_uri": "https://localhost:8080/",
          "height": 370,
          "referenced_widgets": [
            "b70a0cdf4ec04b1fa11c37709d43656d",
            "63682afec3be410e9020686f67840e45",
            "08847d76c0c6498b940a525f8416a52b",
            "fc301ba77c5042b29a030b6ce3d78943",
            "33ef5195b6414e599d3a8a6d6abbe448",
            "5067c42a8bd34cd0ac768bd0f05137ce",
            "3fb5b1b139e84f06aa2c97707467a878",
            "4341af576c38430d96f58df709fc8fab",
            "7f2cb8c24ae84dee868238d77da39864",
            "e767b3fac82743cfb43264afbf335398",
            "dd77bf6a8f614bd590a2ade47dc6fbb5"
          ]
        },
        "id": "QNRsVdbKQMhY",
        "outputId": "e7d2c520-a206-40c3-8f43-6bfd74c1a49e"
      },
      "execution_count": 31,
      "outputs": [
        {
          "output_type": "stream",
          "name": "stderr",
          "text": [
            "INFO:stanza:Checking for updates to resources.json in case models have been updated.  Note: this behavior can be turned off with download_method=None or download_method=DownloadMethod.REUSE_RESOURCES\n"
          ]
        },
        {
          "output_type": "display_data",
          "data": {
            "text/plain": [
              "Downloading https://raw.githubusercontent.com/stanfordnlp/stanza-resources/main/resources_1.10.0.json:   0%|  …"
            ],
            "application/vnd.jupyter.widget-view+json": {
              "version_major": 2,
              "version_minor": 0,
              "model_id": "b70a0cdf4ec04b1fa11c37709d43656d"
            }
          },
          "metadata": {}
        },
        {
          "output_type": "stream",
          "name": "stderr",
          "text": [
            "INFO:stanza:Downloaded file to /root/stanza_resources/resources.json\n",
            "WARNING:stanza:Language ar package default expects mwt, which has been added\n",
            "INFO:stanza:Loading these models for language: ar (Arabic):\n",
            "=============================\n",
            "| Processor | Package       |\n",
            "-----------------------------\n",
            "| tokenize  | padt          |\n",
            "| mwt       | padt          |\n",
            "| lemma     | padt_nocharlm |\n",
            "=============================\n",
            "\n",
            "INFO:stanza:Using device: cuda\n",
            "INFO:stanza:Loading: tokenize\n",
            "INFO:stanza:Loading: mwt\n",
            "INFO:stanza:Loading: lemma\n",
            "INFO:stanza:Done loading processors!\n"
          ]
        }
      ]
    },
    {
      "cell_type": "markdown",
      "source": [
        "This time we will use the lemmas given to use by the lemmatizer from stanza and see if the logistic regression model gives us better results."
      ],
      "metadata": {
        "id": "DyNu3nPqQtIA"
      }
    },
    {
      "cell_type": "code",
      "source": [
        "def lemmatize(text):\n",
        "    doc = nlp(text)\n",
        "    lemmas = []\n",
        "    for sentence in doc.sentences:\n",
        "        for word in sentence.words:\n",
        "            lemmas.append(word.lemma)\n",
        "    return ' '.join(lemmas)\n",
        "\n",
        "df['Lemmatized'] = df['Feed'].apply(lemmatize)"
      ],
      "metadata": {
        "id": "y8Li05rNQQZR"
      },
      "execution_count": 32,
      "outputs": []
    },
    {
      "cell_type": "code",
      "source": [
        "feature = df['Lemmatized']\n",
        "target = df['Sentiment']\n",
        "# splitting into train and tests\n",
        "X_train, X_test, Y_train, Y_test = train_test_split(feature, target, test_size =.2, random_state=100)\n",
        "\n",
        "# make pipeline\n",
        "pipe = make_pipeline(TfidfVectorizer(),\n",
        "                    LogisticRegression())\n",
        "# make param grid\n",
        "param_grid = {'logisticregression__C': [0.01, 0.1, 1, 10, 100]}\n",
        "\n",
        "# create and fit the model\n",
        "model = GridSearchCV(pipe, param_grid, cv=5)\n",
        "model.fit(X_train,Y_train)\n",
        "\n",
        "# make prediction and print accuracy\n",
        "prediction = model.predict(X_test)\n",
        "print(f\"Accuracy score is {accuracy_score(Y_test, prediction):.2f}\")\n",
        "print(classification_report(Y_test, prediction))"
      ],
      "metadata": {
        "colab": {
          "base_uri": "https://localhost:8080/"
        },
        "id": "40ZucBBoQnXr",
        "outputId": "46b5f2a0-71c6-4e5a-e7a8-e5b8e7fe2ce6"
      },
      "execution_count": 33,
      "outputs": [
        {
          "output_type": "stream",
          "name": "stdout",
          "text": [
            "Accuracy score is 0.76\n",
            "              precision    recall  f1-score   support\n",
            "\n",
            "    Negative       0.76      0.75      0.75       176\n",
            "    Positive       0.76      0.77      0.77       184\n",
            "\n",
            "    accuracy                           0.76       360\n",
            "   macro avg       0.76      0.76      0.76       360\n",
            "weighted avg       0.76      0.76      0.76       360\n",
            "\n"
          ]
        }
      ]
    },
    {
      "cell_type": "code",
      "source": [
        "df.at[df.index[0], 'Lemmatized']"
      ],
      "metadata": {
        "colab": {
          "base_uri": "https://localhost:8080/",
          "height": 35
        },
        "id": "9GK4Ub-WaTAh",
        "outputId": "f15aacb8-1466-4213-f687-d003f6aea301"
      },
      "execution_count": 34,
      "outputs": [
        {
          "output_type": "execute_result",
          "data": {
            "text/plain": [
              "'أَربَد فِي هُوَ جَامِعَة أَكثَر مِن عَمَّان . . . وَ فِي هُوَ قَد عَمَّان وِنصَ لِ عَيب هُوَ مُنتَخَب مِن هُوَ . . . وَ 80 % مِن مُطَرِّب أُردُنّ مِن هُوَ'"
            ],
            "application/vnd.google.colaboratory.intrinsic+json": {
              "type": "string"
            }
          },
          "metadata": {},
          "execution_count": 34
        }
      ]
    },
    {
      "cell_type": "markdown",
      "source": [
        "We notice that the lemmatized text actually performs worse than the non-lemmatized text. Let's investigate why.\n",
        "\n",
        "```\n",
        "Basic custom text Logistic Regression\n",
        "\n",
        "Accuracy score is 0.82\n",
        "              precision    recall  f1-score   support\n",
        "\n",
        "    Negative       0.85      0.78      0.81       176\n",
        "    Positive       0.81      0.86      0.83       184\n",
        "\n",
        "    accuracy                           0.82       360\n",
        "   macro avg       0.83      0.82      0.82       360\n",
        "weighted avg       0.83      0.82      0.82       360\n",
        "\n",
        "=====================================================\n",
        "\n",
        "Lemmatized Logistic Regression\n",
        "\n",
        "Accuracy score is 0.76\n",
        "    Negative       0.76      0.75      0.75       176\n",
        "    Positive       0.76      0.77      0.77       184\n",
        "\n",
        "    accuracy                           0.76       360\n",
        "   macro avg       0.76      0.76      0.76       360\n",
        "weighted avg       0.76      0.76      0.76       360\n",
        "```"
      ],
      "metadata": {
        "id": "vPRz9zyRaqwH"
      }
    },
    {
      "cell_type": "markdown",
      "source": [
        "Before we address the myriad of reasons why this unexpected behavior could be occuring, I want to explain why NLP data pipelines lemmatization.\n",
        "\n",
        "# Why We Use Lemmatization in NLP (And When It Helps or Hurts)\n",
        "\n",
        "Lemmatization is a fundamental text normalization technique in natural language processing, but its effectiveness depends on the specific application. Here's a comprehensive look at its purpose and trade-offs:\n",
        "\n",
        "## Core Purpose of Lemmatization\n",
        "\n",
        "1. **Word Form Consolidation**:\n",
        "   - Reduces inflectional forms to a common base (lemma)\n",
        "   - Example: \"running\", \"ran\", \"runs\" → \"run\"\n",
        "\n",
        "2. **Vocabulary Reduction**:\n",
        "   - Decreases feature space dimensionality by grouping variants\n",
        "   - Helps with data sparsity issues in statistical models\n",
        "\n",
        "3. **Semantic Normalization**:\n",
        "   - Connects different grammatical forms to the same concept\n",
        "   - Preserves meaning better than stemming (which just chops endings)\n",
        "\n",
        "## Where Lemmatization Helps Most\n",
        "\n",
        "### Beneficial Use Cases:\n",
        "1. **Information Retrieval**:\n",
        "   - Improves recall by matching query variants (\"swim\" finds \"swimming\")\n",
        "   - Search engines often use lemmatization internally\n",
        "\n",
        "2. **Topic Modeling**:\n",
        "   - Produces cleaner topics by grouping word forms\n",
        "   - LDA models benefit from reduced feature space\n",
        "\n",
        "3. **Machine Translation**:\n",
        "   - Helps align words across languages with different inflection patterns\n",
        "\n",
        "4. **Knowledge Graphs**:\n",
        "   - Creates cleaner entity representations by normalizing surface forms\n",
        "\n",
        "5. **Morphologically Rich Languages**:\n",
        "   - Especially valuable for languages like Arabic, German, or Russian with many inflections\n",
        "\n",
        "## When Lemmatization Can Hurt Performance\n",
        "\n",
        "1. **Context-Sensitive Tasks**:\n",
        "   - Sentiment analysis: \"This product *exceeds* expectations\" vs \"This product *exceeded* expectations\" may carry different strengths\n",
        "\n",
        "2. **Temporal Analysis**:\n",
        "   - Verb tenses matter in time-series text (e.g., earnings reports: \"will grow\" vs \"grew\")\n",
        "\n",
        "3. **Simple Models**:\n",
        "   - Linear models may lack capacity to exploit the cleaner but more abstract features\n",
        "\n",
        "4. **Short Text/Domain-Specific Jargon**:\n",
        "   - Technical terms or named entities often shouldn't be lemmatized\n",
        "\n",
        "5. **Feature-Starved Problems**:\n",
        "   - When you have limited training data, preserving original forms provides more signal\n",
        "\n",
        "## Technical Trade-offs\n",
        "\n",
        "| Aspect | With Lemmatization | Without Lemmatization |\n",
        "|--------|-------------------|-----------------------|\n",
        "| Feature Space | Smaller, denser | Larger, sparser |\n",
        "| Computational Cost | Higher preprocessing | Lower preprocessing |\n",
        "| Model Complexity | Works better with sophisticated models | Tolerable with simple models |\n",
        "| Context Preservation | Loses some surface form info | Maintains original distinctions |\n",
        "| Multilingual Support | Needs language-specific lemmatizers | Universally applicable |\n"
      ],
      "metadata": {
        "id": "1nNqhw2YeYqb"
      }
    },
    {
      "cell_type": "markdown",
      "source": [
        "# In our specific case we can identify multiple topics that attribute to our problem in this list below:\n",
        "\n",
        "## Simple Models\n",
        "In our scenario, our model is extremely simple and cannot learn abstract domains as well as more complicated models like Nueral Networks. Therefore, cleaner data where relationships could be found more easily could not be discovered. Cleaner data for logisitc regression might just mean the elimination of features.\n",
        "\n",
        "## Feature-Started Problems\n",
        "I only fed in IF-IDF data into our models. This lack of features makes it hard for the model to learn from so little data, and lemmatization removes even more data. Therefore the logisitc regression models perform worse in our scenario. Tweets are also very short so lemmatization removes sparsity that short-text classification relies upon.\n",
        "\n",
        "\n",
        "\n",
        "---\n"
      ],
      "metadata": {
        "id": "-1ZNRmnofLEv"
      }
    },
    {
      "cell_type": "markdown",
      "source": [
        "## ✅ Potential Solutions\n",
        "\n",
        "### ✅ 1. **Use the original `preprocess()` + lemmatized text combined**\n",
        "\n",
        "```python\n",
        "df['clean'] = df['Feed'].apply(preprocess)\n",
        "df['hybrid'] = df['clean'] + ' ' + df['Lemmatized']\n",
        "```\n",
        "\n",
        "Train on `df['hybrid']` — this gives the model:\n",
        "\n",
        "* Morphology-rich raw words\n",
        "* Generalized lemmas\n",
        "* Combined signals\n",
        "\n",
        "---\n",
        "\n",
        "### ✅ 2. **Character-level TF-IDF**\n",
        "\n",
        "Arabic morphology is rich. Try:\n",
        "\n",
        "```python\n",
        "TfidfVectorizer(analyzer='char_wb', ngram_range=(3,5))\n",
        "```\n",
        "\n",
        "This will help capture root patterns like \"سعيد\", \"سعيده\", \"سعداء\" etc.\n",
        "\n",
        "---\n",
        "\n",
        "### ✅ 3. **POS Filtering in Stanza**\n",
        "\n",
        "Only keep words with POS in `['ADJ', 'VERB', 'NOUN']` — usually most relevant to sentiment.\n",
        "\n",
        "Update the `lemmatize()` function to:\n",
        "\n",
        "```python\n",
        "def lemmatize(text):\n",
        "    doc = nlp(text)\n",
        "    lemmas = []\n",
        "    for sentence in doc.sentences:\n",
        "        for word in sentence.words:\n",
        "            if word.upos in ['ADJ', 'VERB', 'NOUN']:\n",
        "                lemmas.append(word.lemma)\n",
        "    return ' '.join(lemmas)\n",
        "```\n",
        "\n",
        "---\n",
        "\n",
        "### ✅ 4. **Try stemming instead of lemmatization**\n",
        "\n",
        "Use NLTK’s `ISRIStemmer` or the `ArabicLightStemmer` from `camel_tools` — they might preserve more sentiment features than lemmas.\n",
        "\n",
        "---\n"
      ],
      "metadata": {
        "id": "qdufLPMOiyPH"
      }
    },
    {
      "cell_type": "code",
      "source": [
        "nlp = stanza.Pipeline(lang='ar', processors='tokenize,lemma,pos')\n",
        "\n",
        "def lemmatize(text):\n",
        "    doc = nlp(text)\n",
        "    lemmas = []\n",
        "    for sentence in doc.sentences:\n",
        "        for word in sentence.words:\n",
        "            if word.upos in ['ADJ', 'VERB', 'NOUN']:\n",
        "                lemmas.append(word.lemma)\n",
        "    return ' '.join(lemmas)"
      ],
      "metadata": {
        "colab": {
          "base_uri": "https://localhost:8080/",
          "height": 405,
          "referenced_widgets": [
            "4349d7af9c4c4d49aaf98f01ba801059",
            "f6e7a677557c44bea9e3fad7c12ea6bd",
            "223905c148954533a97e4e69673dba51",
            "8002a33a352a422a8283cb3ce8fe2f48",
            "30bfd57ca9ee4094818a8bdfaf8cdd9b",
            "5a69c37a1d24442381821d52b722b942",
            "dca9706060b545659b5d3e326a2fe1ce",
            "4fbbcbaddb4b4ae789883b48bee6dc99",
            "17a3bbaeafc5475a87303747ce97b651",
            "127031a32e02408a8406fd3d06900084",
            "a8ad9617931a445ea869eaaa63698532"
          ]
        },
        "id": "MwTM91EUkjUK",
        "outputId": "1020e8fe-961e-4ff0-ab0d-6712e8b97113"
      },
      "execution_count": 35,
      "outputs": [
        {
          "output_type": "stream",
          "name": "stderr",
          "text": [
            "INFO:stanza:Checking for updates to resources.json in case models have been updated.  Note: this behavior can be turned off with download_method=None or download_method=DownloadMethod.REUSE_RESOURCES\n"
          ]
        },
        {
          "output_type": "display_data",
          "data": {
            "text/plain": [
              "Downloading https://raw.githubusercontent.com/stanfordnlp/stanza-resources/main/resources_1.10.0.json:   0%|  …"
            ],
            "application/vnd.jupyter.widget-view+json": {
              "version_major": 2,
              "version_minor": 0,
              "model_id": "4349d7af9c4c4d49aaf98f01ba801059"
            }
          },
          "metadata": {}
        },
        {
          "output_type": "stream",
          "name": "stderr",
          "text": [
            "INFO:stanza:Downloaded file to /root/stanza_resources/resources.json\n",
            "WARNING:stanza:Language ar package default expects mwt, which has been added\n",
            "INFO:stanza:Loading these models for language: ar (Arabic):\n",
            "=============================\n",
            "| Processor | Package       |\n",
            "-----------------------------\n",
            "| tokenize  | padt          |\n",
            "| mwt       | padt          |\n",
            "| pos       | padt_charlm   |\n",
            "| lemma     | padt_nocharlm |\n",
            "=============================\n",
            "\n",
            "INFO:stanza:Using device: cuda\n",
            "INFO:stanza:Loading: tokenize\n",
            "INFO:stanza:Loading: mwt\n",
            "INFO:stanza:Loading: pos\n",
            "INFO:stanza:Loading: lemma\n",
            "INFO:stanza:Done loading processors!\n"
          ]
        }
      ]
    },
    {
      "cell_type": "code",
      "source": [
        "df['clean'] = df['Feed'].apply(preprocess)\n",
        "df['lemmas'] = df['Feed'].apply(lemmatize)\n",
        "df['Hybrid'] = df['clean'] + ' ' + df['lemmas']\n"
      ],
      "metadata": {
        "id": "8VE61MwjkoNx"
      },
      "execution_count": 36,
      "outputs": []
    },
    {
      "cell_type": "code",
      "source": [
        "feature = df['Hybrid']\n",
        "target = df['Sentiment']\n",
        "\n",
        "X_train, X_test, y_train, y_test = train_test_split(\n",
        "    feature, target, test_size=0.2, random_state=100\n",
        ")\n",
        "\n",
        "# TF-IDF + Logistic Regression Pipeline\n",
        "pipe = make_pipeline(\n",
        "    TfidfVectorizer(),\n",
        "    LogisticRegression(max_iter=1000)\n",
        ")\n",
        "\n",
        "param_grid = {\n",
        "    'logisticregression__C': [0.01, 0.1, 1, 10, 100]\n",
        "}\n",
        "\n",
        "model = GridSearchCV(pipe, param_grid, cv=5)\n",
        "model.fit(X_train, y_train)\n",
        "\n",
        "# Evaluation\n",
        "y_pred = model.predict(X_test)\n",
        "print(f\"Accuracy score is {accuracy_score(y_test, y_pred):.2f}\")\n",
        "print(classification_report(y_test, y_pred))\n"
      ],
      "metadata": {
        "colab": {
          "base_uri": "https://localhost:8080/"
        },
        "id": "-lE1Tls-kx_H",
        "outputId": "c1a199c7-a285-41cf-aa3d-fcdb549d6c0f"
      },
      "execution_count": 37,
      "outputs": [
        {
          "output_type": "stream",
          "name": "stdout",
          "text": [
            "Accuracy score is 0.82\n",
            "              precision    recall  f1-score   support\n",
            "\n",
            "    Negative       0.85      0.77      0.81       176\n",
            "    Positive       0.80      0.87      0.83       184\n",
            "\n",
            "    accuracy                           0.82       360\n",
            "   macro avg       0.82      0.82      0.82       360\n",
            "weighted avg       0.82      0.82      0.82       360\n",
            "\n"
          ]
        }
      ]
    },
    {
      "cell_type": "markdown",
      "source": [
        "## Our accuracy score is back to the original model. This is good enough for now. There are more complicated models that have been proved to perform better on a wide variety of tasks, so spending time fine-tuning models would be better spend on other models. Let's try out other models!"
      ],
      "metadata": {
        "id": "nnoBSdd_oeb0"
      }
    },
    {
      "cell_type": "code",
      "source": [
        "pipe = make_pipeline(TfidfVectorizer(),\n",
        "                    RandomForestClassifier())\n",
        "\n",
        "param_grid = {'randomforestclassifier__n_estimators':[10, 100, 1000],\n",
        "             'randomforestclassifier__max_features':['sqrt', 'log2']}\n",
        "\n",
        "rf_model = GridSearchCV(pipe, param_grid, cv=5)\n",
        "rf_model.fit(X_train,Y_train)\n",
        "\n",
        "prediction = rf_model.predict(X_test)\n",
        "print(f\"Accuracy score is {accuracy_score(Y_test, prediction):.2f}\")\n",
        "print(classification_report(Y_test, prediction))"
      ],
      "metadata": {
        "colab": {
          "base_uri": "https://localhost:8080/"
        },
        "id": "eph8iv_SJOFa",
        "outputId": "dfd47218-65e4-4d48-ca1b-36157f83e527"
      },
      "execution_count": 38,
      "outputs": [
        {
          "output_type": "stream",
          "name": "stdout",
          "text": [
            "Accuracy score is 0.83\n",
            "              precision    recall  f1-score   support\n",
            "\n",
            "    Negative       0.85      0.80      0.82       176\n",
            "    Positive       0.82      0.86      0.84       184\n",
            "\n",
            "    accuracy                           0.83       360\n",
            "   macro avg       0.83      0.83      0.83       360\n",
            "weighted avg       0.83      0.83      0.83       360\n",
            "\n"
          ]
        }
      ]
    },
    {
      "cell_type": "code",
      "source": [
        "pipe = make_pipeline(TfidfVectorizer(),\n",
        "                    MultinomialNB())\n",
        "pipe.fit(X_train,Y_train)\n",
        "prediction = pipe.predict(X_test)\n",
        "print(f\"Accuracy score is {accuracy_score(Y_test, prediction):.2f}\")\n",
        "print(classification_report(Y_test, prediction))"
      ],
      "metadata": {
        "colab": {
          "base_uri": "https://localhost:8080/"
        },
        "id": "b9bQwDoGVyv_",
        "outputId": "4d77ce88-0510-416b-b0ca-f1fe676c43c6"
      },
      "execution_count": 39,
      "outputs": [
        {
          "output_type": "stream",
          "name": "stdout",
          "text": [
            "Accuracy score is 0.86\n",
            "              precision    recall  f1-score   support\n",
            "\n",
            "    Negative       0.92      0.77      0.84       176\n",
            "    Positive       0.81      0.93      0.87       184\n",
            "\n",
            "    accuracy                           0.86       360\n",
            "   macro avg       0.87      0.85      0.85       360\n",
            "weighted avg       0.86      0.86      0.85       360\n",
            "\n"
          ]
        }
      ]
    },
    {
      "cell_type": "code",
      "source": [
        "pipe = make_pipeline(TfidfVectorizer(),\n",
        "                     SVC())\n",
        "param_grid = {'svc__kernel': ['rbf', 'linear', 'poly'],\n",
        "             'svc__gamma': [0.1, 1, 10, 100],\n",
        "             'svc__C': [0.1, 1, 10, 100]}\n",
        "\n",
        "svc_model = GridSearchCV(pipe, param_grid, cv=3)\n",
        "svc_model.fit(X_train, Y_train)\n",
        "\n",
        "prediction = svc_model.predict(X_test)\n",
        "print(f\"Accuracy score is {accuracy_score(Y_test, prediction):.2f}\")\n",
        "print(classification_report(Y_test, prediction))"
      ],
      "metadata": {
        "colab": {
          "base_uri": "https://localhost:8080/"
        },
        "id": "chdgSFHGV2og",
        "outputId": "3788ffc5-b527-427d-db7e-784c2c0ae74b"
      },
      "execution_count": 40,
      "outputs": [
        {
          "output_type": "stream",
          "name": "stdout",
          "text": [
            "Accuracy score is 0.85\n",
            "              precision    recall  f1-score   support\n",
            "\n",
            "    Negative       0.85      0.84      0.84       176\n",
            "    Positive       0.85      0.85      0.85       184\n",
            "\n",
            "    accuracy                           0.85       360\n",
            "   macro avg       0.85      0.85      0.85       360\n",
            "weighted avg       0.85      0.85      0.85       360\n",
            "\n"
          ]
        }
      ]
    },
    {
      "cell_type": "markdown",
      "source": [
        "These ML models performed similarly and quickly. Naive Bayes was the winner by a small margin and it is also very fast to run. Depending on the purpose of your task, you might want to choose a model with higher precision or recall."
      ],
      "metadata": {
        "id": "EEZA8BUvWMIr"
      }
    },
    {
      "cell_type": "markdown",
      "source": [
        "Our next task would be to try to augment the data even further with words embeddings, bag of words, or word2vec. With high deminsional features, more complicated models like Recurrent Neural Networks (RNNs), Long Short-Term Memory (LSTM), Gated Recurrent Units (GRU), Transformer Models, Convolutional Neural Networks (CNNs). We will dicuss more advanced data augmentation/preprocessing techniques and more advanced models that are better equipped to leverage higher dimensional feature space in the next notebook. You can find it on my github:\n",
        "\n",
        "https://github.com/jhchang/Sentiment-Analysis-on-Arabic-Text"
      ],
      "metadata": {
        "id": "8fyJ9qM8XIt-"
      }
    },
    {
      "cell_type": "markdown",
      "source": [
        "Credit:\n",
        "- https://towardsdatascience.com/arabic-sentiment-analysis-5e21b77fb5ea/\n"
      ],
      "metadata": {
        "id": "b2cvxh84JR4E"
      }
    }
  ]
}