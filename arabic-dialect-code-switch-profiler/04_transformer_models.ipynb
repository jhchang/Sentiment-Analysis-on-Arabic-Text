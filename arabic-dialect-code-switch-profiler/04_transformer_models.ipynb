{
  "nbformat": 4,
  "nbformat_minor": 0,
  "metadata": {
    "colab": {
      "provenance": [],
      "gpuType": "T4",
      "authorship_tag": "ABX9TyOuAau5jrhNQGVwofVm7wJ6",
      "include_colab_link": true
    },
    "kernelspec": {
      "name": "python3",
      "display_name": "Python 3"
    },
    "language_info": {
      "name": "python"
    },
    "accelerator": "GPU"
  },
  "cells": [
    {
      "cell_type": "markdown",
      "metadata": {
        "id": "view-in-github",
        "colab_type": "text"
      },
      "source": [
        "<a href=\"https://colab.research.google.com/github/jhchang/Sentiment-Analysis-on-Arabic-Text/blob/main/arabic-dialect-code-switch-profiler/04_transformer_models.ipynb\" target=\"_parent\"><img src=\"https://colab.research.google.com/assets/colab-badge.svg\" alt=\"Open In Colab\"/></a>"
      ]
    },
    {
      "cell_type": "markdown",
      "source": [
        "# 📘 Arabic Dialect Classification with Transformer Models\n",
        "\n",
        "In this notebook, we fine-tune **state-of-the-art Arabic transformer models** for the task of **Arabic dialect identification** using the MADAR Corpus. This dataset includes short text samples labeled across **26 distinct Arabic dialects and MSA**, making it a challenging multiclass classification problem due to the high degree of lexical and syntactic similarity between dialects.\n",
        "\n",
        "---\n",
        "\n",
        "### 🎯 Objective\n",
        "\n",
        "Our goal is to improve upon traditional baselines (TF-IDF, MLP, Naive Bayes, SVM, CNN, BiLSTM) by leveraging **pretrained transformer models** that have been trained on large Arabic corpora. These models provide deep contextual understanding, especially valuable in:\n",
        "\n",
        "* ✅ Morphologically rich language like Arabic\n",
        "* ✅ Dialects with overlapping vocabulary\n",
        "* ✅ Short text sequences (≤16 tokens per sample)\n",
        "\n",
        "---\n",
        "\n",
        "### ⚙️ Why Use Transformers?\n",
        "\n",
        "Unlike traditional deep learning models, transformer-based architectures:\n",
        "\n",
        "* Use **multi-headed self-attention** to capture long-range and nuanced dependencies\n",
        "* Do not rely on sequential memory (unlike LSTMs or RNNs) thus capturing long-range dependencies\n",
        "* Offer **state-of-the-art results** on a variety of NLP tasks in Arabic, especially dialect classification\n",
        "* Pays **context-aware attention** to all words in the input\n",
        "* Provides **strong generalization** from limited data\n",
        "\n",
        "We focus on fine-tuning pretrained Arabic models such as:\n",
        "\n",
        "| Model         | Strength                                                | HF Model ID                        |\n",
        "| ------------- | ------------------------------------------------------- | ---------------------------------- |\n",
        "| **AraBERT**   | General-purpose Arabic (MSA + dialects) from news & web | `aubmindlab/bert-base-arabertv02`  |\n",
        "| **MARBERT**   | Dialect-heavy, trained on 1B+ Arabic tweets             | `UBC-NLP/MARBERT`                  |\n",
        "| **CAMeLBERT** | Focused on dialect classification and morphology        | `CAMeL-Lab/bert-base-camelbert-da` |\n",
        "\n",
        "---\n",
        "\n",
        "### 🧪 In This Notebook\n",
        "\n",
        "* ✅ Load and preprocess the MADAR dataset\n",
        "\n",
        "* ✅ Tokenize with the appropriate Hugging Face tokenizer\n",
        "\n",
        "* ✅ Fine-tune a transformer model on the training data\n",
        "\n",
        "* ✅ Evaluate performance using validation accuracy and confusion matrix\n",
        "\n",
        "* ✅ Compare results with previous non-transformer models"
      ],
      "metadata": {
        "id": "hBGfU2XByVrh"
      }
    },
    {
      "cell_type": "markdown",
      "source": [
        "---\n",
        "\n",
        "## 🇸🇦 Relevance to Saudi Vision 2030\n",
        "\n",
        "Accurate Arabic dialect classification supports several **Vision 2030** goals related to digital transformation, AI, and cultural preservation. In particular, it enables:\n",
        "\n",
        "* ✅ **Intelligent virtual assistants** and **chatbots** that understand local dialects, improving user engagement in government and private sector services.\n",
        "* ✅ **Voice recognition systems** adapted to regional Arabic varieties, essential for smart city initiatives and inclusive AI.\n",
        "* ✅ **Cultural analysis and content moderation** across social media platforms to ensure alignment with Saudi norms and sentiment.\n",
        "* ✅ Enhancements in **Arabic NLP infrastructure**, contributing to Saudi Arabia’s ambition to lead in Arabic AI research and development.\n",
        "\n",
        "This project reflects the growing need for **dialect-aware AI systems** that can operate effectively across the Arab world — a priority as the Kingdom expands its digital economy and AI capabilities.\n",
        "\n",
        "---\n"
      ],
      "metadata": {
        "id": "BAZKzf510XhA"
      }
    },
    {
      "cell_type": "markdown",
      "source": [
        "#What is a Transformer?\n",
        "\n",
        "In machine learning, a **transformer** is a type of **deep learning model architecture** introduced in the paper **\"Attention Is All You Need\"** by Vaswani et al. in 2017. It was originally designed for **natural language processing (NLP)** tasks, such as machine translation, but has since become a foundational architecture across many domains, including vision, audio, and reinforcement learning.\n",
        "\n",
        "![1_G0CAXQqb250tgBMeeVvN6g.webp](data:image/webp;base64,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)\n",
        "\n",
        "### Key Characteristics of Transformers:\n",
        "\n",
        "1. **Self-Attention Mechanism**:\n",
        "\n",
        "   * The core innovation of the transformer is the **self-attention** mechanism, which allows the model to weigh the importance of different words (or tokens) in a sequence relative to each other.\n",
        "   * For example, in the sentence \"The cat sat on the mat,\" the model can understand that \"cat\" is more relevant to \"sat\" than \"mat\" is.\n",
        "\n",
        "2. **Parallelization**:\n",
        "\n",
        "   * Unlike RNNs (recurrent neural networks), transformers process all tokens in a sequence **simultaneously**, not sequentially. This leads to much faster training times and better scalability.\n",
        "\n",
        "3. **Layered Architecture**:\n",
        "\n",
        "   * Transformers are composed of **stacked layers** that include:\n",
        "\n",
        "     * Multi-head self-attention\n",
        "     * Feed-forward neural networks\n",
        "     * Layer normalization\n",
        "     * Residual (skip) connections\n",
        "\n",
        "4. **Positional Encoding**:\n",
        "\n",
        "   * Since transformers don't have recurrence or convolution, they add **positional encodings** to input embeddings to retain information about the order of the tokens.\n",
        "\n",
        "Source: https://arxiv.org/pdf/1706.03762\n",
        "\n",
        "---\n",
        "\n",
        "### Applications:\n",
        "\n",
        "Transformers are the backbone of many state-of-the-art models, including:\n",
        "\n",
        "* **BERT** (Bidirectional Encoder Representations from Transformers)\n",
        "* **GPT** (Generative Pre-trained Transformer)\n",
        "* **T5**, **XLNet**, **RoBERTa**, etc.\n",
        "\n",
        "Beyond NLP, transformers are also used in:\n",
        "\n",
        "* **Computer vision** (e.g., Vision Transformers or ViTs)\n",
        "* **Audio processing**\n",
        "* **Reinforcement learning** (e.g., Decision Transformers)\n",
        "\n",
        "---"
      ],
      "metadata": {
        "id": "V8EYloEU5qsk"
      }
    },
    {
      "cell_type": "code",
      "execution_count": 16,
      "metadata": {
        "colab": {
          "base_uri": "https://localhost:8080/"
        },
        "id": "d8UMHvth8CDp",
        "outputId": "297d7a43-9935-4f3b-870d-2f72dc51ad4d"
      },
      "outputs": [
        {
          "output_type": "stream",
          "name": "stdout",
          "text": [
            "Drive already mounted at /content/drive; to attempt to forcibly remount, call drive.mount(\"/content/drive\", force_remount=True).\n"
          ]
        }
      ],
      "source": [
        "from google.colab import drive\n",
        "\n",
        "# Mount Google Drive\n",
        "drive.mount('/content/drive')"
      ]
    },
    {
      "cell_type": "code",
      "source": [
        "import zipfile\n",
        "from tqdm import tqdm\n",
        "import os\n",
        "\n",
        "zip_path = \"/content/drive/MyDrive/datasets/MADAR-SHARED-TASK-final-release-25Jul2019.zip\"\n",
        "extract_to = \"/content/MADAR/\"\n",
        "\n",
        "# Count the total number of files in the zip\n",
        "with zipfile.ZipFile(zip_path, 'r') as zip_ref:\n",
        "    total_files = len(zip_ref.infolist())\n",
        "\n",
        "    print(f\"📦 Unzipping {total_files} files to {extract_to}...\")\n",
        "\n",
        "    with tqdm(total=total_files, unit=\"files\") as pbar:\n",
        "        for file in zip_ref.infolist():\n",
        "            zip_ref.extract(member=file, path=extract_to)\n",
        "            pbar.update(1)\n",
        "\n",
        "print(\"✅ Unzip complete!\")"
      ],
      "metadata": {
        "colab": {
          "base_uri": "https://localhost:8080/"
        },
        "id": "OeUch87SvVp_",
        "outputId": "9fc25e66-df5c-46a9-83e6-a92564bf6c15"
      },
      "execution_count": 17,
      "outputs": [
        {
          "output_type": "stream",
          "name": "stdout",
          "text": [
            "📦 Unzipping 54 files to /content/MADAR/...\n"
          ]
        },
        {
          "output_type": "stream",
          "name": "stderr",
          "text": [
            "100%|██████████| 54/54 [00:00<00:00, 135.60files/s]"
          ]
        },
        {
          "output_type": "stream",
          "name": "stdout",
          "text": [
            "✅ Unzip complete!\n"
          ]
        },
        {
          "output_type": "stream",
          "name": "stderr",
          "text": [
            "\n"
          ]
        }
      ]
    },
    {
      "cell_type": "code",
      "source": [
        "import pandas as pd\n",
        "\n",
        "# Replace with your file path\n",
        "file_path = \"/content/MADAR/MADAR-SHARED-TASK-final-release-25Jul2019/MADAR-Shared-Task-Subtask-1/MADAR-Corpus-26-train.tsv\"\n",
        "file_path2 = \"/content/MADAR/MADAR-SHARED-TASK-final-release-25Jul2019/MADAR-Shared-Task-Subtask-1/MADAR-Corpus-26-dev.tsv\"\n",
        "file_path3 = \"/content/MADAR/MADAR-SHARED-TASK-final-release-25Jul2019/MADAR-Shared-Task-Subtask-1/MADAR-Corpus-26-test.tsv\"\n",
        "\n",
        "# Read TSV file into a DataFrame\n",
        "train_df = pd.read_csv(file_path, sep='\\t', header=None, names=['text', 'dialect'])\n",
        "val_df = pd.read_csv(file_path2, sep='\\t', header=None, names=['text', 'dialect'])\n",
        "test_df = pd.read_csv(file_path3, sep='\\t', header=None, names=['text', 'dialect'])"
      ],
      "metadata": {
        "id": "IjjZz4ZUEYDA"
      },
      "execution_count": 18,
      "outputs": []
    },
    {
      "cell_type": "code",
      "source": [
        "from sklearn.preprocessing import LabelEncoder\n",
        "\n",
        "le = LabelEncoder()\n",
        "train_df['label_id'] = le.fit_transform(train_df['dialect'])  # Integers\n",
        "# Save mapping if needed later\n",
        "label_mapping = dict(zip(le.classes_, le.transform(le.classes_)))\n",
        "\n",
        "val_df['label_id'] = val_df['dialect'].replace(label_mapping)\n",
        "test_df['label_id'] = test_df['dialect'].replace(label_mapping)\n",
        "\n",
        "\n",
        "print(label_mapping)  # e.g., {'MSA': 0, 'RIY': 1, 'BEI': 2, ...}\n",
        "\n",
        "# print(train_df['label_id'])\n",
        "# print(val_df['label_id'])\n",
        "# print(test_df['label_id'])"
      ],
      "metadata": {
        "colab": {
          "base_uri": "https://localhost:8080/"
        },
        "id": "zG_XY8hUSMju",
        "outputId": "755c143d-c275-4628-fca2-a6d4e3185e74"
      },
      "execution_count": 19,
      "outputs": [
        {
          "output_type": "stream",
          "name": "stdout",
          "text": [
            "{'ALE': np.int64(0), 'ALG': np.int64(1), 'ALX': np.int64(2), 'AMM': np.int64(3), 'ASW': np.int64(4), 'BAG': np.int64(5), 'BAS': np.int64(6), 'BEI': np.int64(7), 'BEN': np.int64(8), 'CAI': np.int64(9), 'DAM': np.int64(10), 'DOH': np.int64(11), 'FES': np.int64(12), 'JED': np.int64(13), 'JER': np.int64(14), 'KHA': np.int64(15), 'MOS': np.int64(16), 'MSA': np.int64(17), 'MUS': np.int64(18), 'RAB': np.int64(19), 'RIY': np.int64(20), 'SAL': np.int64(21), 'SAN': np.int64(22), 'SFX': np.int64(23), 'TRI': np.int64(24), 'TUN': np.int64(25)}\n"
          ]
        },
        {
          "output_type": "stream",
          "name": "stderr",
          "text": [
            "<ipython-input-19-a51a2b2ef640>:8: FutureWarning: Downcasting behavior in `replace` is deprecated and will be removed in a future version. To retain the old behavior, explicitly call `result.infer_objects(copy=False)`. To opt-in to the future behavior, set `pd.set_option('future.no_silent_downcasting', True)`\n",
            "  val_df['label_id'] = val_df['dialect'].replace(label_mapping)\n",
            "<ipython-input-19-a51a2b2ef640>:9: FutureWarning: Downcasting behavior in `replace` is deprecated and will be removed in a future version. To retain the old behavior, explicitly call `result.infer_objects(copy=False)`. To opt-in to the future behavior, set `pd.set_option('future.no_silent_downcasting', True)`\n",
            "  test_df['label_id'] = test_df['dialect'].replace(label_mapping)\n"
          ]
        }
      ]
    },
    {
      "cell_type": "markdown",
      "source": [
        "#CAMeLBERT\n",
        "\n",
        "A collection of 8 different BERT variant models trained on MSA, DA, and CA.\n",
        "\n",
        "| Model                                | Variant      | Size  | #Word   |\n",
        "|--------------------------------------|--------------|-------|---------|\n",
        "| bert-base-arabic-camelbert-mix       | CA,DA,MSA    | 167GB | 17.3B   |\n",
        "| bert-base-arabic-camelbert-ca        | CA           | 6GB   | 847M    |\n",
        "| bert-base-arabic-camelbert-da        | DA           | 54GB  | 5.8B    |\n",
        "| bert-base-arabic-camelbert-msa       | MSA          | 107GB | 12.6B   |\n",
        "| bert-base-arabic-camelbert-msa-half  | MSA          | 53GB  | 6.3B    |\n",
        "| bert-base-arabic-camelbert-msa-quarter | MSA        | 27GB  | 3.1B    |\n",
        "| bert-base-arabic-camelbert-msa-eighth | MSA        | 14GB  | 1.6B    |\n",
        "| bert-base-arabic-camelbert-msa-sixteenth | MSA     | 6GB   | 746M    |\n",
        "\n",
        "This model claims to be made with the intention to be fine-tuned on NLP tasks such as NER, POS tagging, sentiment analysis, dialect identification, and poetry classification.\n",
        "\n",
        "This model was trained and tested on a variety datasets included MADAR. They used F1 scores as a metric to compare results accross different datasets and while there are 26 classes, the F1-score did not seem high.\n",
        "\n",
        "🔔 My objective for this notebook is to apply transfer learning on their model and acheive a higher F1-score.\n",
        "\n",
        "| Dataset    | Variant | Mix   | CA    | DA    | MSA   | MSA-1/2 | MSA-1/4 | MSA-1/8 | MSA-1/16 |\n",
        "|------------|---------|-------|-------|-------|-------|---------|---------|---------|----------|\n",
        "| MADAR-26   | DA      | 62.9% | 61.9% | 61.8% | 62.6% | 62.0%   | 62.8%   | 62.0%   | 62.2%    |\n",
        "\n",
        "---\n",
        "\n",
        "⏰ I will first attempt to use their MSA-1/16 model for a couple reasons:\n",
        "- This model is lightweight (uses less resources and runs quicker)\n",
        "- This model performs at almost the same level compared to much more expensive versions of CAMeLBERT"
      ],
      "metadata": {
        "id": "rVgAoKkKScpc"
      }
    },
    {
      "cell_type": "markdown",
      "source": [
        "# Preprocessing for CAMeLBERT\n",
        "\n",
        "The model already includes a tokenizer that preprocesses for the model. In order not to disrupt previous learning from training on the base model, I'll feed raw data from datasets into this model and attempt not to augment any input data.\n",
        "\n",
        "The model uses a WordPiece tokenizer trained directly on Arabic text (including dialectal and MSA). The authors of the model use a AutoTokenizer from Hugging Face and they list these included preprocessing steps:\n",
        "- After extracting the raw text from each corpus, we apply the following pre-processing.\n",
        "- We first remove invalid characters and normalize white spaces using the utilities provided by the original BERT implementation.\n",
        "- We also remove lines without any Arabic characters.\n",
        "- We then remove diacritics and kashida using CAMeL Tools.\n",
        "- Finally, we split each line into sentences with a heuristics-based sentence segmenter.\n",
        "- We train a WordPiece tokenizer on the entire dataset (167 GB text) with a vocabulary size of 30,000 using HuggingFace's tokenizers.\n",
        "- We do not lowercase letters nor strip accents.\n",
        "\n",
        "https://huggingface.co/CAMeL-Lab/bert-base-arabic-camelbert-mix\n",
        "\n",
        "✏ Note: There is no Arabizi in the MADAR-26 dataset. If it possible to detect Arabic dialect from Arabizi text, I might be able to fine tune CAMeLBERT to detect dialects on Arabizi."
      ],
      "metadata": {
        "id": "IPLHibMDYzMr"
      }
    },
    {
      "cell_type": "markdown",
      "source": [
        "#Loading and testing CAMeLBERT"
      ],
      "metadata": {
        "id": "VYh3pWk8Y4Ts"
      }
    },
    {
      "cell_type": "code",
      "source": [
        "from transformers import AutoTokenizer, TFAutoModel\n",
        "\n",
        "# Load the 1/16th CAMeLBERT model (MSA)\n",
        "model_name = \"CAMeL-Lab/bert-base-arabic-camelbert-msa-sixteenth\"\n",
        "\n",
        "tokenizer = AutoTokenizer.from_pretrained(model_name)\n",
        "model = TFAutoModel.from_pretrained(model_name)\n",
        "sentence = \"أنا أحب تعلم الذكاء الاصطناعي\"\n",
        "inputs = tokenizer(sentence, return_tensors=\"tf\", padding=True, truncation=True)\n",
        "\n",
        "# View tokenized IDs\n",
        "print(inputs)"
      ],
      "metadata": {
        "colab": {
          "base_uri": "https://localhost:8080/"
        },
        "id": "GGiREzn9Nw5N",
        "outputId": "510d9b35-eaab-455e-8abb-cf0b4438c5cd"
      },
      "execution_count": 20,
      "outputs": [
        {
          "output_type": "stream",
          "name": "stderr",
          "text": [
            "All model checkpoint layers were used when initializing TFBertModel.\n",
            "\n",
            "All the layers of TFBertModel were initialized from the model checkpoint at CAMeL-Lab/bert-base-arabic-camelbert-msa-sixteenth.\n",
            "If your task is similar to the task the model of the checkpoint was trained on, you can already use TFBertModel for predictions without further training.\n",
            "Asking to truncate to max_length but no maximum length is provided and the model has no predefined maximum length. Default to no truncation.\n"
          ]
        },
        {
          "output_type": "stream",
          "name": "stdout",
          "text": [
            "{'input_ids': <tf.Tensor: shape=(1, 8), dtype=int32, numpy=\n",
            "array([[    2,  3897,  7699,  3698, 15878, 23721,  2203,     3]],\n",
            "      dtype=int32)>, 'token_type_ids': <tf.Tensor: shape=(1, 8), dtype=int32, numpy=array([[0, 0, 0, 0, 0, 0, 0, 0]], dtype=int32)>, 'attention_mask': <tf.Tensor: shape=(1, 8), dtype=int32, numpy=array([[1, 1, 1, 1, 1, 1, 1, 1]], dtype=int32)>}\n"
          ]
        }
      ]
    },
    {
      "cell_type": "markdown",
      "source": [
        "## 🧠 Key Concept\n",
        "\n",
        "### 🔹 The Base BERT Model\n",
        "\n",
        "The base CAMeLBERT model:\n",
        "\n",
        "* **Does not do classification by itself**\n",
        "* Only outputs **embeddings**: numerical representations of tokens (including the `[CLS]` token)\n",
        "* It has **no built-in softmax or labels** — it's like a feature extractor\n",
        "\n",
        "In order to do classification (even testing it), you **do need a classifier head.**\n",
        "\n",
        "Yes — you're absolutely right to be confused at first, and your intuition is spot on. Let me clarify everything step-by-step:\n",
        "\n",
        "---\n",
        "\n",
        "### 🅰️ Option 1: Just Test the Embeddings (No Training)\n",
        "\n",
        "1. Extract the cls (class) embeddings from each sentence\n",
        "2. Use those embeddings as features in a simple classifier like:\n",
        "\n",
        "   * Logistic Regression\n",
        "   * k-NN\n",
        "   * SVM\n",
        "3. Run classification with `sklearn` just to test how powerful the base model is\n",
        "\n",
        "---\n",
        "\n",
        " ### 🅱️ Option 2: Build a Classification Head\n",
        "\n",
        "* A full deep-learning model: BERT + classifier (usually a Dense layer)\n",
        "* Train it end-to-end using TensorFlow or Keras\n",
        "* Works well for preparing for a **fine-tuned final version**\n",
        "\n",
        "---\n",
        "\n",
        "We will go with Option 2 since the vast majority of state of the art models are deep neural networks."
      ],
      "metadata": {
        "id": "yolL7xlpOk8T"
      }
    },
    {
      "cell_type": "code",
      "source": [
        "import pandas as pd\n",
        "import numpy as np\n",
        "import tensorflow as tf\n",
        "from transformers import AutoTokenizer, TFAutoModel\n",
        "\n",
        "model_name = \"CAMeL-Lab/bert-base-arabic-camelbert-msa-sixteenth\"\n",
        "tokenizer = AutoTokenizer.from_pretrained(model_name)\n",
        "bert_model = TFAutoModel.from_pretrained(model_name)"
      ],
      "metadata": {
        "colab": {
          "base_uri": "https://localhost:8080/"
        },
        "id": "fGqltiPvR89f",
        "outputId": "681f87e0-96ee-4d1c-a226-be5a4bfc8db8"
      },
      "execution_count": 21,
      "outputs": [
        {
          "output_type": "stream",
          "name": "stderr",
          "text": [
            "All model checkpoint layers were used when initializing TFBertModel.\n",
            "\n",
            "All the layers of TFBertModel were initialized from the model checkpoint at CAMeL-Lab/bert-base-arabic-camelbert-msa-sixteenth.\n",
            "If your task is similar to the task the model of the checkpoint was trained on, you can already use TFBertModel for predictions without further training.\n"
          ]
        }
      ]
    },
    {
      "cell_type": "code",
      "source": [
        "from transformers import AutoTokenizer\n",
        "\n",
        "texts = train_df['text'].tolist()\n",
        "\n",
        "# Get token lengths for all sentences\n",
        "lengths = [len(tokenizer.encode(text)) for text in texts]\n",
        "\n",
        "# Key statistics\n",
        "print(f\"Max length: {max(lengths)}\")\n",
        "print(f\"95th percentile: {np.percentile(lengths, 95)}\")  # Helps avoid outliers\n",
        "print(f\"Mean length: {np.mean(lengths):.1f}\")"
      ],
      "metadata": {
        "colab": {
          "base_uri": "https://localhost:8080/"
        },
        "id": "VaAm3JEGZTFU",
        "outputId": "380104ad-8f22-4c91-9992-0253b3ac7839"
      },
      "execution_count": 22,
      "outputs": [
        {
          "output_type": "stream",
          "name": "stdout",
          "text": [
            "Max length: 62\n",
            "95th percentile: 20.0\n",
            "Mean length: 11.4\n"
          ]
        }
      ]
    },
    {
      "cell_type": "markdown",
      "source": [
        "We will choose a max token length to be 32 since it's a power of 2 and it covers the vast majority of our training data."
      ],
      "metadata": {
        "id": "PJmfVr04aNJd"
      }
    },
    {
      "cell_type": "code",
      "source": [
        "def df_to_dataset(df, tokenizer, max_length=128, batch_size=16):\n",
        "    # Tokenize all text entries\n",
        "    encodings = tokenizer(\n",
        "        df['text'].tolist(),\n",
        "        padding=True,\n",
        "        truncation=True,\n",
        "        max_length=max_length,\n",
        "        return_tensors=\"tf\"\n",
        "    )\n",
        "\n",
        "    # Labels as tensor\n",
        "    labels = tf.convert_to_tensor(df['label_id'].values, dtype=tf.int32)\n",
        "\n",
        "    # Create dataset\n",
        "    dataset = tf.data.Dataset.from_tensor_slices((\n",
        "        {\n",
        "            'input_ids': encodings['input_ids'],\n",
        "            'attention_mask': encodings['attention_mask']\n",
        "        },\n",
        "        labels\n",
        "    ))\n",
        "\n",
        "    return dataset.batch(batch_size).prefetch(tf.data.AUTOTUNE)\n"
      ],
      "metadata": {
        "id": "cW0VBCjKVMZf"
      },
      "execution_count": 23,
      "outputs": []
    },
    {
      "cell_type": "code",
      "source": [
        "train_dataset = df_to_dataset(train_df, tokenizer).shuffle(1000)\n",
        "val_dataset   = df_to_dataset(val_df, tokenizer)\n",
        "test_dataset  = df_to_dataset(test_df, tokenizer)"
      ],
      "metadata": {
        "id": "_NZtDpDpVPgk"
      },
      "execution_count": 28,
      "outputs": []
    },
    {
      "cell_type": "code",
      "source": [
        "from transformers import TFAutoModelForSequenceClassification, create_optimizer\n",
        "\n",
        "# Your model\n",
        "model = TFAutoModelForSequenceClassification.from_pretrained(\n",
        "    model_name,\n",
        "    num_labels=26\n",
        ")\n",
        "\n",
        "# Create optimizer with warmup\n",
        "batch_size = 32\n",
        "num_train_steps = len(train_df) // batch_size * 3  # 3 epochs\n",
        "optimizer, _ = create_optimizer(\n",
        "    init_lr=2e-5,\n",
        "    num_train_steps=num_train_steps,\n",
        "    num_warmup_steps=0\n",
        ")\n",
        "\n",
        "# Compile\n",
        "model.compile(\n",
        "    optimizer=optimizer,\n",
        "    loss='sparse_categorical_crossentropy',\n",
        "    metrics=['accuracy']\n",
        ")\n"
      ],
      "metadata": {
        "colab": {
          "base_uri": "https://localhost:8080/"
        },
        "id": "gFm92U2XbAbe",
        "outputId": "805595c8-b322-4127-d3ce-08f4804323f6"
      },
      "execution_count": 29,
      "outputs": [
        {
          "output_type": "stream",
          "name": "stderr",
          "text": [
            "All model checkpoint layers were used when initializing TFBertForSequenceClassification.\n",
            "\n",
            "Some layers of TFBertForSequenceClassification were not initialized from the model checkpoint at CAMeL-Lab/bert-base-arabic-camelbert-msa-sixteenth and are newly initialized: ['classifier']\n",
            "You should probably TRAIN this model on a down-stream task to be able to use it for predictions and inference.\n"
          ]
        }
      ]
    },
    {
      "cell_type": "code",
      "source": [
        "history = model.fit(\n",
        "    train_dataset,\n",
        "    validation_data=val_dataset,\n",
        "    epochs=3\n",
        ")"
      ],
      "metadata": {
        "colab": {
          "base_uri": "https://localhost:8080/"
        },
        "id": "g1URdGJOe7en",
        "outputId": "7e6cd009-e254-4928-bcb2-429ed7fbdb07"
      },
      "execution_count": 30,
      "outputs": [
        {
          "output_type": "stream",
          "name": "stdout",
          "text": [
            "Epoch 1/3\n",
            "2600/2600 [==============================] - 405s 135ms/step - loss: 8.4651 - accuracy: 0.0574 - val_loss: 4.1167 - val_accuracy: 0.1133\n",
            "Epoch 2/3\n",
            "2600/2600 [==============================] - 340s 131ms/step - loss: 4.9230 - accuracy: 0.0542 - val_loss: 4.5422 - val_accuracy: 0.0460\n",
            "Epoch 3/3\n",
            "2600/2600 [==============================] - 338s 130ms/step - loss: 4.6158 - accuracy: 0.0436 - val_loss: 4.5422 - val_accuracy: 0.0460\n"
          ]
        }
      ]
    },
    {
      "cell_type": "code",
      "source": [
        "model.evaluate(test_dataset)"
      ],
      "metadata": {
        "colab": {
          "base_uri": "https://localhost:8080/"
        },
        "id": "-yNl3q2IfBDm",
        "outputId": "a7af6d94-323d-453c-ab7b-4014dfc5116e"
      },
      "execution_count": 31,
      "outputs": [
        {
          "output_type": "stream",
          "name": "stdout",
          "text": [
            "325/325 [==============================] - 15s 46ms/step - loss: 4.5600 - accuracy: 0.0446\n"
          ]
        },
        {
          "output_type": "execute_result",
          "data": {
            "text/plain": [
              "[4.559985637664795, 0.04461538419127464]"
            ]
          },
          "metadata": {},
          "execution_count": 31
        }
      ]
    },
    {
      "cell_type": "code",
      "source": [
        "import matplotlib.pyplot as plt\n",
        "\n",
        "# Loss\n",
        "plt.plot(history.history['loss'], label='Train Loss')\n",
        "plt.plot(history.history['val_loss'], label='Val Loss')\n",
        "plt.legend()\n",
        "plt.title('Loss Over Epochs')\n",
        "plt.xlabel('Epoch')\n",
        "plt.ylabel('Loss')\n",
        "plt.show()"
      ],
      "metadata": {
        "colab": {
          "base_uri": "https://localhost:8080/",
          "height": 472
        },
        "id": "O2OCNXScgLua",
        "outputId": "dcb25a48-10f1-4c60-eea7-065d38f8bbb8"
      },
      "execution_count": 32,
      "outputs": [
        {
          "output_type": "display_data",
          "data": {
            "text/plain": [
              "<Figure size 640x480 with 1 Axes>"
            ],
            "image/png": "[encoded data removed]"
          },
          "metadata": {}
        }
      ]
    },
    {
      "cell_type": "markdown",
      "source": [
        "Loading the base model with TFAutoModelForSequenceClassification yielded very low accuracy. It took 20 minutes to run 3 epochs as well. Fine tuning this model might be very tricky to do. Unless there is something very wrong with the way I am loading this model or loading the data, then this model might be very difficult to trian. The original makers of this model did say that they used a Google Cloud TPU (v3-8) and it took them 4.5 days to pretrain a model. I am using a T4 GPU."
      ],
      "metadata": {
        "id": "Bfs-KY5sksEm"
      }
    },
    {
      "cell_type": "code",
      "source": [],
      "metadata": {
        "id": "6kUZFFWIknjQ"
      },
      "execution_count": null,
      "outputs": []
    }
  ]
}